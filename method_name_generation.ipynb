{
  "cells": [
    {
      "cell_type": "markdown",
      "source": [
        "# Method Name Generation with CodeT5+: A Case Study on IntelliJ Community\n",
        "\n",
        "This project explores enhancing code generation by predicting method names using CodeT5+, focusing on a large open-source project, IntelliJ Community. The process starts with extracting all methods from the project, forming a comprehensive dataset. Initially, the project tests the unfinetuned CodeT5+ model on this data to assess its baseline performance in predicting method names.\n",
        "\n",
        "Subsequently, the model undergoes fine-tuning with the specific dataset, aimed at improving its accuracy in method name prediction tailored to the Java code in IntelliJ Community. A comparative analysis follows, evaluating the model's performance before and after fine-tuning, with an emphasis on quality improvements.\n",
        "\n",
        "The project concludes by summarizing the findings and providing insights into the effectiveness of method name prediction as a method for enhancing code generation, especially in large open-source projects. It showcases the practical application of CodeT5+ in software development and explores machine learning's potential in code generation."
      ],
      "metadata": {
        "id": "8yTUgre_RFHj"
      },
      "id": "8yTUgre_RFHj"
    },
    {
      "cell_type": "markdown",
      "metadata": {
        "id": "2a4d88ea-7653-4a9d-b8f4-8aa916b790b8"
      },
      "source": [
        "## Istallation And Imports"
      ],
      "id": "2a4d88ea-7653-4a9d-b8f4-8aa916b790b8"
    },
    {
      "cell_type": "code",
      "execution_count": null,
      "metadata": {
        "id": "70ff4f19-3405-4562-97c4-10a5e1fd6dc4",
        "scrolled": true
      },
      "outputs": [],
      "source": [
        "%pip install torch\n",
        "%pip install git+https://github.com/huggingface/transformers\n",
        "%pip install datasets accelerate huggingface_hub\n",
        "%pip install tree-sitter\n",
        "%pip install GitPython\n",
        "%pip install rouge_score nltk\n",
        "%pip install tensorboard\n",
        "%pip install spacy\n",
        "%pip install Levenshtein\n",
        "%pip install Rouge\n",
        "%pip install evaluate"
      ],
      "id": "70ff4f19-3405-4562-97c4-10a5e1fd6dc4"
    },
    {
      "cell_type": "code",
      "execution_count": null,
      "metadata": {
        "id": "aa7f708e-cce2-49eb-a824-3c934a20c785"
      },
      "outputs": [],
      "source": [
        "import ast\n",
        "import lzma\n",
        "import math\n",
        "import os\n",
        "import pickle\n",
        "import re\n",
        "import requests\n",
        "from collections import Counter, defaultdict\n",
        "from io import BytesIO\n",
        "from statistics import mean\n",
        "from zipfile import ZipFile\n",
        "\n",
        "import numpy as np\n",
        "import pandas as pd\n",
        "from datasets import Dataset, DatasetDict, load_metric\n",
        "from git import Repo\n",
        "from nltk.translate.bleu_score import sentence_bleu, SmoothingFunction\n",
        "from sklearn.metrics import precision_score, recall_score, f1_score\n",
        "from sklearn.metrics.pairwise import cosine_similarity\n",
        "from sklearn.model_selection import train_test_split\n",
        "from tqdm import tqdm\n",
        "from transformers import (AutoModelForSeq2SeqLM, AutoTokenizer, DataCollatorForSeq2Seq,\n",
        "                          Seq2SeqTrainer, Seq2SeqTrainingArguments, T5ForConditionalGeneration)\n",
        "from tree_sitter import Language, Parser\n",
        "\n",
        "# External libraries for specific evaluations\n",
        "import evaluate\n",
        "import Levenshtein\n",
        "from rouge import Rouge\n"
      ],
      "id": "aa7f708e-cce2-49eb-a824-3c934a20c785"
    },
    {
      "cell_type": "code",
      "execution_count": null,
      "metadata": {
        "id": "qdrkGZ9QOMxo"
      },
      "outputs": [],
      "source": [
        "# from google.colab import drive\n",
        "# drive.mount('/content/drive')\n",
        "\n",
        "# # Uncomment the above lines if you are using Google Colab.\n",
        "# # These lines of code are used to mount your Google Drive,\n",
        "# # allowing you to access files from your Drive in the Colab environment.\n",
        "# # rewrite all directories then"
      ],
      "id": "qdrkGZ9QOMxo"
    },
    {
      "cell_type": "markdown",
      "metadata": {
        "id": "a66ddcc0-e932-488c-bdd7-5f86b923e4d6"
      },
      "source": [
        "## CodeT5+: description and first try"
      ],
      "id": "a66ddcc0-e932-488c-bdd7-5f86b923e4d6"
    },
    {
      "cell_type": "markdown",
      "metadata": {
        "id": "af492883-1a54-4e81-a7d7-0837728b887f"
      },
      "source": [
        "### Model description"
      ],
      "id": "af492883-1a54-4e81-a7d7-0837728b887f"
    },
    {
      "cell_type": "markdown",
      "source": [
        "CodeT5+ is an advanced open code language model with versatile modes (encoder-only, decoder-only, encoder-decoder) for various code-related tasks. Detailed in the paper \"CodeT5+: Open Code Large Language Models for Code Understanding and Generation,\" it surpasses its predecessor, CodeT5, by incorporating multiple pretraining tasks like span denoising and contrastive learning. It leverages pre-existing models like CodeGen for efficient scaling (2B, 6B, 16B sizes) and features a \"shallow encoder and deep decoder\" design. The model is further refined through instruction-tuning for natural language alignment, as per the Code Alpaca methodology."
      ],
      "metadata": {
        "id": "ZIWCsTQ3nXGI"
      },
      "id": "ZIWCsTQ3nXGI"
    },
    {
      "cell_type": "markdown",
      "metadata": {
        "id": "e6f70dd7-7ea2-4b44-bd92-0e05fba32570"
      },
      "source": [
        "### Very First Try"
      ],
      "id": "e6f70dd7-7ea2-4b44-bd92-0e05fba32570"
    },
    {
      "cell_type": "markdown",
      "source": [
        "\n",
        "The code snippet under involves selecting the \"Salesforce/codet5p-220m\" model checkpoint and initializing the `AutoTokenizer` from Hugging Face's Transformers library. `AutoTokenizer` is versatile, automatically identifying and loading appropriate tokenizers for various models like BERT and GPT. It ensures consistency with pre-trained models and manages special tokens and model-specific rules efficiently. The tokenization process involves creating token IDs and attention masks, which are crucial for the model's understanding and focus. The code then uses `T5ForConditionalGeneration` for tasks like text generation, differing from `transformers.T5Model`, which outputs raw hidden states. Finally, the model processes a Java function sample, demonstrating its code understanding and generation capabilities."
      ],
      "metadata": {
        "id": "nBvoaYGsnTTM"
      },
      "id": "nBvoaYGsnTTM"
    },
    {
      "cell_type": "code",
      "execution_count": null,
      "metadata": {
        "id": "1669ad64-dd0f-41e0-b8a4-c00a886fec58"
      },
      "outputs": [],
      "source": [
        "# Ensure GPU is available, otherwise use CPU\n",
        "device = \"cuda\" if torch.cuda.is_available() else \"cpu\"\n",
        "\n",
        "checkpoint = \"Salesforce/codet5p-220m\"\n",
        "\n",
        "# Load tokenizer and model\n",
        "tokenizer = AutoTokenizer.from_pretrained(checkpoint)\n",
        "model = T5ForConditionalGeneration.from_pretrained(checkpoint)\n",
        "\n",
        "# Move model to the device (GPU or CPU)\n",
        "model.to(device)\n",
        "\n",
        "java_function = \"public static int sumTwoNumbers(int a, int b){\"\n",
        "\n",
        "# Encoding and moving the tensor to the same device as the model\n",
        "encoding = tokenizer(java_function, return_tensors=\"pt\").to(device)\n",
        "encoding[\"decoder_input_ids\"] = encoding[\"input_ids\"].clone()\n",
        "\n",
        "# Generate the output\n",
        "outputs = model.generate(**encoding, max_length=750)\n",
        "\n",
        "# Decode and print the output\n",
        "print(tokenizer.decode(outputs[0], skip_special_tokens=True))"
      ],
      "id": "1669ad64-dd0f-41e0-b8a4-c00a886fec58"
    },
    {
      "cell_type": "markdown",
      "metadata": {
        "id": "cd7ff79e-2b10-4cc9-8012-4657f3511e38"
      },
      "source": [
        "Given the output generated by the model, which deviates significantly from the expected Java syntax and instead resembles a C-like language, it suggests a need for a more targeted approach, potentially using models with a larger number of parameters (770 million, 2 billion, etc., depending on computational resources). To address this, the next step involves collecting and preparing specific data that aligns more closely with our intended use case, which in this context is Java programming. This data preparation is crucial for fine-tuning the model to better suit our requirements for generating Java code."
      ],
      "id": "cd7ff79e-2b10-4cc9-8012-4657f3511e38"
    },
    {
      "cell_type": "markdown",
      "metadata": {
        "id": "f267b001-3a9f-47c5-bfc9-f1be58da8f41"
      },
      "source": [
        "## Data: Collection and Preprocessing"
      ],
      "id": "f267b001-3a9f-47c5-bfc9-f1be58da8f41"
    },
    {
      "cell_type": "markdown",
      "metadata": {
        "id": "af520bda-c3c5-47ff-97c9-f631b307e6fb"
      },
      "source": [
        "The first step is to clone the repository for the Java parser, 'tree-sitter-java', which is essential for analyzing Java source code."
      ],
      "id": "af520bda-c3c5-47ff-97c9-f631b307e6fb"
    },
    {
      "cell_type": "code",
      "execution_count": null,
      "metadata": {
        "id": "772ee692-6192-4a5e-b0c6-2add8b65bdc3"
      },
      "outputs": [],
      "source": [
        "# Cloning the 'tree-sitter-java' repository, essential for parsing Java source code.\n",
        "!git clone https://github.com/tree-sitter/tree-sitter-java.git"
      ],
      "id": "772ee692-6192-4a5e-b0c6-2add8b65bdc3"
    },
    {
      "cell_type": "markdown",
      "metadata": {
        "id": "9f2a7d70-817e-4dcc-aebd-263c9a218262"
      },
      "source": [
        "The next phase is to build the Java language parser. This is achieved by using the Language.build_library function to compile the parser, and then initializing it with Language and Parser objects from the Tree-sitter library. This setup is necessary for parsing Java files effectively."
      ],
      "id": "9f2a7d70-817e-4dcc-aebd-263c9a218262"
    },
    {
      "cell_type": "code",
      "execution_count": null,
      "metadata": {
        "id": "848145a7-9d99-4331-94dc-3e7702a4db2a"
      },
      "outputs": [],
      "source": [
        "# Load Java language parser\n",
        "Language.build_library('build/my-languages.so', ['tree-sitter-java'])\n",
        "JAVA_LANGUAGE = Language('build/my-languages.so', 'java')\n",
        "parser = Parser()\n",
        "parser.set_language(JAVA_LANGUAGE)"
      ],
      "id": "848145a7-9d99-4331-94dc-3e7702a4db2a"
    },
    {
      "cell_type": "markdown",
      "metadata": {
        "id": "023781ab-43e7-48b1-aaad-df0b88380d84"
      },
      "source": [
        "Here's a concise explanation of the node types for the method parser:\n",
        "\n",
        "\n",
        "\n",
        "*   **'identifier'**: The method's name, used for calling it in the code.\n",
        "*   **'formal_parameters'**: Arguments accepted by the method, specified in parentheses next to the method name.\n",
        "*   **'modifier'**: Keywords and annotations in Java that define method access levels and behaviors (e.g., public, private, @Override). Depending on the annotations present, this can be categorized as either 'modifiers' or 'modifier'.\n",
        "*   **'block'**: The method's code, enclosed in curly braces {}.\n",
        "*   **'type_identifier'**: The return type of the method, such as int, String, boolean.\n",
        "\n",
        "For primitive return types (instead of type identifier):\n",
        "*   **\"boolean_type\"**: Identifies boolean return types or parameters.\n",
        "*   **\"floating_point_type\"**: For floating-point numbers like float or double.\n",
        "*   **\"generic_type\"**: Used for methods involving generic types.\n",
        "*   **\"scoped_type_identifier\"**: Types with a scope, like inner classes or enums.\n",
        "*   **\"integral_type\"**: For integral types like int, long, byte.\n",
        "*   **\"void_type\"**: Indicates a void return type, with no value returned.\n",
        "\n",
        "The core of the code under involves two primary functions: extract_methods and parse_java_file.\n",
        "\n",
        "\n",
        "\n",
        "*   **extract_methods Function**: It recursively traverses the syntax tree of Java code, extracting information about each method_declaration. This includes identifier, formal_parameters, modifiers, block, type_identifier, and various primitive types. The function processes each node, capturing details in a structured method_info dictionary.\n",
        "*   **parse_java_file Function**: This function reads a Java file in different encodings, parses it to create a syntax tree, and uses extract_methods to extract method details. Each method's information includes the file path for reference.\n",
        "\n",
        "**NOTE:** In the event of an error, such as one related to C++ build tools, installing the latest version of Microsoft C++ Build Tools is suggested. This is often required for compiling language parsers and tools with native extensions."
      ],
      "id": "023781ab-43e7-48b1-aaad-df0b88380d84"
    },
    {
      "cell_type": "code",
      "execution_count": null,
      "metadata": {
        "id": "3453dfe4-4cbb-4c3a-96a5-e7b8350393ff"
      },
      "outputs": [],
      "source": [
        "# Function to recursively traverse the syntax tree\n",
        "def extract_methods(node):\n",
        "    methods = []\n",
        "    if node.type == 'method_declaration':\n",
        "        # Initializing a dictionary to store various method properties\n",
        "        method_info = {\n",
        "            'identifier': '',\n",
        "            'formal_parameters': '',\n",
        "            'modifiers': [],\n",
        "            'block': '',\n",
        "            'type_identifier': '',\n",
        "            \"boolean_type\": '',\n",
        "            \"floating_point_type\": '',\n",
        "            \"generic_type\": '',\n",
        "            \"scoped_type_identifier\": '',\n",
        "            \"integral_type\": '',\n",
        "            \"void_type\": ''\n",
        "        }\n",
        "\n",
        "        for child in node.children:\n",
        "            # Checking and extracting modifiers\n",
        "            if child.type == 'modifiers' or child.type == 'modifier':\n",
        "                # Extracting individual modifiers\n",
        "                for mod in child.children:\n",
        "                    method_info['modifiers'].append(mod.text.decode('utf8'))\n",
        "            elif child.type in ['block', 'formal_parameters', \"generic_type\", 'type_identifier',\n",
        "                                \"scoped_type_identifier\",\n",
        "                                'identifier', \"boolean_type\", \"floating_point_type\", \"integral_type\", \"void_type\"]:\n",
        "                # Storing other method details\n",
        "                method_info[child.type] = child.text.decode('utf8')\n",
        "\n",
        "        # Adding the collected method information to the methods list\n",
        "        methods.append(method_info)\n",
        "\n",
        "    # Recursively traversing child nodes to extract methods\n",
        "    for child in node.children:\n",
        "        methods.extend(extract_methods(child))\n",
        "\n",
        "    return methods\n",
        "\n",
        "\n",
        "# Function to parse a Java file\n",
        "def parse_java_file(file_path):\n",
        "    # Trying different encodings to read the file\n",
        "    encoding_to_try = ['utf-8', 'ISO-8859-1', 'windows-1252', 'utf-16']\n",
        "    for encoding in encoding_to_try:\n",
        "        try:\n",
        "            with open(file_path, 'r', encoding=encoding) as file:\n",
        "                source_code = file.read()\n",
        "            # Parsing the Java source code to a syntax tree\n",
        "            tree = parser.parse(bytes(source_code, \"utf8\"))\n",
        "            root_node = tree.root_node\n",
        "            # Extracting methods from the root node of the syntax tree\n",
        "            methods = extract_methods(root_node)\n",
        "\n",
        "            # Associating each extracted method with its source file path\n",
        "            for method in methods:\n",
        "                method['file_path'] = file_path\n",
        "\n",
        "            return methods\n",
        "        except UnicodeDecodeError:\n",
        "            # Trying next encoding if current one fails\n",
        "            continue\n",
        "    else:\n",
        "        # Raising an exception if all encoding attempts fail\n",
        "        raise Exception(\"Failed to decode file with tried encodings\")"
      ],
      "id": "3453dfe4-4cbb-4c3a-96a5-e7b8350393ff"
    },
    {
      "cell_type": "markdown",
      "source": [
        "In the following cell, I am cloning the IntelliJ Community repository from GitHub. This repository contains the source code of the IntelliJ IDEA, an integrated development environment written in Java. This repository is a large and comprehensive codebase that is ideal for my task.\n"
      ],
      "metadata": {
        "id": "_UdkvpCkYIse"
      },
      "id": "_UdkvpCkYIse"
    },
    {
      "cell_type": "code",
      "execution_count": null,
      "metadata": {
        "id": "cQV-lJtJrxJR"
      },
      "outputs": [],
      "source": [
        "# Cloning the IntelliJ Community repository for parsing and analysis.\n",
        "!git clone https://github.com/JetBrains/intellij-community.git"
      ],
      "id": "cQV-lJtJrxJR"
    },
    {
      "cell_type": "markdown",
      "metadata": {
        "id": "171ad192-355f-474f-a2e6-00820b6d5b92"
      },
      "source": [
        "The script systematically traverses the IntelliJ Community project directory, parsing every Java file found. Data extracted from each file is compiled into a DataFrame, ultimately saved as `java_methods.csv`. This CSV file forms a structured dataset of Java method information from the IntelliJ Community codebase, primed for subsequent analysis or machine learning applications."
      ],
      "id": "171ad192-355f-474f-a2e6-00820b6d5b92"
    },
    {
      "cell_type": "code",
      "execution_count": null,
      "metadata": {
        "id": "1985e246-1e3a-4014-b2bc-c40777961965"
      },
      "outputs": [],
      "source": [
        "# Collecting all .java files from the IntelliJ Community repository\n",
        "java_files = []\n",
        "for dir_path, dir_names, file_names in os.walk('intellij-community'):\n",
        "    # Adding paths of .java files to the list\n",
        "    java_files.extend([os.path.join(dir_path, file_name) for file_name in file_names if file_name.endswith(\".java\")])\n",
        "\n",
        "all_methods = []\n",
        "\n",
        "# Processing each Java file\n",
        "for file in tqdm(java_files, desc=\"Processing Java Files\"):\n",
        "    # Parsing each Java file to extract method information\n",
        "    methods_list = parse_java_file(file)\n",
        "    # Adding the extracted methods to the all_methods list\n",
        "    all_methods.extend(methods_list)\n",
        "\n",
        "# Create a DataFrame from the collected method information\n",
        "# Columns correspond to various attributes of the methods\n",
        "methods_df = pd.DataFrame(all_methods,\n",
        "                          columns=['identifier', 'formal_parameters', 'modifiers', 'block', 'type_identifier',\n",
        "                                   \"boolean_type\",\n",
        "                                   \"floating_point_type\", \"generic_type\", \"scoped_type_identifier\", \"integral_type\",\n",
        "                                   \"void_type\", 'file_path'])\n",
        "\n",
        "# Save the DataFrame containing all method information to a CSV file\n",
        "methods_df.to_csv('java_methods.csv')"
      ],
      "id": "1985e246-1e3a-4014-b2bc-c40777961965"
    },
    {
      "cell_type": "code",
      "source": [
        "import pandas as pd"
      ],
      "metadata": {
        "id": "ZXtzAQKibiyb"
      },
      "id": "ZXtzAQKibiyb",
      "execution_count": null,
      "outputs": []
    },
    {
      "cell_type": "code",
      "execution_count": null,
      "metadata": {
        "id": "8ee0d601-69a6-4423-8f15-6286186c51ad"
      },
      "outputs": [],
      "source": [
        "# Loading the previously parsed Java methods dataset from a CSV file\n",
        "# This step is efficient as it avoids reparsing the entire IntelliJ Community project every time (when parser part is commented)\n",
        "df = pd.read_csv('java_methods.csv')"
      ],
      "id": "8ee0d601-69a6-4423-8f15-6286186c51ad"
    },
    {
      "cell_type": "code",
      "execution_count": null,
      "metadata": {
        "id": "56aabdbb-629f-4488-9b15-c414ca168923"
      },
      "outputs": [],
      "source": [
        "df.head()"
      ],
      "id": "56aabdbb-629f-4488-9b15-c414ca168923"
    },
    {
      "cell_type": "markdown",
      "metadata": {
        "id": "8545f3bf-7d2d-4410-a12a-c5b9c21cab19"
      },
      "source": [
        "Let's delete first column that represents indices."
      ],
      "id": "8545f3bf-7d2d-4410-a12a-c5b9c21cab19"
    },
    {
      "cell_type": "code",
      "execution_count": null,
      "metadata": {
        "id": "8abd9ee1-b435-42f3-aa07-c0690c77a57e"
      },
      "outputs": [],
      "source": [
        "df = df.iloc[:, 1:]"
      ],
      "id": "8abd9ee1-b435-42f3-aa07-c0690c77a57e"
    },
    {
      "cell_type": "markdown",
      "source": [
        "For efficiency, we'll consolidate all non-null primitive type entries into the type_identifier column."
      ],
      "metadata": {
        "id": "fcozHyoyZ1TY"
      },
      "id": "fcozHyoyZ1TY"
    },
    {
      "cell_type": "code",
      "source": [
        "def find_type(row):\n",
        "    # Checking for non-null primitive types in the specified columns\n",
        "    columns = [\"boolean_type\", \"floating_point_type\", \"generic_type\", \"scoped_type_identifier\", \"integral_type\",\n",
        "               \"void_type\"]\n",
        "    for col in columns:\n",
        "        if pd.notna(row[col]):\n",
        "            # Return the first non-null primitive type found\n",
        "            return row[col]\n",
        "    # Return None if no non-null primitive types are found\n",
        "    return None\n",
        "\n",
        "\n",
        "# Updating the 'type_identifier' column in the DataFrame\n",
        "# This step consolidates all non-null primitive types into the 'type_identifier' column for convenience\n",
        "df['type_identifier'] = df.apply(\n",
        "    lambda row: find_type(row) if pd.isna(row['type_identifier']) else row['type_identifier'], axis=1)\n",
        "\n",
        "# Defining the columns to be removed from the DataFrame\n",
        "columns_to_remove = [\"boolean_type\", \"floating_point_type\", \"generic_type\", \"scoped_type_identifier\", \"integral_type\",\n",
        "                     \"void_type\"]\n",
        "\n",
        "# Removing the specified columns from the DataFrame\n",
        "df.drop(columns=columns_to_remove, inplace=True)"
      ],
      "metadata": {
        "id": "a__nC1RUxGdi"
      },
      "id": "a__nC1RUxGdi",
      "execution_count": null,
      "outputs": []
    },
    {
      "cell_type": "markdown",
      "metadata": {
        "id": "4c7f5030-3111-4740-808d-6ab217bc0579"
      },
      "source": [
        "Some features in our dataset might have NaN values, each indicating different scenarios:\n",
        "\n",
        "Method without Type Identifier:\n",
        "*   **Constructor:** Constructors are unique methods without a return type. They initialize new objects, bear the same name as the class, and cannot have a return type.\n",
        "*   **Lambda Expressions (Java 8+)**: Lambda expressions, introduced in Java 8, provide implementations for functional interfaces. They lack a traditional return type identifier, consisting only of parameters, an arrow token (->), and a body.\n",
        "\n",
        "Method without Block of Code:\n",
        "\n",
        "*   **Abstract Methods**: In abstract classes or interfaces, abstract methods are declared without an implementation, hence no code block.\n",
        "*   **Native Methods**: These methods, marked with the native keyword, are implemented in a non-Java language (e.g., C or C++), and do not contain a Java code block.\n",
        "*   **Default Methods in Interfaces (Java 8+)**: Default methods in interfaces may have an empty body, allowing optional overriding by implementing classes.\n",
        "\n",
        "Let's retain abstract methods and attempt to predict their identifier using other features, excluding the block of code.\n",
        "\n",
        "**NOTE**: In rare cases, some methods might appear without identifiers, possibly due to parser limitations. This requires further analysis and refined parsing techniques."
      ],
      "id": "4c7f5030-3111-4740-808d-6ab217bc0579"
    },
    {
      "cell_type": "code",
      "source": [
        "def check_not_empty(row):\n",
        "    # Check if \"block\" is not empty '{}' and not null, unless the method is abstract\n",
        "    # Abstract methods are allowed to have empty or null blocks\n",
        "    if (row['block'] == '{}' or row['block'] == \"{\\n }\" or pd.isna(row['block'])) and 'abstract' not in row[\n",
        "        'modifiers']:\n",
        "        return False\n",
        "\n",
        "    # Ensure that \"type_identifier\" is not null or empty\n",
        "    # This field is crucial except for constructors and lambda expressions\n",
        "    if pd.isna(row['type_identifier']) or row['type_identifier'] == '':\n",
        "        return False\n",
        "\n",
        "    # Ensure that \"identifier\" (method name) is not null or empty\n",
        "    # Every method should have a name, though rare exceptions might occur\n",
        "    if pd.isna(row['identifier']) or row['identifier'] == '':\n",
        "        return False\n",
        "\n",
        "    # Ensure that \"modifiers\" is not an empty list or null\n",
        "    # Modifiers are important for understanding the method's properties\n",
        "    if row['modifiers'] == '[]' or row['modifiers'] == [] or pd.isna(row['modifiers']):\n",
        "        return False\n",
        "\n",
        "    # If all checks are passed, the row is valid\n",
        "    return True\n",
        "\n",
        "\n",
        "# Applying the function to each row to filter the DataFrame\n",
        "# Retains only the rows where check_not_empty returns True\n",
        "df = df[df.apply(check_not_empty, axis=1)]"
      ],
      "metadata": {
        "id": "VoISicaL7qN8"
      },
      "id": "VoISicaL7qN8",
      "execution_count": null,
      "outputs": []
    },
    {
      "cell_type": "code",
      "execution_count": null,
      "metadata": {
        "id": "43ca94ab-a51b-4ea6-ba8d-3412f26f923b"
      },
      "outputs": [],
      "source": [
        "df.shape"
      ],
      "id": "43ca94ab-a51b-4ea6-ba8d-3412f26f923b"
    },
    {
      "cell_type": "markdown",
      "metadata": {
        "id": "dfa6e191-3a51-47c7-8189-cd60ac3e67b6"
      },
      "source": [
        "Now, let's merge all parsed method components into complete method codes, replacing each method's name with ```<extra_id_0>```. `full_code` will serve as our input.\n",
        "\n",
        "The token ```<extra_id_0>``` is used as a placeholder in the method code to replace the original method names. This is part of a common technique in sequence-to-sequence language models, especially in tasks like translation, summarization, and, in this case, code generation."
      ],
      "id": "dfa6e191-3a51-47c7-8189-cd60ac3e67b6"
    },
    {
      "cell_type": "code",
      "execution_count": null,
      "metadata": {
        "id": "1146b9b5-445b-49c6-ade6-3bf1ced1bc33"
      },
      "outputs": [],
      "source": [
        "def full_code_feature(row):\n",
        "    identifier = \"<extra_id_0>\"\n",
        "    type_id = row['type_identifier']\n",
        "    params = row['formal_parameters']\n",
        "\n",
        "    # Converting the string representation of modifiers list back to a list data type\n",
        "    modifiers_list = ast.literal_eval(row['modifiers'])\n",
        "    decorators = [mod for mod in modifiers_list if mod.startswith('@')]\n",
        "    other_mods = [mod for mod in modifiers_list if not mod.startswith('@')]\n",
        "\n",
        "    # Formatting the decorators to appear on separate lines\n",
        "    formatted_decorators = '\\n'.join(decorators).replace(\"'\", \"\")\n",
        "    # Formatting other modifiers to appear on the same line\n",
        "    formatted_other_mods = ' '.join(other_mods).replace(\"'\", \"\").replace(\",\", \"\")\n",
        "\n",
        "    # Cleaning the block of code from comments\n",
        "    block = row['block']\n",
        "    block = re.sub(r'/\\*.*?\\*/', '', str(block), flags=re.DOTALL)  # Removing block comments\n",
        "    block = re.sub(r'//.*?\\n', '', block)  # Removing line comments\n",
        "\n",
        "    # Constructing the full method code with new lines for readability\n",
        "    return f\"{formatted_decorators}\\n{formatted_other_mods} {type_id} {identifier}{params} {block}\"\n",
        "\n",
        "\n",
        "# Applying the function to each row to generate the full method code\n",
        "df['full_code'] = df.apply(full_code_feature, axis=1)"
      ],
      "id": "1146b9b5-445b-49c6-ade6-3bf1ced1bc33"
    },
    {
      "cell_type": "markdown",
      "metadata": {
        "id": "70802a34-3a7b-4b89-834d-c9d73fd00527"
      },
      "source": [
        "I am going to verify the correctness of the formatted code for the first 10 entries in the dataset."
      ],
      "id": "70802a34-3a7b-4b89-834d-c9d73fd00527"
    },
    {
      "cell_type": "code",
      "execution_count": null,
      "metadata": {
        "id": "55697177-8b7b-44dc-9d88-7caebcfc122c",
        "scrolled": true
      },
      "outputs": [],
      "source": [
        "# Displaying the full method code for the first 10 instances in the DataFrame\n",
        "for instance_index in range(10):\n",
        "    print(df.iloc[instance_index, :].full_code)"
      ],
      "id": "55697177-8b7b-44dc-9d88-7caebcfc122c"
    },
    {
      "cell_type": "markdown",
      "metadata": {
        "id": "0c7e01d5-da0c-4db8-a66d-e136e0af06f6"
      },
      "source": [
        "The code appears to be correctly formatted. Next, I will focus on the following stages on Defining Metrics, Tokenizing Data, Evaluating the Unfinetuned Model."
      ],
      "id": "0c7e01d5-da0c-4db8-a66d-e136e0af06f6"
    },
    {
      "cell_type": "markdown",
      "source": [
        "## Unfinetuned Model Test: Metrics, Data Tokenization, Unfinetuned Model Evaluation"
      ],
      "metadata": {
        "id": "EuT8aj9penJM"
      },
      "id": "EuT8aj9penJM"
    },
    {
      "cell_type": "markdown",
      "source": [
        "### Metrics"
      ],
      "metadata": {
        "id": "vrYIxxyinLZN"
      },
      "id": "vrYIxxyinLZN"
    },
    {
      "cell_type": "markdown",
      "metadata": {
        "id": "d9de1673-2b1b-49bd-a457-fe7a380a3e39"
      },
      "source": [
        "This task - generating of identifiers from method blocks, is a text-to-text generation challenge. It involves converting input text into a different output text form. For evaluation, several metrics are considered:\n",
        "*   **Accuracy**: Assesses how accurately the generated text matches the expected output.\n",
        "*   **ROUGE (Recall-Oriented Understudy for Gisting Evaluation)** Score: Often used in summarization, it emphasizes word recall, making it suitable for generating precise and meaningful method names.\n",
        "*   **Levenshtein Distance (Edit Distance)**: This metric calculates the number of single-character edits needed to transform one word into another, helping to gauge the closeness of generated method names to the expected ones.\n",
        "*   **Semantic Similarity**: This metric calculates the semantic similarity between the predicted method names and the actual labels.\n",
        "\n",
        "These metrics provide a comprehensive framework for evaluating the effectiveness of the model in generating accurate and relevant method names."
      ],
      "id": "d9de1673-2b1b-49bd-a457-fe7a380a3e39"
    },
    {
      "cell_type": "markdown",
      "source": [
        "#### Accuracy"
      ],
      "metadata": {
        "id": "S1Paax2LidZd"
      },
      "id": "S1Paax2LidZd"
    },
    {
      "cell_type": "markdown",
      "source": [
        "We have functions to evaluate our model's prediction accuracy in generating method names, handling camelCase conventions:\n",
        "*   `split_camel_case`: Splits camelCase names into lowercase subwords for comparison.\n",
        "*   `calculate_matches`: Counts matching subwords between predictions and actual names, regardless of their order.\n",
        "*   `calculate_accuracy`: Calculates overall accuracy based on the number of matching subwords.\n",
        "\n",
        "These functions ensure accurate assessment even when predicted words are in a different order or case from the actual names (e.g., comparing 'methodName' with 'nameMethod')."
      ],
      "metadata": {
        "id": "LH4pzWU_nFT3"
      },
      "id": "LH4pzWU_nFT3"
    },
    {
      "cell_type": "code",
      "source": [
        "# Helper function to split camelCase into subwords\n",
        "def split_camel_case(name):\n",
        "    # Regular expression to identify subwords in camelCase\n",
        "    matches = re.finditer('.+?(?:(?<=[a-z])(?=[A-Z])|(?<=[A-Z])(?=[A-Z][a-z])|$)', name)\n",
        "    # Returning the found subwords in lowercase\n",
        "    return [m.group(0).lower() for m in matches]\n",
        "\n",
        "\n",
        "def calculate_matches(labels, predictions):\n",
        "    \"\"\"Calculate the number of matching words.\"\"\"\n",
        "    total_matches = 0\n",
        "    total_subwords = 0\n",
        "\n",
        "    for label, prediction in zip(labels, predictions):\n",
        "        # Splitting both label and prediction into subwords\n",
        "        label_subwords = split_camel_case(label)\n",
        "        prediction_subwords = split_camel_case(prediction)\n",
        "\n",
        "        matches = 0\n",
        "        for l_word in label_subwords:\n",
        "            # Finding a matching word in the prediction\n",
        "            matched_word = next((p_word for p_word in prediction_subwords if l_word == p_word), None)\n",
        "            if matched_word:\n",
        "                matches += 1\n",
        "                prediction_subwords.remove(matched_word)  # Removing the matched word to prevent reuse\n",
        "\n",
        "        # Accumulating total matches and subwords\n",
        "        total_matches += matches\n",
        "        total_subwords += len(label_subwords)\n",
        "\n",
        "    return total_matches, total_subwords\n",
        "\n",
        "\n",
        "def calculate_accuracy(labels, predictions):\n",
        "    # Calculating matches and total subwords\n",
        "    matches, total_subwords = calculate_matches(labels, predictions)\n",
        "    # Calculating and returning accuracy\n",
        "    accuracy = matches / total_subwords if total_subwords != 0 else 0\n",
        "    return accuracy"
      ],
      "metadata": {
        "id": "mLX7qZHbiACC"
      },
      "id": "mLX7qZHbiACC",
      "execution_count": null,
      "outputs": []
    },
    {
      "cell_type": "markdown",
      "source": [
        "#### ROUGE"
      ],
      "metadata": {
        "id": "X9gAVtpemaoj"
      },
      "id": "X9gAVtpemaoj"
    },
    {
      "cell_type": "markdown",
      "source": [
        " ROUGE-N recall scor is essential in evaluating the performance of our model in generating method names. ROUGE-N measures the overlap of N-grams between generated and reference names. This metric is crucial for assessing how well the generated names align with the reference names in terms of content and structure.\n",
        "\n",
        "The function calculate_rouge_n uses the already mentioned `split_camel_case` method to split camelCase names into subwords and create N-grams, which are then compared to calculate the recall."
      ],
      "metadata": {
        "id": "b97M8AiUrQ4p"
      },
      "id": "b97M8AiUrQ4p"
    },
    {
      "cell_type": "code",
      "source": [
        "def calculate_rouge_n(generated_names, reference_names, n=1):\n",
        "    # Function to generate n-grams from a list of words\n",
        "    def ngrams(words, n):\n",
        "        # Creating n-grams using list comprehension and zip\n",
        "        return zip(*[words[i:] for i in range(n)])\n",
        "\n",
        "    scores = []  # List to store individual recall scores for each name pair\n",
        "\n",
        "    # Looping through each pair of generated and reference names\n",
        "    for gen_name, ref_name in zip(generated_names, reference_names):\n",
        "        # Splitting camelCase names into words and creating n-grams\n",
        "        gen_ngrams = Counter(ngrams(split_camel_case(gen_name), n))\n",
        "        ref_ngrams = Counter(ngrams(split_camel_case(ref_name), n))\n",
        "\n",
        "        # Calculating overlap of n-grams between generated and reference names\n",
        "        overlap = sum((gen_ngrams & ref_ngrams).values())\n",
        "        total_ref_ngrams = sum(ref_ngrams.values())  # Total n-grams in reference name\n",
        "\n",
        "        # Calculating recall as the ratio of overlap to total reference n-grams\n",
        "        recall = overlap / total_ref_ngrams if total_ref_ngrams > 0 else 0\n",
        "        scores.append(recall)  # Adding recall score to the list\n",
        "\n",
        "    # Calculating the average recall score across all name pairs\n",
        "    average_recall = np.mean(scores) if scores else 0\n",
        "    return average_recall"
      ],
      "metadata": {
        "id": "Dytgp6tYmaXI"
      },
      "id": "Dytgp6tYmaXI",
      "execution_count": null,
      "outputs": []
    },
    {
      "cell_type": "markdown",
      "source": [
        "#### Levenshtein Distance"
      ],
      "metadata": {
        "id": "qmDzxDMDpCoM"
      },
      "id": "qmDzxDMDpCoM"
    },
    {
      "cell_type": "markdown",
      "source": [
        "Levenshtein distance measures the number of single-character edits (insertions, deletions, or substitutions) required to change one word into another. It calculates the average Levenshtein distance between lists of labels and predictions.\n"
      ],
      "metadata": {
        "id": "UIJfl9FYrgej"
      },
      "id": "UIJfl9FYrgej"
    },
    {
      "cell_type": "code",
      "source": [
        "# Levenshtein Distance\n",
        "def calculate_levenshtein_distance(labels, predictions):\n",
        "    # Calculating Levenshtein distance for each pair of label and prediction\n",
        "    distances = [Levenshtein.distance(ref, pred) for ref, pred in zip(labels, predictions)]\n",
        "\n",
        "    # Returning the average distance\n",
        "    return np.mean(distances)"
      ],
      "metadata": {
        "id": "ddjRLm86psPW"
      },
      "id": "ddjRLm86psPW",
      "execution_count": null,
      "outputs": []
    },
    {
      "cell_type": "markdown",
      "source": [
        "#### Semantic Similarity"
      ],
      "metadata": {
        "id": "eQEMILzzr6R2"
      },
      "id": "eQEMILzzr6R2"
    },
    {
      "cell_type": "markdown",
      "source": [
        "By employing semantic analysis, this function provides a nuanced measure of how well the generated names capture the conceptual essence of the reference names, going beyond mere syntactic comparison.\n",
        "\n",
        "Each method name is split from camelCase. We then use an NLP model (like spaCy) to calculate the semantic similarity between each pair of generated and reference names. This similarity score reflects how close the generated name is to the reference name in terms of their meaning. Finally, the function computes and returns the average similarity score across all name pairs.\n",
        "\n",
        "**NOTE:** Before using spaCy for semantic similarity, ensure the relevant NLP model (e.g., en_core_web_md) is downloaded:"
      ],
      "metadata": {
        "id": "8GqQRKthsPuu"
      },
      "id": "8GqQRKthsPuu"
    },
    {
      "cell_type": "code",
      "execution_count": null,
      "metadata": {
        "id": "e5VjgY2DCYFv"
      },
      "outputs": [],
      "source": [
        "!python -m spacy download en_core_web_md"
      ],
      "id": "e5VjgY2DCYFv"
    },
    {
      "cell_type": "code",
      "source": [
        "def calculate_similarity(labels, predictions):\n",
        "    # Load spaCy model\n",
        "    nlp = spacy.load(\"en_core_web_md\")\n",
        "    # Check if labels and predictions are of the same length\n",
        "    if len(labels) != len(predictions):\n",
        "        raise ValueError(\"Labels and predictions must be of the same length.\")\n",
        "\n",
        "    similarities = []  # List to store similarity scores\n",
        "\n",
        "    # Iterate over each label-prediction pair\n",
        "    for ref, pred in zip(labels, predictions):\n",
        "        # Convert camelCase names to space-separated words\n",
        "        ref = ' '.join(split_camel_case(ref))\n",
        "        pred = ' '.join(split_camel_case(pred))\n",
        "\n",
        "        # Calculate semantic similarity using a predefined NLP model\n",
        "        # nlp object is assumed to be a preloaded NLP model like spaCy\n",
        "        similarity = nlp(ref).similarity(nlp(pred))\n",
        "        similarities.append(similarity)\n",
        "\n",
        "    # Return the average similarity score, or 0 if no similarities were calculated\n",
        "    return np.mean(similarities) if similarities else 0\n"
      ],
      "metadata": {
        "id": "sUTpIlAbsC9z"
      },
      "id": "sUTpIlAbsC9z",
      "execution_count": null,
      "outputs": []
    },
    {
      "cell_type": "markdown",
      "source": [
        "#### All-in-One"
      ],
      "metadata": {
        "id": "mG0mF2KKtWgo"
      },
      "id": "mG0mF2KKtWgo"
    },
    {
      "cell_type": "markdown",
      "source": [
        "This function `evaluation_results` aggregates various metrics to give a comprehensive evaluation of the model's performance in generating method names"
      ],
      "metadata": {
        "id": "09UBzEt9wK1f"
      },
      "id": "09UBzEt9wK1f"
    },
    {
      "cell_type": "code",
      "source": [
        "def evaluation_results(labels, predictions):\n",
        "    # Calculate various evaluation metrics for the generated method names\n",
        "\n",
        "    # Calculate and print accuracy\n",
        "    accuracy = calculate_accuracy(predictions, labels)\n",
        "    print(f\"Accuracy: {accuracy:.2f}\")\n",
        "\n",
        "    # Calculate and print ROUGE score\n",
        "    rouge = calculate_rouge_n(predictions, labels)\n",
        "    print(f\"ROUGE: {rouge:.2f}\")\n",
        "\n",
        "    # Calculate and print Levenshtein distance\n",
        "    levenshtein_distance = calculate_levenshtein_distance(labels, predictions)\n",
        "    print(f\"Levenshtein Distance: {levenshtein_distance}\")\n",
        "\n",
        "    # Calculate and print semantic similarity\n",
        "    semantic_similarity = calculate_similarity(labels, predictions)\n",
        "    print(f\"Semantic Similarity: {semantic_similarity:.2f}\")"
      ],
      "metadata": {
        "id": "DJxxEcwYtPo-"
      },
      "id": "DJxxEcwYtPo-",
      "execution_count": null,
      "outputs": []
    },
    {
      "cell_type": "markdown",
      "source": [
        "### Data Tokenization"
      ],
      "metadata": {
        "id": "b5vnGq3zwY7M"
      },
      "id": "b5vnGq3zwY7M"
    },
    {
      "cell_type": "markdown",
      "metadata": {
        "id": "d52668c0-b1cc-49e8-bf01-cb8c10cf4c73"
      },
      "source": [
        "As a common practice, we split the dataset into:\n",
        "\n",
        "- **Training set**: Data used for training the model parameters.\n",
        "- **Validation set**: Data used for hyperparameter tuning or early stopping to avoid overfitting.\n",
        "- **Test set**: Data used for checking what performance we can expect on new data.\n",
        "\n",
        "The split ratio depends on the specific requirements of your project, but common practices are:\n",
        "\n",
        "- Training Set: 70-80%\n",
        "- Validation Set: 10-15%\n",
        "- Test Set: 10-15%\n",
        "\n",
        "We will use 70:15:15."
      ],
      "id": "d52668c0-b1cc-49e8-bf01-cb8c10cf4c73"
    },
    {
      "cell_type": "code",
      "execution_count": null,
      "metadata": {
        "id": "a5bf50a6-217a-46d3-aa1e-aa31544dd898"
      },
      "outputs": [],
      "source": [
        "# Extract the 'identifier' column as labels\n",
        "labels = df['identifier']\n",
        "\n",
        "# Drop the 'identifier' column from the DataFrame to get input data\n",
        "data = df.drop('identifier', axis=1)\n",
        "\n",
        "# Splitting the data into training and a temporary test set\n",
        "train_data, temp_test_data, train_labels, temp_test_labels = train_test_split(data, labels, test_size=10000, random_state=42)\n",
        "\n",
        "# Splitting the temporary test set into actual test and validation sets\n",
        "test_data, val_data, test_labels, val_labels = train_test_split(temp_test_data, temp_test_labels, test_size=5000, random_state=42)"
      ],
      "id": "a5bf50a6-217a-46d3-aa1e-aa31544dd898"
    },
    {
      "cell_type": "code",
      "execution_count": null,
      "metadata": {
        "id": "1f9d9251-5ff8-4f70-9244-87efe3fe8309"
      },
      "outputs": [],
      "source": [
        "mean_identifier_len = math.ceil(mean([len(split_camel_case(i)) for i in labels]))+2 # will be used in geenration"
      ],
      "id": "1f9d9251-5ff8-4f70-9244-87efe3fe8309"
    },
    {
      "cell_type": "markdown",
      "source": [
        "The model expects data in the form of **Dataset** type. We also create a **DatasetDict** to organize the datasets. This structure is beneficial when working with models that require specific data formats such as those found in the Hugging Face Transformers library."
      ],
      "metadata": {
        "id": "BBLo0L-QxHvq"
      },
      "id": "BBLo0L-QxHvq"
    },
    {
      "cell_type": "code",
      "execution_count": null,
      "metadata": {
        "id": "c0575c93-8d51-4772-89d4-dc3b1742c45e"
      },
      "outputs": [],
      "source": [
        "# Creating Dataset objects for each set\n",
        "train_dataset = Dataset.from_pandas(train_data.assign(labels=train_labels))\n",
        "test_dataset = Dataset.from_pandas(test_data.assign(labels=test_labels))\n",
        "val_dataset = Dataset.from_pandas(val_data.assign(labels=val_labels))\n",
        "\n",
        "# Creating a DatasetDict\n",
        "dataset_dict = DatasetDict({\n",
        "    'train': train_dataset,\n",
        "    'validation': val_dataset,\n",
        "    'test': test_dataset\n",
        "})"
      ],
      "id": "c0575c93-8d51-4772-89d4-dc3b1742c45e"
    },
    {
      "cell_type": "markdown",
      "metadata": {
        "id": "e891a0fc-2a6c-4e69-98c2-68bbb0edb312"
      },
      "source": [
        "We initialize the tokenizer for the T5-base model, as previously set up in \"CodeT5+: description and first try\". The tokenizer transforms textual input into a sequence of token ids, which is essential for model processing.\n",
        "\n",
        "A key parameter, max_input_length, is set to 512 to define the maximum length of the input sequences. The preprocessing function, `preprocess_data`, tokenizes both the inputs (full code) and the labels (method names) while ensuring they adhere to this length constraint. This tokenized data is then used to train and evaluate the model."
      ],
      "id": "e891a0fc-2a6c-4e69-98c2-68bbb0edb312"
    },
    {
      "cell_type": "code",
      "execution_count": null,
      "metadata": {
        "id": "7f6a4013-6dbd-4637-9b2f-63ca1f5162a3"
      },
      "outputs": [],
      "source": [
        "# Setting the maximum input length for the tokenizer\n",
        "max_input_length = 512\n",
        "\n",
        "# List of columns to be removed from the dataset\n",
        "columns_to_remove = ['formal_parameters', 'modifiers', 'block', 'type_identifier', 'file_path', 'full_code',\n",
        "                     '__index_level_0__']\n",
        "\n",
        "\n",
        "def preprocess_data(examples):\n",
        "    # Tokenizing the full code sections of the examples\n",
        "    inputs = examples[\"full_code\"]\n",
        "    model_inputs = tokenizer(inputs, max_length=max_input_length, truncation=True, padding='max_length')\n",
        "\n",
        "    # Tokenizing the labels (method names)\n",
        "    labels = tokenizer(examples[\"labels\"], max_length=max_input_length, truncation=True, padding='max_length')\n",
        "\n",
        "    # Setting the tokenized labels as the 'labels' field in the model inputs\n",
        "    model_inputs[\"labels\"] = labels[\"input_ids\"]\n",
        "\n",
        "    # The function returns the processed inputs suitable for the model\n",
        "    return model_inputs\n",
        "\n",
        "\n",
        "# Applying the preprocessing function to the datasets\n",
        "# This step tokenizes all datasets and removes unnecessary columns\n",
        "tokenized_datasets = dataset_dict.map(preprocess_data, remove_columns=columns_to_remove)"
      ],
      "id": "7f6a4013-6dbd-4637-9b2f-63ca1f5162a3"
    },
    {
      "cell_type": "code",
      "source": [
        "# Saving the tokenized dataset using LZMA compression\n",
        "with lzma.open('tokenized_datasets.xz', 'wb') as f:\n",
        "    # Serializing the tokenized datasets with pickle\n",
        "    pickle.dump(tokenized_datasets, f)\n",
        "\n",
        "# This step saves the preprocessed and tokenized dataset to disk.\n",
        "# It allows for quicker access and reduces processing time in subsequent uses of this notebook."
      ],
      "metadata": {
        "id": "ma6_HZvoyX4v"
      },
      "id": "ma6_HZvoyX4v",
      "execution_count": null,
      "outputs": []
    },
    {
      "cell_type": "markdown",
      "source": [
        "### Unfinetuned Model Evaluation"
      ],
      "metadata": {
        "id": "cJFeY-60zvES"
      },
      "id": "cJFeY-60zvES"
    },
    {
      "cell_type": "code",
      "execution_count": null,
      "metadata": {
        "id": "8vsmFt5XPlo6"
      },
      "outputs": [],
      "source": [
        "# Loading the previously saved tokenized dataset from disk\n",
        "with lzma.open('tokenized_datasets.xz', 'rb') as f:\n",
        "    # Deserializing the tokenized datasets using pickle\n",
        "    tokenized_datasets = pickle.load(f)\n",
        "\n",
        "# This step loads the preprocessed and tokenized dataset from disk.\n",
        "# It allows for quick access to the dataset that was saved in a previous session."
      ],
      "id": "8vsmFt5XPlo6"
    },
    {
      "cell_type": "markdown",
      "source": [
        "Here is selecting subsets of the tokenized dataset for training, validation, and testing. The sizes of these subsets are chosen for efficient use of resources. At this stage only test_dataset will be used."
      ],
      "metadata": {
        "id": "Zo9ogAb0zV_H"
      },
      "id": "Zo9ogAb0zV_H"
    },
    {
      "cell_type": "code",
      "execution_count": null,
      "metadata": {
        "id": "bf833c6b-bba3-4037-acd0-fb3120b531b3"
      },
      "outputs": [],
      "source": [
        "train_dataset = tokenized_datasets[\"train\"].select(range(100000))\n",
        "validation_dataset = tokenized_datasets[\"validation\"].select(range(4000))\n",
        "test_dataset = tokenized_datasets[\"test\"].select(range(4000))"
      ],
      "id": "bf833c6b-bba3-4037-acd0-fb3120b531b3"
    },
    {
      "cell_type": "markdown",
      "source": [
        "This code snippet is responsible for generating predictions using a given language model and cleaning the results for better readability and consistency. Here's a breakdown of the key steps:\n",
        "\n",
        "The `clean_generated_text` function takes a generated text as input and performs the following steps:\n",
        "   - Removes non-alphabetic characters, keeping only letters.\n",
        "   - Splits the cleaned text into words.\n",
        "   - Removes duplicate words (model can generate long words with duplicates to extend the result up to max token number output).\n",
        "   - Reconstructs the text in camelCase style, where the first word starts with a lowercase letter and the rest are capitalized. This ensures consistency in the generated method names.\n",
        "\n",
        "The `generate_predictions` function iterates through the test dataset in batches and generates predictions for each batch using the model. The generated text is then cleaned using the `clean_generated_text` function. Empty predictions (those containing only special tokens) are replaced with\n",
        "```\n",
        "<no_prediction>\n",
        "```\n",
        "\n",
        " to indicate that the model did not provide a valid method name.\n"
      ],
      "metadata": {
        "id": "4X4LMM8Wd73z"
      },
      "id": "4X4LMM8Wd73z"
    },
    {
      "cell_type": "code",
      "source": [
        "def clean_generated_text(text):\n",
        "    # Remove non-alphabetic characters and replace with spaces\n",
        "    cleaned_text = re.sub(r'[^a-zA-Z]', ' ', text)\n",
        "    # Split cleaned text into words\n",
        "    words = cleaned_text.split()\n",
        "    # Return the longest word (in case of multiple words) or an empty string if no words are present\n",
        "    return max(words, key=len) if words else \"\"\n",
        "\n",
        "\n",
        "def generate_predictions(model, tokenizer, test_dataset, batch_size, device):\n",
        "    predictions = []\n",
        "\n",
        "    for i in tqdm(range(0, len(test_dataset), batch_size)):\n",
        "        # Extract a batch of input data\n",
        "        batch = test_dataset[i:i + batch_size]\n",
        "        input_ids = batch['input_ids']\n",
        "        attention_mask = batch['attention_mask']\n",
        "\n",
        "        # Ensure input tensors are on the correct device (CPU or GPU)\n",
        "        input_ids = torch.tensor(input_ids).to(device)\n",
        "        attention_mask = torch.tensor(attention_mask).to(device)\n",
        "\n",
        "        with torch.no_grad():\n",
        "            # Generate predictions using the model\n",
        "            outputs = model.generate(\n",
        "                input_ids=input_ids,\n",
        "                attention_mask=attention_mask,\n",
        "            )\n",
        "\n",
        "        # Clean and decode the generated outputs\n",
        "        decoded_outputs = [clean_generated_text(tokenizer.decode(output, skip_special_tokens=True)) for output in\n",
        "                           outputs]\n",
        "\n",
        "        # Check for empty predictions and handle them\n",
        "        decoded_outputs = [output if output.strip() != \"\" else \"<no_prediction>\" for output in decoded_outputs]\n",
        "\n",
        "        # Extend the list of predictions\n",
        "        predictions.extend(decoded_outputs)\n",
        "\n",
        "    return predictions"
      ],
      "metadata": {
        "id": "0QEzKQz9bogT"
      },
      "id": "0QEzKQz9bogT",
      "execution_count": null,
      "outputs": []
    },
    {
      "cell_type": "markdown",
      "source": [
        "Now it's time to generate names."
      ],
      "metadata": {
        "id": "G3nWDeJogzeP"
      },
      "id": "G3nWDeJogzeP"
    },
    {
      "cell_type": "code",
      "source": [
        "# Generate predictions for a test dataset using the specified model and tokenizer.\n",
        "PRED_BATCH_SIZE = 8\n",
        "predictions = generate_predictions(model, tokenizer, test_dataset, PRED_BATCH_SIZE, device)\n",
        "\n",
        "# Saving predictions to a file for further analysis or evaluation.\n",
        "with open('predictions.txt', 'w') as file:\n",
        "    for prediction in predictions:\n",
        "        file.write(prediction + '\\n')"
      ],
      "metadata": {
        "id": "nCZ863rpzubV"
      },
      "id": "nCZ863rpzubV",
      "execution_count": null,
      "outputs": []
    },
    {
      "cell_type": "markdown",
      "source": [
        "Finally, unfinetuned model evaluation."
      ],
      "metadata": {
        "id": "KRQAZRrwhL3x"
      },
      "id": "KRQAZRrwhL3x"
    },
    {
      "cell_type": "code",
      "source": [
        "# Reading predictions from the file\n",
        "with open('predictions.txt', 'r') as file:\n",
        "    predictions = file.read().splitlines()\n",
        "\n",
        "# Decoding labels with already defined tokenizer\n",
        "labels = [tokenizer.decode(label_ids, skip_special_tokens=True) for label_ids in test_dataset[\"labels\"]]\n",
        "\n",
        "# Show metrics evaluation\n",
        "evaluation_results(labels, predictions)"
      ],
      "metadata": {
        "id": "8lsoYx0x0X6o"
      },
      "id": "8lsoYx0x0X6o",
      "execution_count": null,
      "outputs": []
    },
    {
      "cell_type": "markdown",
      "metadata": {
        "id": "ffe2116e-dab3-4e8b-a36f-cb3c624cb959"
      },
      "source": [
        "## Model Finetuning: Training, Evaluation"
      ],
      "id": "ffe2116e-dab3-4e8b-a36f-cb3c624cb959"
    },
    {
      "cell_type": "markdown",
      "source": [
        "### Finetuning"
      ],
      "metadata": {
        "id": "t-1e-NEh0_FI"
      },
      "id": "t-1e-NEh0_FI"
    },
    {
      "cell_type": "markdown",
      "source": [
        "The Seq2SeqTrainingArguments is a configuration object used in the initialization of the trainer for sequence-to-sequence (seq2seq) models. It specifies various training settings and hyperparameters for the training process. Here's a description of some of the key arguments used in this configuration:\n",
        "\n",
        "* **model_dir**: The directory where model checkpoints and logs will be saved.\n",
        "\n",
        "* **evaluation_strategy**: Specifies when evaluation should be performed during training. In this case, it's set to \"steps,\" meaning evaluation will be performed at regular step intervals.\n",
        "\n",
        "* **eval_steps**: The number of steps between each evaluation. For setting this and two next parameters the number of total iterations can be used. To calculate the total number of iterations, divide the length of the training dataset by the batch size, then multiply the result by the number of training epochs (specified in the `num_train_epochs` parameter).\n",
        "\n",
        "* **logging_strategy**: Specifies when training logs should be generated. Also set to \"steps.\"\n",
        "\n",
        "* **logging_steps**: The number of steps between each logging of training progress.\n",
        "\n",
        "* **save_strategy**: Determines when model checkpoints should be saved. Here, it's set to \"steps.\"\n",
        "\n",
        "* **save_steps**: The number of steps between each model checkpoint save.\n",
        "\n",
        "* **learning_rate**: The learning rate used in training.\n",
        "\n",
        "* **per_device_train_batch_size**: The batch size per device for training data. Larger values can lead to faster training but require more memory.\n",
        "\n",
        "* **per_device_eval_batch_size**: The batch size per device for evaluation data.\n",
        "\n",
        "* **weight_decay**: A regularization term to prevent overfitting.\n",
        "\n",
        "* **save_total_limit**: Limits the total number of saved checkpoints.\n",
        "\n",
        "* **num_train_epochs**: The number of training epochs.\n",
        "\n",
        "* **predict_with_generate**: Indicates that generation should be used for predictions.\n",
        "\n",
        "* **fp16**: Enables mixed-precision training, which is faster and uses less memory on GPUs. It's set to True, meaning it will be used when training on CUDA-compatible devices.\n",
        "\n",
        "* **load_best_model_at_end**: Specifies whether the best model checkpoint should be loaded at the end of training.\n",
        "\n",
        "* **metric_for_best_model**: The evaluation metric used to determine the best model checkpoint. Here, it's set to \"rouge1,\" indicating ROUGE-1 score.\n",
        "\n",
        "* **report_to**: Specifies where training metrics should be reported. In this case, it's set to \"tensorboard,\" which means TensorBoard will be used for visualization and monitoring during training.\n",
        "\n",
        "Overall, Seq2SeqTrainingArguments is a crucial component for configuring and customizing the training process for sequence-to-sequence models. It allows you to fine-tune various aspects of training and adapt them to your specific use case and hardware resources. I have chosen very standard parameters."
      ],
      "metadata": {
        "id": "UoMUi_OEiUzM"
      },
      "id": "UoMUi_OEiUzM"
    },
    {
      "cell_type": "code",
      "execution_count": null,
      "metadata": {
        "id": "12ec8283-05a0-4aa9-a433-1b2c1a7c6749"
      },
      "outputs": [],
      "source": [
        "# Model Name and Directory\n",
        "model_name = \"t5p-base-medium-function-name-generation\"\n",
        "model_dir = f\"/models_run/{model_name}\"\n",
        "\n",
        "# Batch Size\n",
        "TRAINER_BATCH_SIZE = 6\n",
        "\n",
        "# Seq2SeqTrainingArguments Configuration\n",
        "args = Seq2SeqTrainingArguments(\n",
        "    model_dir,\n",
        "    evaluation_strategy=\"steps\",\n",
        "    eval_steps=11000,  # Adjust based on how often you want to evaluate\n",
        "    logging_strategy=\"steps\",\n",
        "    logging_steps=11000,  # Adjust based on how often you want to log\n",
        "    save_strategy=\"steps\",\n",
        "    save_steps=11000,  # Saves less frequently\n",
        "    learning_rate=4e-5,\n",
        "    per_device_train_batch_size=TRAINER_BATCH_SIZE,  # Increase if your hardware allows\n",
        "    per_device_eval_batch_size=TRAINER_BATCH_SIZE,  # Increase if your hardware allows\n",
        "    weight_decay=0.01,\n",
        "    save_total_limit=3,\n",
        "    num_train_epochs=2,\n",
        "    predict_with_generate=True,\n",
        "    fp16=True,  # Enables mixed-precision training with CUDA-compatible devices\n",
        "    load_best_model_at_end=True,\n",
        "    metric_for_best_model=\"rouge1\",\n",
        "    report_to=\"tensorboard\"\n",
        ")"
      ],
      "id": "12ec8283-05a0-4aa9-a433-1b2c1a7c6749"
    },
    {
      "cell_type": "markdown",
      "source": [
        "Data collator is used to preprocess and batch the training data for the Seq2Seq trainer. It handles tasks such as padding, truncation, and tokenization required for sequence-to-sequence models. It ensures that the input and target sequences are appropriately formatted for training."
      ],
      "metadata": {
        "id": "_ACcE2LgjQK5"
      },
      "id": "_ACcE2LgjQK5"
    },
    {
      "cell_type": "code",
      "execution_count": null,
      "metadata": {
        "id": "0fb4a496-a29d-4853-a3ea-219b35d33ea5"
      },
      "outputs": [],
      "source": [
        "data_collator = DataCollatorForSeq2Seq(tokenizer)"
      ],
      "id": "0fb4a496-a29d-4853-a3ea-219b35d33ea5"
    },
    {
      "cell_type": "markdown",
      "source": [
        "The compute_metrics function is defined to calculate evaluation metrics for generated text. It takes evaluation predictions (eval_preds) as input, which consists of predicted and true labels. The function first decodes the predictions and labels, considering special tokens. Then, it formats the text for ROUGE evaluation, ensuring proper newline separation between sentences.\n",
        "Finally, the `rouge_metric.compute` method is used to calculate ROUGE scores by comparing the decoded predictions with the decoded labels. The `use_stemmer` parameter is set to True, indicating that stemming should be used in the ROUGE calculation.\n",
        "Both the Rouge Metric and the `compute_metrics` function are necessary components for the Seq2Seq trainer to evaluate the model's performance during training."
      ],
      "metadata": {
        "id": "y6076ZEmjvHi"
      },
      "id": "y6076ZEmjvHi"
    },
    {
      "cell_type": "code",
      "execution_count": null,
      "metadata": {
        "id": "6c9309ef-208c-4193-8fcc-b033c37e31ba"
      },
      "outputs": [],
      "source": [
        "def compute_metrics(eval_preds):\n",
        "    rouge_metric = evaluate.load(\"rouge\")\n",
        "    preds, labels = eval_preds\n",
        "\n",
        "    # decode preds and labels\n",
        "    labels = np.where(labels != -100, labels, tokenizer.pad_token_id)\n",
        "    decoded_preds = tokenizer.batch_decode(preds, skip_special_tokens=True)\n",
        "    decoded_labels = tokenizer.batch_decode(labels, skip_special_tokens=True)\n",
        "\n",
        "    # rougeLSum expects newline after each sentence\n",
        "    decoded_preds = [\"\\n\".join(pred) for pred in decoded_preds]\n",
        "    decoded_labels = [\"\\n\".join(label) for label in decoded_labels]\n",
        "\n",
        "    result = rouge_metric.compute(predictions=decoded_preds, references=decoded_labels, use_stemmer=True)\n",
        "    return result"
      ],
      "id": "6c9309ef-208c-4193-8fcc-b033c37e31ba"
    },
    {
      "cell_type": "markdown",
      "source": [
        " In this code block, I define a function `model_init()` that returns an untrained model to be used for training. I then initialize the `Seq2SeqTrainer` object (trainer) with various components and configurations. All the components and settings defined in the previous sections are now combined to set up the training process. The `model_init()` function initializes the model, and the args, `train_dataset`, `validation_dataset`, `data_collator`, `tokenizer`, and `compute_metrics` are all configured to facilitate the training process.\n",
        "\n",
        "\n",
        "\n",
        "\n",
        "\n",
        "\n"
      ],
      "metadata": {
        "id": "n-jOZ5N5krQ_"
      },
      "id": "n-jOZ5N5krQ_"
    },
    {
      "cell_type": "code",
      "execution_count": null,
      "metadata": {
        "id": "def6205d-7dac-40b0-893e-0597e10245c2"
      },
      "outputs": [],
      "source": [
        "# Function that returns an untrained model to be trained\n",
        "def model_init():\n",
        "    model = AutoModelForSeq2SeqLM.from_pretrained(checkpoint)\n",
        "    model = model.to('cuda')\n",
        "    return model\n",
        "\n",
        "\n",
        "# Initializing the Seq2SeqTrainer\n",
        "trainer = Seq2SeqTrainer(\n",
        "    model_init=model_init,\n",
        "    args=args,\n",
        "    train_dataset=train_dataset,\n",
        "    eval_dataset=validation_dataset,\n",
        "    data_collator=data_collator,\n",
        "    tokenizer=tokenizer,\n",
        "    compute_metrics=compute_metrics\n",
        ")"
      ],
      "id": "def6205d-7dac-40b0-893e-0597e10245c2"
    },
    {
      "cell_type": "markdown",
      "source": [
        "Finally, finetuning."
      ],
      "metadata": {
        "id": "aJJjnpN0lOXT"
      },
      "id": "aJJjnpN0lOXT"
    },
    {
      "cell_type": "code",
      "execution_count": null,
      "metadata": {
        "id": "58e9d3db-706a-441d-9771-62bd6182cc83"
      },
      "outputs": [],
      "source": [
        "trainer.train()"
      ],
      "id": "58e9d3db-706a-441d-9771-62bd6182cc83"
    },
    {
      "cell_type": "markdown",
      "source": [
        "\n",
        "In the end, saving the model is essential."
      ],
      "metadata": {
        "id": "nKJvpwx0lR7N"
      },
      "id": "nKJvpwx0lR7N"
    },
    {
      "cell_type": "code",
      "source": [
        "trainer.save_model(\"/model\")"
      ],
      "metadata": {
        "id": "oG4hK2BUTacK"
      },
      "id": "oG4hK2BUTacK",
      "execution_count": null,
      "outputs": []
    },
    {
      "cell_type": "markdown",
      "source": [
        "### Evaluation"
      ],
      "metadata": {
        "id": "fX5AfhQM1GfR"
      },
      "id": "fX5AfhQM1GfR"
    },
    {
      "cell_type": "markdown",
      "source": [
        "The entire process is identical to testing the unfine-tuned model, with the exception of using the fine-tuned model and tokenizer for initialization."
      ],
      "metadata": {
        "id": "CiPCkCwDls13"
      },
      "id": "CiPCkCwDls13"
    },
    {
      "cell_type": "code",
      "execution_count": null,
      "metadata": {
        "id": "32a7e9d8-5314-4093-9319-6cd60d0620a9"
      },
      "outputs": [],
      "source": [
        "# Load the fine-tuned model and tokenizer\n",
        "model_dir = '/model'\n",
        "fine_tokenizer = AutoTokenizer.from_pretrained(model_dir)\n",
        "fine_model = AutoModelForSeq2SeqLM.from_pretrained(model_dir)\n",
        "\n",
        "# Move the fine-tuned model to the specified device\n",
        "fine_model.to(device)\n",
        "\n",
        "# Generate predictions using the fine-tuned model\n",
        "finetuned_predictions = generate_predictions(fine_model, fine_tokenizer, test_dataset, PRED_BATCH_SIZE, device)\n",
        "\n",
        "# Saving predictions to a file\n",
        "with open('predictions_finetuned.txt', 'w') as file:\n",
        "    for prediction in finetuned_predictions:\n",
        "        file.write(prediction + '\\n')"
      ],
      "id": "32a7e9d8-5314-4093-9319-6cd60d0620a9"
    },
    {
      "cell_type": "code",
      "source": [
        "# Reading predictions from the file\n",
        "with open('predictions_finetuned.txt', 'r') as file:\n",
        "    finetuned_predictions = file.read().splitlines()\n",
        "\n",
        "# Show metrics evaluation for finetuned_predictions\n",
        "evaluation_results(labels, finetuned_predictions)"
      ],
      "metadata": {
        "id": "gPw9PPWqVCxZ"
      },
      "id": "gPw9PPWqVCxZ",
      "execution_count": null,
      "outputs": []
    },
    {
      "cell_type": "markdown",
      "source": [
        "## Conclusion: Summary of the Work, Evaluation, Problems and Future Steps"
      ],
      "metadata": {
        "id": "Y8dLAjdgl_ZE"
      },
      "id": "Y8dLAjdgl_ZE"
    },
    {
      "cell_type": "markdown",
      "source": [
        "### Summary of the Work"
      ],
      "metadata": {
        "id": "ZRrHDyP5mo_c"
      },
      "id": "ZRrHDyP5mo_c"
    },
    {
      "cell_type": "markdown",
      "source": [
        "In this assignment, I worked on the method name prediction task, which involved the following key steps:\n",
        "\n",
        "1. **Introduction of CodeT5+**\n",
        "\n",
        "2. **Data Collection**:\n",
        "\n",
        "I selected a large open-source project, IntelliJ Community, as the source of code data.\n",
        "I extracted all the methods from this project to create a dataset for the task.\n",
        "\n",
        "3. **Data Preprocessing**:\n",
        "\n",
        "I performed data preprocessing, which included tasks like cleaning and formatting the extracted code to prepare it for input into the model.\n",
        "\n",
        "4. **Metric Definition**:\n",
        "\n",
        "To evaluate the model's performance, I defined appropriate metrics. These metrics were used to assess the quality of the generated method names compared to the ground truth.\n",
        "\n",
        "5. **Testing of Unfinetuned Model**:\n",
        "\n",
        "I initially tested the CodeT5+ model without fine-tuning to establish a baseline for its performance.\n",
        "This allowed me to understand the model's initial capabilities and limitations.\n",
        "\n",
        "6. **Fine-Tuning Process**:\n",
        "\n",
        "To improve the model's performance on the method name prediction task, I fine-tuned it using the collected dataset.\n",
        "Fine-tuning involved training the model on the specific data to adapt it to the task's requirements.\n",
        "\n",
        "7. **Testing of Finetuned Model**:\n",
        "\n",
        "After fine-tuning, I re-evaluated the model's performance to observe the changes in quality.\n",
        "I compared the results with those obtained from the unfinetuned model to assess the impact of fine-tuning.\n",
        "Throughout this assignment, I aimed to enhance the model's ability to predict method names accurately and efficiently, demonstrating the iterative nature of the model development process."
      ],
      "metadata": {
        "id": "TgOda000nh9t"
      },
      "id": "TgOda000nh9t"
    },
    {
      "cell_type": "markdown",
      "source": [
        "### Evaluation"
      ],
      "metadata": {
        "id": "LxpIEK1on20k"
      },
      "id": "LxpIEK1on20k"
    },
    {
      "cell_type": "markdown",
      "source": [
        "To evaluate the performance of the unfinetuned codet5+ model and its finetuned version, we look at various metrics such as Accuracy, ROUGE, Levenshtein Distance, and Semantic Similarity. These metrics give us an understanding of how well the model is performing in terms of generating correct predictions (Accuracy), capturing the overlap with the reference text (ROUGE), the number of edits required to change the prediction into the reference (Levenshtein Distance), and the closeness in meaning between the prediction and the reference (Semantic Similarity).\n",
        "\n",
        "The unfinetuned model has the following evaluation metrics:\n",
        "\n",
        "* Accuracy: 0.51\n",
        "* ROUGE: 0.47\n",
        "* Levenshtein Distance: 10.1075\n",
        "* Semantic Similarity: 0.68\n",
        "\n",
        "After finetuning, the model shows these results:\n",
        "\n",
        "* Accuracy: 0.70\n",
        "* ROUGE: 0.67\n",
        "* Levenshtein Distance: 6.18975\n",
        "* Semantic Similarity: 0.82\n",
        "\n",
        "From these results, we can conclude that finetuning has significantly improved the performance of the codet5+ model. The accuracy has increased from 0.51 to 0.70, indicating that the model makes correct predictions more frequently after finetuning. The ROUGE score has also increased, suggesting that the overlap between the model's predictions and the reference text is better after finetuning.\n",
        "\n",
        "The decrease in the Levenshtein Distance from 10.1075 to 6.18975 shows that the predictions made by the finetuned model are closer to the reference, requiring fewer edits to match exactly. Finally, the increase in Semantic Similarity from 0.68 to 0.82 indicates that the meaning of the predictions is much closer to the meaning of the reference text after finetuning.\n",
        "\n",
        "Overall, finetuning has had a positive effect on the model's ability to generate predictions that are more accurate, more aligned with the reference, and semantically similar to the expected output."
      ],
      "metadata": {
        "id": "UcqoOrtgvHc8"
      },
      "id": "UcqoOrtgvHc8"
    },
    {
      "cell_type": "markdown",
      "source": [
        "### Problems and Future Steps"
      ],
      "metadata": {
        "id": "ycIgdQ_9vgy2"
      },
      "id": "ycIgdQ_9vgy2"
    },
    {
      "cell_type": "markdown",
      "source": [
        "#### Problems:"
      ],
      "metadata": {
        "id": "9ShgApIRyHte"
      },
      "id": "9ShgApIRyHte"
    },
    {
      "cell_type": "markdown",
      "source": [
        "* **Resource Constraints**: Effective utilization of cloud resources necessitates strategic budgeting. Additional resources are required to support models with a higher number of parameters and larger datasets for training, evaluation, and testing, as well as for the collection of more data.\n",
        "\n",
        "* **Model Imperfection**: The model's initial flaws, such as the duplication of outputs and inappropriate name generation for tasks, can adversely affect its performance.\n",
        "\n",
        "* **Abstract Predictions**: The model has difficulty predicting names for abstract methods and constructors, a common issue in code generation tasks."
      ],
      "metadata": {
        "id": "0NMFGcHqzowP"
      },
      "id": "0NMFGcHqzowP"
    },
    {
      "cell_type": "markdown",
      "source": [
        "\n",
        "#### Further Steps:"
      ],
      "metadata": {
        "id": "4K83Cv2wzwlC"
      },
      "id": "4K83Cv2wzwlC"
    },
    {
      "cell_type": "markdown",
      "source": [
        "* **Data Cleaning Model**: Developing a model specifically for data cleaning is advantageous. Care must be taken to ensure this model does not introduce its own biases or errors.\n",
        "\n",
        "* **Enhanced Prediction Mechanisms**: Improving prediction accuracy by detecting constructors and their corresponding classes. A context-aware system that comprehends code structure, including recognizing annotations like 'override' and 'deprecated', could enhance the accuracy in predicting method names and functionalities.\n",
        "\n",
        "* **Active Learning**: Implementing an active learning loop in production, where the model continuously learns from new data, particularly from instances it currently misinterprets, can be a cost-effective method for ongoing improvement.\n",
        "\n",
        "* **Diverse Learning Strategies**: Categorizing methods based on various criteria can be beneficial. These criteria might include the length of the code (such as one-line, multi-line, or beyond a certain maximum length), the purpose of the methods (like test, interface, abstract, etc.), or the type of identifiers used in the methods."
      ],
      "metadata": {
        "id": "904bpHYtz0NK"
      },
      "id": "904bpHYtz0NK"
    },
    {
      "cell_type": "code",
      "source": [],
      "metadata": {
        "id": "43QDb6RE33Dv"
      },
      "id": "43QDb6RE33Dv",
      "execution_count": null,
      "outputs": []
    }
  ],
  "metadata": {
    "accelerator": "GPU",
    "colab": {
      "provenance": [],
      "gpuType": "V100"
    },
    "kernelspec": {
      "display_name": "Python 3",
      "name": "python3"
    },
    "language_info": {
      "codemirror_mode": {
        "name": "ipython",
        "version": 3
      },
      "file_extension": ".py",
      "mimetype": "text/x-python",
      "name": "python",
      "nbconvert_exporter": "python",
      "pygments_lexer": "ipython3",
      "version": "3.11.4"
    }
  },
  "nbformat": 4,
  "nbformat_minor": 5
}
