{
  "cells": [
    {
      "cell_type": "markdown",
      "source": [
        "# Method Name Generation with CodeT5+: A Case Study on IntelliJ Community\n",
        "\n",
        "This project explores enhancing code generation by predicting method names using CodeT5+, focusing on a large open-source project, IntelliJ Community. The process starts with extracting all methods from the project, forming a comprehensive dataset. Initially, the project tests the unfinetuned CodeT5+ model on this data to assess its baseline performance in predicting method names.\n",
        "\n",
        "Subsequently, the model undergoes fine-tuning with the specific dataset, aimed at improving its accuracy in method name prediction tailored to the Java code in IntelliJ Community. A comparative analysis follows, evaluating the model's performance before and after fine-tuning, with an emphasis on quality improvements.\n",
        "\n",
        "The project concludes by summarizing the findings and providing insights into the effectiveness of method name prediction as a method for enhancing code generation, especially in large open-source projects. It showcases the practical application of CodeT5+ in software development and explores machine learning's potential in code generation."
      ],
      "metadata": {
        "id": "8yTUgre_RFHj"
      },
      "id": "8yTUgre_RFHj"
    },
    {
      "cell_type": "markdown",
      "metadata": {
        "id": "2a4d88ea-7653-4a9d-b8f4-8aa916b790b8"
      },
      "source": [
        "## Istallation And Imports"
      ],
      "id": "2a4d88ea-7653-4a9d-b8f4-8aa916b790b8"
    },
    {
      "cell_type": "code",
      "execution_count": null,
      "metadata": {
        "id": "70ff4f19-3405-4562-97c4-10a5e1fd6dc4",
        "scrolled": true,
        "colab": {
          "base_uri": "https://localhost:8080/"
        },
        "outputId": "77307ed4-ffda-48a8-87cb-6c6c03228b01"
      },
      "outputs": [
        {
          "output_type": "stream",
          "name": "stdout",
          "text": [
            "Requirement already satisfied: torch in /usr/local/lib/python3.10/dist-packages (2.1.0+cu121)\n",
            "Requirement already satisfied: torchvision in /usr/local/lib/python3.10/dist-packages (0.16.0+cu121)\n",
            "Requirement already satisfied: torchaudio in /usr/local/lib/python3.10/dist-packages (2.1.0+cu121)\n",
            "Requirement already satisfied: filelock in /usr/local/lib/python3.10/dist-packages (from torch) (3.13.1)\n",
            "Requirement already satisfied: typing-extensions in /usr/local/lib/python3.10/dist-packages (from torch) (4.5.0)\n",
            "Requirement already satisfied: sympy in /usr/local/lib/python3.10/dist-packages (from torch) (1.12)\n",
            "Requirement already satisfied: networkx in /usr/local/lib/python3.10/dist-packages (from torch) (3.2.1)\n",
            "Requirement already satisfied: jinja2 in /usr/local/lib/python3.10/dist-packages (from torch) (3.1.2)\n",
            "Requirement already satisfied: fsspec in /usr/local/lib/python3.10/dist-packages (from torch) (2023.6.0)\n",
            "Requirement already satisfied: triton==2.1.0 in /usr/local/lib/python3.10/dist-packages (from torch) (2.1.0)\n",
            "Requirement already satisfied: numpy in /usr/local/lib/python3.10/dist-packages (from torchvision) (1.23.5)\n",
            "Requirement already satisfied: requests in /usr/local/lib/python3.10/dist-packages (from torchvision) (2.31.0)\n",
            "Requirement already satisfied: pillow!=8.3.*,>=5.3.0 in /usr/local/lib/python3.10/dist-packages (from torchvision) (9.4.0)\n",
            "Requirement already satisfied: MarkupSafe>=2.0 in /usr/local/lib/python3.10/dist-packages (from jinja2->torch) (2.1.3)\n",
            "Requirement already satisfied: charset-normalizer<4,>=2 in /usr/local/lib/python3.10/dist-packages (from requests->torchvision) (3.3.2)\n",
            "Requirement already satisfied: idna<4,>=2.5 in /usr/local/lib/python3.10/dist-packages (from requests->torchvision) (3.6)\n",
            "Requirement already satisfied: urllib3<3,>=1.21.1 in /usr/local/lib/python3.10/dist-packages (from requests->torchvision) (2.0.7)\n",
            "Requirement already satisfied: certifi>=2017.4.17 in /usr/local/lib/python3.10/dist-packages (from requests->torchvision) (2023.11.17)\n",
            "Requirement already satisfied: mpmath>=0.19 in /usr/local/lib/python3.10/dist-packages (from sympy->torch) (1.3.0)\n",
            "Collecting git+https://github.com/huggingface/transformers\n",
            "  Cloning https://github.com/huggingface/transformers to /tmp/pip-req-build-b510pkwb\n",
            "  Running command git clone --filter=blob:none --quiet https://github.com/huggingface/transformers /tmp/pip-req-build-b510pkwb\n",
            "  Resolved https://github.com/huggingface/transformers to commit 3cefac1d974db5e2825a0cb2b842883a628be7a0\n",
            "  Installing build dependencies ... \u001b[?25l\u001b[?25hdone\n",
            "  Getting requirements to build wheel ... \u001b[?25l\u001b[?25hdone\n",
            "  Preparing metadata (pyproject.toml) ... \u001b[?25l\u001b[?25hdone\n",
            "Requirement already satisfied: filelock in /usr/local/lib/python3.10/dist-packages (from transformers==4.37.0.dev0) (3.13.1)\n",
            "Requirement already satisfied: huggingface-hub<1.0,>=0.19.3 in /usr/local/lib/python3.10/dist-packages (from transformers==4.37.0.dev0) (0.19.4)\n",
            "Requirement already satisfied: numpy>=1.17 in /usr/local/lib/python3.10/dist-packages (from transformers==4.37.0.dev0) (1.23.5)\n",
            "Requirement already satisfied: packaging>=20.0 in /usr/local/lib/python3.10/dist-packages (from transformers==4.37.0.dev0) (23.2)\n",
            "Requirement already satisfied: pyyaml>=5.1 in /usr/local/lib/python3.10/dist-packages (from transformers==4.37.0.dev0) (6.0.1)\n",
            "Requirement already satisfied: regex!=2019.12.17 in /usr/local/lib/python3.10/dist-packages (from transformers==4.37.0.dev0) (2023.6.3)\n",
            "Requirement already satisfied: requests in /usr/local/lib/python3.10/dist-packages (from transformers==4.37.0.dev0) (2.31.0)\n",
            "Requirement already satisfied: tokenizers<0.19,>=0.14 in /usr/local/lib/python3.10/dist-packages (from transformers==4.37.0.dev0) (0.15.0)\n",
            "Requirement already satisfied: safetensors>=0.3.1 in /usr/local/lib/python3.10/dist-packages (from transformers==4.37.0.dev0) (0.4.1)\n",
            "Requirement already satisfied: tqdm>=4.27 in /usr/local/lib/python3.10/dist-packages (from transformers==4.37.0.dev0) (4.66.1)\n",
            "Requirement already satisfied: fsspec>=2023.5.0 in /usr/local/lib/python3.10/dist-packages (from huggingface-hub<1.0,>=0.19.3->transformers==4.37.0.dev0) (2023.6.0)\n",
            "Requirement already satisfied: typing-extensions>=3.7.4.3 in /usr/local/lib/python3.10/dist-packages (from huggingface-hub<1.0,>=0.19.3->transformers==4.37.0.dev0) (4.5.0)\n",
            "Requirement already satisfied: charset-normalizer<4,>=2 in /usr/local/lib/python3.10/dist-packages (from requests->transformers==4.37.0.dev0) (3.3.2)\n",
            "Requirement already satisfied: idna<4,>=2.5 in /usr/local/lib/python3.10/dist-packages (from requests->transformers==4.37.0.dev0) (3.6)\n",
            "Requirement already satisfied: urllib3<3,>=1.21.1 in /usr/local/lib/python3.10/dist-packages (from requests->transformers==4.37.0.dev0) (2.0.7)\n",
            "Requirement already satisfied: certifi>=2017.4.17 in /usr/local/lib/python3.10/dist-packages (from requests->transformers==4.37.0.dev0) (2023.11.17)\n",
            "Building wheels for collected packages: transformers\n",
            "  Building wheel for transformers (pyproject.toml) ... \u001b[?25l\u001b[?25hdone\n",
            "  Created wheel for transformers: filename=transformers-4.37.0.dev0-py3-none-any.whl size=8281628 sha256=d6025bb3e1f198d9414683790861755b9a072590a4f8197eb7e7d5ef5eea74a9\n",
            "  Stored in directory: /tmp/pip-ephem-wheel-cache-0t03fbuu/wheels/c0/14/d6/6c9a5582d2ac191ec0a483be151a4495fe1eb2a6706ca49f1b\n",
            "Successfully built transformers\n",
            "Installing collected packages: transformers\n",
            "  Attempting uninstall: transformers\n",
            "    Found existing installation: transformers 4.35.2\n",
            "    Uninstalling transformers-4.35.2:\n",
            "      Successfully uninstalled transformers-4.35.2\n",
            "Successfully installed transformers-4.37.0.dev0\n",
            "Collecting git+https://github.com/huggingface/peft.git\n",
            "  Cloning https://github.com/huggingface/peft.git to /tmp/pip-req-build-dpzpfg9m\n",
            "  Running command git clone --filter=blob:none --quiet https://github.com/huggingface/peft.git /tmp/pip-req-build-dpzpfg9m\n",
            "  Resolved https://github.com/huggingface/peft.git to commit cf04d0353f0343cbf66627228c4495f51669af34\n",
            "  Installing build dependencies ... \u001b[?25l\u001b[?25hdone\n",
            "  Getting requirements to build wheel ... \u001b[?25l\u001b[?25hdone\n",
            "  Preparing metadata (pyproject.toml) ... \u001b[?25l\u001b[?25hdone\n",
            "Requirement already satisfied: numpy>=1.17 in /usr/local/lib/python3.10/dist-packages (from peft==0.7.2.dev0) (1.23.5)\n",
            "Requirement already satisfied: packaging>=20.0 in /usr/local/lib/python3.10/dist-packages (from peft==0.7.2.dev0) (23.2)\n",
            "Requirement already satisfied: psutil in /usr/local/lib/python3.10/dist-packages (from peft==0.7.2.dev0) (5.9.5)\n",
            "Requirement already satisfied: pyyaml in /usr/local/lib/python3.10/dist-packages (from peft==0.7.2.dev0) (6.0.1)\n",
            "Requirement already satisfied: torch>=1.13.0 in /usr/local/lib/python3.10/dist-packages (from peft==0.7.2.dev0) (2.1.0+cu121)\n",
            "Requirement already satisfied: transformers in /usr/local/lib/python3.10/dist-packages (from peft==0.7.2.dev0) (4.37.0.dev0)\n",
            "Requirement already satisfied: tqdm in /usr/local/lib/python3.10/dist-packages (from peft==0.7.2.dev0) (4.66.1)\n",
            "Collecting accelerate>=0.21.0 (from peft==0.7.2.dev0)\n",
            "  Downloading accelerate-0.25.0-py3-none-any.whl (265 kB)\n",
            "\u001b[2K     \u001b[90m━━━━━━━━━━━━━━━━━━━━━━━━━━━━━━━━━━━━━━━━\u001b[0m \u001b[32m265.7/265.7 kB\u001b[0m \u001b[31m2.2 MB/s\u001b[0m eta \u001b[36m0:00:00\u001b[0m\n",
            "\u001b[?25hRequirement already satisfied: safetensors in /usr/local/lib/python3.10/dist-packages (from peft==0.7.2.dev0) (0.4.1)\n",
            "Requirement already satisfied: huggingface-hub>=0.17.0 in /usr/local/lib/python3.10/dist-packages (from peft==0.7.2.dev0) (0.19.4)\n",
            "Requirement already satisfied: filelock in /usr/local/lib/python3.10/dist-packages (from huggingface-hub>=0.17.0->peft==0.7.2.dev0) (3.13.1)\n",
            "Requirement already satisfied: fsspec>=2023.5.0 in /usr/local/lib/python3.10/dist-packages (from huggingface-hub>=0.17.0->peft==0.7.2.dev0) (2023.6.0)\n",
            "Requirement already satisfied: requests in /usr/local/lib/python3.10/dist-packages (from huggingface-hub>=0.17.0->peft==0.7.2.dev0) (2.31.0)\n",
            "Requirement already satisfied: typing-extensions>=3.7.4.3 in /usr/local/lib/python3.10/dist-packages (from huggingface-hub>=0.17.0->peft==0.7.2.dev0) (4.5.0)\n",
            "Requirement already satisfied: sympy in /usr/local/lib/python3.10/dist-packages (from torch>=1.13.0->peft==0.7.2.dev0) (1.12)\n",
            "Requirement already satisfied: networkx in /usr/local/lib/python3.10/dist-packages (from torch>=1.13.0->peft==0.7.2.dev0) (3.2.1)\n",
            "Requirement already satisfied: jinja2 in /usr/local/lib/python3.10/dist-packages (from torch>=1.13.0->peft==0.7.2.dev0) (3.1.2)\n",
            "Requirement already satisfied: triton==2.1.0 in /usr/local/lib/python3.10/dist-packages (from torch>=1.13.0->peft==0.7.2.dev0) (2.1.0)\n",
            "Requirement already satisfied: regex!=2019.12.17 in /usr/local/lib/python3.10/dist-packages (from transformers->peft==0.7.2.dev0) (2023.6.3)\n",
            "Requirement already satisfied: tokenizers<0.19,>=0.14 in /usr/local/lib/python3.10/dist-packages (from transformers->peft==0.7.2.dev0) (0.15.0)\n",
            "Requirement already satisfied: MarkupSafe>=2.0 in /usr/local/lib/python3.10/dist-packages (from jinja2->torch>=1.13.0->peft==0.7.2.dev0) (2.1.3)\n",
            "Requirement already satisfied: charset-normalizer<4,>=2 in /usr/local/lib/python3.10/dist-packages (from requests->huggingface-hub>=0.17.0->peft==0.7.2.dev0) (3.3.2)\n",
            "Requirement already satisfied: idna<4,>=2.5 in /usr/local/lib/python3.10/dist-packages (from requests->huggingface-hub>=0.17.0->peft==0.7.2.dev0) (3.6)\n",
            "Requirement already satisfied: urllib3<3,>=1.21.1 in /usr/local/lib/python3.10/dist-packages (from requests->huggingface-hub>=0.17.0->peft==0.7.2.dev0) (2.0.7)\n",
            "Requirement already satisfied: certifi>=2017.4.17 in /usr/local/lib/python3.10/dist-packages (from requests->huggingface-hub>=0.17.0->peft==0.7.2.dev0) (2023.11.17)\n",
            "Requirement already satisfied: mpmath>=0.19 in /usr/local/lib/python3.10/dist-packages (from sympy->torch>=1.13.0->peft==0.7.2.dev0) (1.3.0)\n",
            "Building wheels for collected packages: peft\n",
            "  Building wheel for peft (pyproject.toml) ... \u001b[?25l\u001b[?25hdone\n",
            "  Created wheel for peft: filename=peft-0.7.2.dev0-py3-none-any.whl size=169456 sha256=dba9cc84b5271992d591f68c77480b80e93ed74835c646b952f1345d4b9799e8\n",
            "  Stored in directory: /tmp/pip-ephem-wheel-cache-ovbbw47b/wheels/d7/c7/de/1368fac8590e1b103ddc2ec2a28ad51d83aded1a3830e8a087\n",
            "Successfully built peft\n",
            "Installing collected packages: accelerate, peft\n",
            "Successfully installed accelerate-0.25.0 peft-0.7.2.dev0\n",
            "Collecting datasets\n",
            "  Downloading datasets-2.16.0-py3-none-any.whl (507 kB)\n",
            "\u001b[2K     \u001b[90m━━━━━━━━━━━━━━━━━━━━━━━━━━━━━━━━━━━━━━━━\u001b[0m \u001b[32m507.1/507.1 kB\u001b[0m \u001b[31m3.9 MB/s\u001b[0m eta \u001b[36m0:00:00\u001b[0m\n",
            "\u001b[?25hRequirement already satisfied: accelerate in /usr/local/lib/python3.10/dist-packages (0.25.0)\n",
            "Requirement already satisfied: huggingface_hub in /usr/local/lib/python3.10/dist-packages (0.19.4)\n",
            "Requirement already satisfied: filelock in /usr/local/lib/python3.10/dist-packages (from datasets) (3.13.1)\n",
            "Requirement already satisfied: numpy>=1.17 in /usr/local/lib/python3.10/dist-packages (from datasets) (1.23.5)\n",
            "Requirement already satisfied: pyarrow>=8.0.0 in /usr/local/lib/python3.10/dist-packages (from datasets) (10.0.1)\n",
            "Collecting pyarrow-hotfix (from datasets)\n",
            "  Downloading pyarrow_hotfix-0.6-py3-none-any.whl (7.9 kB)\n",
            "Collecting dill<0.3.8,>=0.3.0 (from datasets)\n",
            "  Downloading dill-0.3.7-py3-none-any.whl (115 kB)\n",
            "\u001b[2K     \u001b[90m━━━━━━━━━━━━━━━━━━━━━━━━━━━━━━━━━━━━━━━━\u001b[0m \u001b[32m115.3/115.3 kB\u001b[0m \u001b[31m17.4 MB/s\u001b[0m eta \u001b[36m0:00:00\u001b[0m\n",
            "\u001b[?25hRequirement already satisfied: pandas in /usr/local/lib/python3.10/dist-packages (from datasets) (1.5.3)\n",
            "Requirement already satisfied: requests>=2.19.0 in /usr/local/lib/python3.10/dist-packages (from datasets) (2.31.0)\n",
            "Requirement already satisfied: tqdm>=4.62.1 in /usr/local/lib/python3.10/dist-packages (from datasets) (4.66.1)\n",
            "Requirement already satisfied: xxhash in /usr/local/lib/python3.10/dist-packages (from datasets) (3.4.1)\n",
            "Collecting multiprocess (from datasets)\n",
            "  Downloading multiprocess-0.70.15-py310-none-any.whl (134 kB)\n",
            "\u001b[2K     \u001b[90m━━━━━━━━━━━━━━━━━━━━━━━━━━━━━━━━━━━━━━━━\u001b[0m \u001b[32m134.8/134.8 kB\u001b[0m \u001b[31m18.4 MB/s\u001b[0m eta \u001b[36m0:00:00\u001b[0m\n",
            "\u001b[?25hRequirement already satisfied: fsspec[http]<=2023.10.0,>=2023.1.0 in /usr/local/lib/python3.10/dist-packages (from datasets) (2023.6.0)\n",
            "Requirement already satisfied: aiohttp in /usr/local/lib/python3.10/dist-packages (from datasets) (3.9.1)\n",
            "Requirement already satisfied: packaging in /usr/local/lib/python3.10/dist-packages (from datasets) (23.2)\n",
            "Requirement already satisfied: pyyaml>=5.1 in /usr/local/lib/python3.10/dist-packages (from datasets) (6.0.1)\n",
            "Requirement already satisfied: psutil in /usr/local/lib/python3.10/dist-packages (from accelerate) (5.9.5)\n",
            "Requirement already satisfied: torch>=1.10.0 in /usr/local/lib/python3.10/dist-packages (from accelerate) (2.1.0+cu121)\n",
            "Requirement already satisfied: safetensors>=0.3.1 in /usr/local/lib/python3.10/dist-packages (from accelerate) (0.4.1)\n",
            "Requirement already satisfied: typing-extensions>=3.7.4.3 in /usr/local/lib/python3.10/dist-packages (from huggingface_hub) (4.5.0)\n",
            "Requirement already satisfied: attrs>=17.3.0 in /usr/local/lib/python3.10/dist-packages (from aiohttp->datasets) (23.1.0)\n",
            "Requirement already satisfied: multidict<7.0,>=4.5 in /usr/local/lib/python3.10/dist-packages (from aiohttp->datasets) (6.0.4)\n",
            "Requirement already satisfied: yarl<2.0,>=1.0 in /usr/local/lib/python3.10/dist-packages (from aiohttp->datasets) (1.9.4)\n",
            "Requirement already satisfied: frozenlist>=1.1.1 in /usr/local/lib/python3.10/dist-packages (from aiohttp->datasets) (1.4.1)\n",
            "Requirement already satisfied: aiosignal>=1.1.2 in /usr/local/lib/python3.10/dist-packages (from aiohttp->datasets) (1.3.1)\n",
            "Requirement already satisfied: async-timeout<5.0,>=4.0 in /usr/local/lib/python3.10/dist-packages (from aiohttp->datasets) (4.0.3)\n",
            "Requirement already satisfied: charset-normalizer<4,>=2 in /usr/local/lib/python3.10/dist-packages (from requests>=2.19.0->datasets) (3.3.2)\n",
            "Requirement already satisfied: idna<4,>=2.5 in /usr/local/lib/python3.10/dist-packages (from requests>=2.19.0->datasets) (3.6)\n",
            "Requirement already satisfied: urllib3<3,>=1.21.1 in /usr/local/lib/python3.10/dist-packages (from requests>=2.19.0->datasets) (2.0.7)\n",
            "Requirement already satisfied: certifi>=2017.4.17 in /usr/local/lib/python3.10/dist-packages (from requests>=2.19.0->datasets) (2023.11.17)\n",
            "Requirement already satisfied: sympy in /usr/local/lib/python3.10/dist-packages (from torch>=1.10.0->accelerate) (1.12)\n",
            "Requirement already satisfied: networkx in /usr/local/lib/python3.10/dist-packages (from torch>=1.10.0->accelerate) (3.2.1)\n",
            "Requirement already satisfied: jinja2 in /usr/local/lib/python3.10/dist-packages (from torch>=1.10.0->accelerate) (3.1.2)\n",
            "Requirement already satisfied: triton==2.1.0 in /usr/local/lib/python3.10/dist-packages (from torch>=1.10.0->accelerate) (2.1.0)\n",
            "Requirement already satisfied: python-dateutil>=2.8.1 in /usr/local/lib/python3.10/dist-packages (from pandas->datasets) (2.8.2)\n",
            "Requirement already satisfied: pytz>=2020.1 in /usr/local/lib/python3.10/dist-packages (from pandas->datasets) (2023.3.post1)\n",
            "Requirement already satisfied: six>=1.5 in /usr/local/lib/python3.10/dist-packages (from python-dateutil>=2.8.1->pandas->datasets) (1.16.0)\n",
            "Requirement already satisfied: MarkupSafe>=2.0 in /usr/local/lib/python3.10/dist-packages (from jinja2->torch>=1.10.0->accelerate) (2.1.3)\n",
            "Requirement already satisfied: mpmath>=0.19 in /usr/local/lib/python3.10/dist-packages (from sympy->torch>=1.10.0->accelerate) (1.3.0)\n",
            "Installing collected packages: pyarrow-hotfix, dill, multiprocess, datasets\n",
            "Successfully installed datasets-2.16.0 dill-0.3.7 multiprocess-0.70.15 pyarrow-hotfix-0.6\n",
            "Collecting bitsandbytes\n",
            "  Downloading bitsandbytes-0.41.3.post2-py3-none-any.whl (92.6 MB)\n",
            "\u001b[2K     \u001b[90m━━━━━━━━━━━━━━━━━━━━━━━━━━━━━━━━━━━━━━━━\u001b[0m \u001b[32m92.6/92.6 MB\u001b[0m \u001b[31m9.3 MB/s\u001b[0m eta \u001b[36m0:00:00\u001b[0m\n",
            "\u001b[?25hInstalling collected packages: bitsandbytes\n",
            "Successfully installed bitsandbytes-0.41.3.post2\n",
            "Collecting wandb\n",
            "  Downloading wandb-0.16.1-py3-none-any.whl (2.1 MB)\n",
            "\u001b[2K     \u001b[90m━━━━━━━━━━━━━━━━━━━━━━━━━━━━━━━━━━━━━━━━\u001b[0m \u001b[32m2.1/2.1 MB\u001b[0m \u001b[31m9.1 MB/s\u001b[0m eta \u001b[36m0:00:00\u001b[0m\n",
            "\u001b[?25hRequirement already satisfied: Click!=8.0.0,>=7.1 in /usr/local/lib/python3.10/dist-packages (from wandb) (8.1.7)\n",
            "Collecting GitPython!=3.1.29,>=1.0.0 (from wandb)\n",
            "  Downloading GitPython-3.1.40-py3-none-any.whl (190 kB)\n",
            "\u001b[2K     \u001b[90m━━━━━━━━━━━━━━━━━━━━━━━━━━━━━━━━━━━━━━━━\u001b[0m \u001b[32m190.6/190.6 kB\u001b[0m \u001b[31m25.0 MB/s\u001b[0m eta \u001b[36m0:00:00\u001b[0m\n",
            "\u001b[?25hRequirement already satisfied: requests<3,>=2.0.0 in /usr/local/lib/python3.10/dist-packages (from wandb) (2.31.0)\n",
            "Requirement already satisfied: psutil>=5.0.0 in /usr/local/lib/python3.10/dist-packages (from wandb) (5.9.5)\n",
            "Collecting sentry-sdk>=1.0.0 (from wandb)\n",
            "  Downloading sentry_sdk-1.39.1-py2.py3-none-any.whl (254 kB)\n",
            "\u001b[2K     \u001b[90m━━━━━━━━━━━━━━━━━━━━━━━━━━━━━━━━━━━━━━━━\u001b[0m \u001b[32m254.1/254.1 kB\u001b[0m \u001b[31m28.0 MB/s\u001b[0m eta \u001b[36m0:00:00\u001b[0m\n",
            "\u001b[?25hCollecting docker-pycreds>=0.4.0 (from wandb)\n",
            "  Downloading docker_pycreds-0.4.0-py2.py3-none-any.whl (9.0 kB)\n",
            "Requirement already satisfied: PyYAML in /usr/local/lib/python3.10/dist-packages (from wandb) (6.0.1)\n",
            "Collecting setproctitle (from wandb)\n",
            "  Downloading setproctitle-1.3.3-cp310-cp310-manylinux_2_5_x86_64.manylinux1_x86_64.manylinux_2_17_x86_64.manylinux2014_x86_64.whl (30 kB)\n",
            "Requirement already satisfied: setuptools in /usr/local/lib/python3.10/dist-packages (from wandb) (67.7.2)\n",
            "Requirement already satisfied: appdirs>=1.4.3 in /usr/local/lib/python3.10/dist-packages (from wandb) (1.4.4)\n",
            "Requirement already satisfied: protobuf!=4.21.0,<5,>=3.19.0 in /usr/local/lib/python3.10/dist-packages (from wandb) (3.20.3)\n",
            "Requirement already satisfied: six>=1.4.0 in /usr/local/lib/python3.10/dist-packages (from docker-pycreds>=0.4.0->wandb) (1.16.0)\n",
            "Collecting gitdb<5,>=4.0.1 (from GitPython!=3.1.29,>=1.0.0->wandb)\n",
            "  Downloading gitdb-4.0.11-py3-none-any.whl (62 kB)\n",
            "\u001b[2K     \u001b[90m━━━━━━━━━━━━━━━━━━━━━━━━━━━━━━━━━━━━━━━━\u001b[0m \u001b[32m62.7/62.7 kB\u001b[0m \u001b[31m8.9 MB/s\u001b[0m eta \u001b[36m0:00:00\u001b[0m\n",
            "\u001b[?25hRequirement already satisfied: charset-normalizer<4,>=2 in /usr/local/lib/python3.10/dist-packages (from requests<3,>=2.0.0->wandb) (3.3.2)\n",
            "Requirement already satisfied: idna<4,>=2.5 in /usr/local/lib/python3.10/dist-packages (from requests<3,>=2.0.0->wandb) (3.6)\n",
            "Requirement already satisfied: urllib3<3,>=1.21.1 in /usr/local/lib/python3.10/dist-packages (from requests<3,>=2.0.0->wandb) (2.0.7)\n",
            "Requirement already satisfied: certifi>=2017.4.17 in /usr/local/lib/python3.10/dist-packages (from requests<3,>=2.0.0->wandb) (2023.11.17)\n",
            "Collecting smmap<6,>=3.0.1 (from gitdb<5,>=4.0.1->GitPython!=3.1.29,>=1.0.0->wandb)\n",
            "  Downloading smmap-5.0.1-py3-none-any.whl (24 kB)\n",
            "Installing collected packages: smmap, setproctitle, sentry-sdk, docker-pycreds, gitdb, GitPython, wandb\n",
            "Successfully installed GitPython-3.1.40 docker-pycreds-0.4.0 gitdb-4.0.11 sentry-sdk-1.39.1 setproctitle-1.3.3 smmap-5.0.1 wandb-0.16.1\n",
            "Collecting tree-sitter\n",
            "  Downloading tree_sitter-0.20.4-cp310-cp310-manylinux_2_17_x86_64.manylinux2014_x86_64.whl (488 kB)\n",
            "\u001b[2K     \u001b[90m━━━━━━━━━━━━━━━━━━━━━━━━━━━━━━━━━━━━━━━━\u001b[0m \u001b[32m488.2/488.2 kB\u001b[0m \u001b[31m2.6 MB/s\u001b[0m eta \u001b[36m0:00:00\u001b[0m\n",
            "\u001b[?25hInstalling collected packages: tree-sitter\n",
            "Successfully installed tree-sitter-0.20.4\n",
            "Requirement already satisfied: GitPython in /usr/local/lib/python3.10/dist-packages (3.1.40)\n",
            "Requirement already satisfied: gitdb<5,>=4.0.1 in /usr/local/lib/python3.10/dist-packages (from GitPython) (4.0.11)\n",
            "Requirement already satisfied: smmap<6,>=3.0.1 in /usr/local/lib/python3.10/dist-packages (from gitdb<5,>=4.0.1->GitPython) (5.0.1)\n",
            "Collecting rouge_score\n",
            "  Downloading rouge_score-0.1.2.tar.gz (17 kB)\n",
            "  Preparing metadata (setup.py) ... \u001b[?25l\u001b[?25hdone\n",
            "Requirement already satisfied: nltk in /usr/local/lib/python3.10/dist-packages (3.8.1)\n",
            "Requirement already satisfied: absl-py in /usr/local/lib/python3.10/dist-packages (from rouge_score) (1.4.0)\n",
            "Requirement already satisfied: numpy in /usr/local/lib/python3.10/dist-packages (from rouge_score) (1.23.5)\n",
            "Requirement already satisfied: six>=1.14.0 in /usr/local/lib/python3.10/dist-packages (from rouge_score) (1.16.0)\n",
            "Requirement already satisfied: click in /usr/local/lib/python3.10/dist-packages (from nltk) (8.1.7)\n",
            "Requirement already satisfied: joblib in /usr/local/lib/python3.10/dist-packages (from nltk) (1.3.2)\n",
            "Requirement already satisfied: regex>=2021.8.3 in /usr/local/lib/python3.10/dist-packages (from nltk) (2023.6.3)\n",
            "Requirement already satisfied: tqdm in /usr/local/lib/python3.10/dist-packages (from nltk) (4.66.1)\n",
            "Building wheels for collected packages: rouge_score\n",
            "  Building wheel for rouge_score (setup.py) ... \u001b[?25l\u001b[?25hdone\n",
            "  Created wheel for rouge_score: filename=rouge_score-0.1.2-py3-none-any.whl size=24933 sha256=45b9d6536d65d8c9410692aaf0989d0460a66bce0c3bc2415b69c32e313b7860\n",
            "  Stored in directory: /root/.cache/pip/wheels/5f/dd/89/461065a73be61a532ff8599a28e9beef17985c9e9c31e541b4\n",
            "Successfully built rouge_score\n",
            "Installing collected packages: rouge_score\n",
            "Successfully installed rouge_score-0.1.2\n",
            "Requirement already satisfied: tensorboard in /usr/local/lib/python3.10/dist-packages (2.15.1)\n",
            "Requirement already satisfied: absl-py>=0.4 in /usr/local/lib/python3.10/dist-packages (from tensorboard) (1.4.0)\n",
            "Requirement already satisfied: grpcio>=1.48.2 in /usr/local/lib/python3.10/dist-packages (from tensorboard) (1.60.0)\n",
            "Requirement already satisfied: google-auth<3,>=1.6.3 in /usr/local/lib/python3.10/dist-packages (from tensorboard) (2.17.3)\n",
            "Requirement already satisfied: google-auth-oauthlib<2,>=0.5 in /usr/local/lib/python3.10/dist-packages (from tensorboard) (1.2.0)\n",
            "Requirement already satisfied: markdown>=2.6.8 in /usr/local/lib/python3.10/dist-packages (from tensorboard) (3.5.1)\n",
            "Requirement already satisfied: numpy>=1.12.0 in /usr/local/lib/python3.10/dist-packages (from tensorboard) (1.23.5)\n",
            "Requirement already satisfied: protobuf<4.24,>=3.19.6 in /usr/local/lib/python3.10/dist-packages (from tensorboard) (3.20.3)\n",
            "Requirement already satisfied: requests<3,>=2.21.0 in /usr/local/lib/python3.10/dist-packages (from tensorboard) (2.31.0)\n",
            "Requirement already satisfied: setuptools>=41.0.0 in /usr/local/lib/python3.10/dist-packages (from tensorboard) (67.7.2)\n",
            "Requirement already satisfied: six>1.9 in /usr/local/lib/python3.10/dist-packages (from tensorboard) (1.16.0)\n",
            "Requirement already satisfied: tensorboard-data-server<0.8.0,>=0.7.0 in /usr/local/lib/python3.10/dist-packages (from tensorboard) (0.7.2)\n",
            "Requirement already satisfied: werkzeug>=1.0.1 in /usr/local/lib/python3.10/dist-packages (from tensorboard) (3.0.1)\n",
            "Requirement already satisfied: cachetools<6.0,>=2.0.0 in /usr/local/lib/python3.10/dist-packages (from google-auth<3,>=1.6.3->tensorboard) (5.3.2)\n",
            "Requirement already satisfied: pyasn1-modules>=0.2.1 in /usr/local/lib/python3.10/dist-packages (from google-auth<3,>=1.6.3->tensorboard) (0.3.0)\n",
            "Requirement already satisfied: rsa<5,>=3.1.4 in /usr/local/lib/python3.10/dist-packages (from google-auth<3,>=1.6.3->tensorboard) (4.9)\n",
            "Requirement already satisfied: requests-oauthlib>=0.7.0 in /usr/local/lib/python3.10/dist-packages (from google-auth-oauthlib<2,>=0.5->tensorboard) (1.3.1)\n",
            "Requirement already satisfied: charset-normalizer<4,>=2 in /usr/local/lib/python3.10/dist-packages (from requests<3,>=2.21.0->tensorboard) (3.3.2)\n",
            "Requirement already satisfied: idna<4,>=2.5 in /usr/local/lib/python3.10/dist-packages (from requests<3,>=2.21.0->tensorboard) (3.6)\n",
            "Requirement already satisfied: urllib3<3,>=1.21.1 in /usr/local/lib/python3.10/dist-packages (from requests<3,>=2.21.0->tensorboard) (2.0.7)\n",
            "Requirement already satisfied: certifi>=2017.4.17 in /usr/local/lib/python3.10/dist-packages (from requests<3,>=2.21.0->tensorboard) (2023.11.17)\n",
            "Requirement already satisfied: MarkupSafe>=2.1.1 in /usr/local/lib/python3.10/dist-packages (from werkzeug>=1.0.1->tensorboard) (2.1.3)\n",
            "Requirement already satisfied: pyasn1<0.6.0,>=0.4.6 in /usr/local/lib/python3.10/dist-packages (from pyasn1-modules>=0.2.1->google-auth<3,>=1.6.3->tensorboard) (0.5.1)\n",
            "Requirement already satisfied: oauthlib>=3.0.0 in /usr/local/lib/python3.10/dist-packages (from requests-oauthlib>=0.7.0->google-auth-oauthlib<2,>=0.5->tensorboard) (3.2.2)\n",
            "Collecting tensorboardX\n",
            "  Downloading tensorboardX-2.6.2.2-py2.py3-none-any.whl (101 kB)\n",
            "\u001b[2K     \u001b[90m━━━━━━━━━━━━━━━━━━━━━━━━━━━━━━━━━━━━━━━━\u001b[0m \u001b[32m101.7/101.7 kB\u001b[0m \u001b[31m1.2 MB/s\u001b[0m eta \u001b[36m0:00:00\u001b[0m\n",
            "\u001b[?25hRequirement already satisfied: numpy in /usr/local/lib/python3.10/dist-packages (from tensorboardX) (1.23.5)\n",
            "Requirement already satisfied: packaging in /usr/local/lib/python3.10/dist-packages (from tensorboardX) (23.2)\n",
            "Requirement already satisfied: protobuf>=3.20 in /usr/local/lib/python3.10/dist-packages (from tensorboardX) (3.20.3)\n",
            "Installing collected packages: tensorboardX\n",
            "Successfully installed tensorboardX-2.6.2.2\n",
            "Requirement already satisfied: spacy in /usr/local/lib/python3.10/dist-packages (3.6.1)\n",
            "Requirement already satisfied: spacy-legacy<3.1.0,>=3.0.11 in /usr/local/lib/python3.10/dist-packages (from spacy) (3.0.12)\n",
            "Requirement already satisfied: spacy-loggers<2.0.0,>=1.0.0 in /usr/local/lib/python3.10/dist-packages (from spacy) (1.0.5)\n",
            "Requirement already satisfied: murmurhash<1.1.0,>=0.28.0 in /usr/local/lib/python3.10/dist-packages (from spacy) (1.0.10)\n",
            "Requirement already satisfied: cymem<2.1.0,>=2.0.2 in /usr/local/lib/python3.10/dist-packages (from spacy) (2.0.8)\n",
            "Requirement already satisfied: preshed<3.1.0,>=3.0.2 in /usr/local/lib/python3.10/dist-packages (from spacy) (3.0.9)\n",
            "Requirement already satisfied: thinc<8.2.0,>=8.1.8 in /usr/local/lib/python3.10/dist-packages (from spacy) (8.1.12)\n",
            "Requirement already satisfied: wasabi<1.2.0,>=0.9.1 in /usr/local/lib/python3.10/dist-packages (from spacy) (1.1.2)\n",
            "Requirement already satisfied: srsly<3.0.0,>=2.4.3 in /usr/local/lib/python3.10/dist-packages (from spacy) (2.4.8)\n",
            "Requirement already satisfied: catalogue<2.1.0,>=2.0.6 in /usr/local/lib/python3.10/dist-packages (from spacy) (2.0.10)\n",
            "Requirement already satisfied: typer<0.10.0,>=0.3.0 in /usr/local/lib/python3.10/dist-packages (from spacy) (0.9.0)\n",
            "Requirement already satisfied: pathy>=0.10.0 in /usr/local/lib/python3.10/dist-packages (from spacy) (0.10.3)\n",
            "Requirement already satisfied: smart-open<7.0.0,>=5.2.1 in /usr/local/lib/python3.10/dist-packages (from spacy) (6.4.0)\n",
            "Requirement already satisfied: tqdm<5.0.0,>=4.38.0 in /usr/local/lib/python3.10/dist-packages (from spacy) (4.66.1)\n",
            "Requirement already satisfied: numpy>=1.15.0 in /usr/local/lib/python3.10/dist-packages (from spacy) (1.23.5)\n",
            "Requirement already satisfied: requests<3.0.0,>=2.13.0 in /usr/local/lib/python3.10/dist-packages (from spacy) (2.31.0)\n",
            "Requirement already satisfied: pydantic!=1.8,!=1.8.1,<3.0.0,>=1.7.4 in /usr/local/lib/python3.10/dist-packages (from spacy) (1.10.13)\n",
            "Requirement already satisfied: jinja2 in /usr/local/lib/python3.10/dist-packages (from spacy) (3.1.2)\n",
            "Requirement already satisfied: setuptools in /usr/local/lib/python3.10/dist-packages (from spacy) (67.7.2)\n",
            "Requirement already satisfied: packaging>=20.0 in /usr/local/lib/python3.10/dist-packages (from spacy) (23.2)\n",
            "Requirement already satisfied: langcodes<4.0.0,>=3.2.0 in /usr/local/lib/python3.10/dist-packages (from spacy) (3.3.0)\n",
            "Requirement already satisfied: typing-extensions>=4.2.0 in /usr/local/lib/python3.10/dist-packages (from pydantic!=1.8,!=1.8.1,<3.0.0,>=1.7.4->spacy) (4.5.0)\n",
            "Requirement already satisfied: charset-normalizer<4,>=2 in /usr/local/lib/python3.10/dist-packages (from requests<3.0.0,>=2.13.0->spacy) (3.3.2)\n",
            "Requirement already satisfied: idna<4,>=2.5 in /usr/local/lib/python3.10/dist-packages (from requests<3.0.0,>=2.13.0->spacy) (3.6)\n",
            "Requirement already satisfied: urllib3<3,>=1.21.1 in /usr/local/lib/python3.10/dist-packages (from requests<3.0.0,>=2.13.0->spacy) (2.0.7)\n",
            "Requirement already satisfied: certifi>=2017.4.17 in /usr/local/lib/python3.10/dist-packages (from requests<3.0.0,>=2.13.0->spacy) (2023.11.17)\n",
            "Requirement already satisfied: blis<0.8.0,>=0.7.8 in /usr/local/lib/python3.10/dist-packages (from thinc<8.2.0,>=8.1.8->spacy) (0.7.11)\n",
            "Requirement already satisfied: confection<1.0.0,>=0.0.1 in /usr/local/lib/python3.10/dist-packages (from thinc<8.2.0,>=8.1.8->spacy) (0.1.4)\n",
            "Requirement already satisfied: click<9.0.0,>=7.1.1 in /usr/local/lib/python3.10/dist-packages (from typer<0.10.0,>=0.3.0->spacy) (8.1.7)\n",
            "Requirement already satisfied: MarkupSafe>=2.0 in /usr/local/lib/python3.10/dist-packages (from jinja2->spacy) (2.1.3)\n",
            "Collecting Levenshtein\n",
            "  Downloading Levenshtein-0.23.0-cp310-cp310-manylinux_2_17_x86_64.manylinux2014_x86_64.whl (169 kB)\n",
            "\u001b[2K     \u001b[90m━━━━━━━━━━━━━━━━━━━━━━━━━━━━━━━━━━━━━━━━\u001b[0m \u001b[32m169.4/169.4 kB\u001b[0m \u001b[31m1.7 MB/s\u001b[0m eta \u001b[36m0:00:00\u001b[0m\n",
            "\u001b[?25hCollecting rapidfuzz<4.0.0,>=3.1.0 (from Levenshtein)\n",
            "  Downloading rapidfuzz-3.6.0-cp310-cp310-manylinux_2_17_x86_64.manylinux2014_x86_64.whl (3.4 MB)\n",
            "\u001b[2K     \u001b[90m━━━━━━━━━━━━━━━━━━━━━━━━━━━━━━━━━━━━━━━━\u001b[0m \u001b[32m3.4/3.4 MB\u001b[0m \u001b[31m22.1 MB/s\u001b[0m eta \u001b[36m0:00:00\u001b[0m\n",
            "\u001b[?25hInstalling collected packages: rapidfuzz, Levenshtein\n",
            "Successfully installed Levenshtein-0.23.0 rapidfuzz-3.6.0\n",
            "Collecting Rouge\n",
            "  Downloading rouge-1.0.1-py3-none-any.whl (13 kB)\n",
            "Requirement already satisfied: six in /usr/local/lib/python3.10/dist-packages (from Rouge) (1.16.0)\n",
            "Installing collected packages: Rouge\n",
            "Successfully installed Rouge-1.0.1\n",
            "Collecting evaluate\n",
            "  Downloading evaluate-0.4.1-py3-none-any.whl (84 kB)\n",
            "\u001b[2K     \u001b[90m━━━━━━━━━━━━━━━━━━━━━━━━━━━━━━━━━━━━━━━━\u001b[0m \u001b[32m84.1/84.1 kB\u001b[0m \u001b[31m1.0 MB/s\u001b[0m eta \u001b[36m0:00:00\u001b[0m\n",
            "\u001b[?25hRequirement already satisfied: datasets>=2.0.0 in /usr/local/lib/python3.10/dist-packages (from evaluate) (2.16.0)\n",
            "Requirement already satisfied: numpy>=1.17 in /usr/local/lib/python3.10/dist-packages (from evaluate) (1.23.5)\n",
            "Requirement already satisfied: dill in /usr/local/lib/python3.10/dist-packages (from evaluate) (0.3.7)\n",
            "Requirement already satisfied: pandas in /usr/local/lib/python3.10/dist-packages (from evaluate) (1.5.3)\n",
            "Requirement already satisfied: requests>=2.19.0 in /usr/local/lib/python3.10/dist-packages (from evaluate) (2.31.0)\n",
            "Requirement already satisfied: tqdm>=4.62.1 in /usr/local/lib/python3.10/dist-packages (from evaluate) (4.66.1)\n",
            "Requirement already satisfied: xxhash in /usr/local/lib/python3.10/dist-packages (from evaluate) (3.4.1)\n",
            "Requirement already satisfied: multiprocess in /usr/local/lib/python3.10/dist-packages (from evaluate) (0.70.15)\n",
            "Requirement already satisfied: fsspec[http]>=2021.05.0 in /usr/local/lib/python3.10/dist-packages (from evaluate) (2023.6.0)\n",
            "Requirement already satisfied: huggingface-hub>=0.7.0 in /usr/local/lib/python3.10/dist-packages (from evaluate) (0.19.4)\n",
            "Requirement already satisfied: packaging in /usr/local/lib/python3.10/dist-packages (from evaluate) (23.2)\n",
            "Collecting responses<0.19 (from evaluate)\n",
            "  Downloading responses-0.18.0-py3-none-any.whl (38 kB)\n",
            "Requirement already satisfied: filelock in /usr/local/lib/python3.10/dist-packages (from datasets>=2.0.0->evaluate) (3.13.1)\n",
            "Requirement already satisfied: pyarrow>=8.0.0 in /usr/local/lib/python3.10/dist-packages (from datasets>=2.0.0->evaluate) (10.0.1)\n",
            "Requirement already satisfied: pyarrow-hotfix in /usr/local/lib/python3.10/dist-packages (from datasets>=2.0.0->evaluate) (0.6)\n",
            "Requirement already satisfied: aiohttp in /usr/local/lib/python3.10/dist-packages (from datasets>=2.0.0->evaluate) (3.9.1)\n",
            "Requirement already satisfied: pyyaml>=5.1 in /usr/local/lib/python3.10/dist-packages (from datasets>=2.0.0->evaluate) (6.0.1)\n",
            "Requirement already satisfied: typing-extensions>=3.7.4.3 in /usr/local/lib/python3.10/dist-packages (from huggingface-hub>=0.7.0->evaluate) (4.5.0)\n",
            "Requirement already satisfied: charset-normalizer<4,>=2 in /usr/local/lib/python3.10/dist-packages (from requests>=2.19.0->evaluate) (3.3.2)\n",
            "Requirement already satisfied: idna<4,>=2.5 in /usr/local/lib/python3.10/dist-packages (from requests>=2.19.0->evaluate) (3.6)\n",
            "Requirement already satisfied: urllib3<3,>=1.21.1 in /usr/local/lib/python3.10/dist-packages (from requests>=2.19.0->evaluate) (2.0.7)\n",
            "Requirement already satisfied: certifi>=2017.4.17 in /usr/local/lib/python3.10/dist-packages (from requests>=2.19.0->evaluate) (2023.11.17)\n",
            "Requirement already satisfied: python-dateutil>=2.8.1 in /usr/local/lib/python3.10/dist-packages (from pandas->evaluate) (2.8.2)\n",
            "Requirement already satisfied: pytz>=2020.1 in /usr/local/lib/python3.10/dist-packages (from pandas->evaluate) (2023.3.post1)\n",
            "Requirement already satisfied: attrs>=17.3.0 in /usr/local/lib/python3.10/dist-packages (from aiohttp->datasets>=2.0.0->evaluate) (23.1.0)\n",
            "Requirement already satisfied: multidict<7.0,>=4.5 in /usr/local/lib/python3.10/dist-packages (from aiohttp->datasets>=2.0.0->evaluate) (6.0.4)\n",
            "Requirement already satisfied: yarl<2.0,>=1.0 in /usr/local/lib/python3.10/dist-packages (from aiohttp->datasets>=2.0.0->evaluate) (1.9.4)\n",
            "Requirement already satisfied: frozenlist>=1.1.1 in /usr/local/lib/python3.10/dist-packages (from aiohttp->datasets>=2.0.0->evaluate) (1.4.1)\n",
            "Requirement already satisfied: aiosignal>=1.1.2 in /usr/local/lib/python3.10/dist-packages (from aiohttp->datasets>=2.0.0->evaluate) (1.3.1)\n",
            "Requirement already satisfied: async-timeout<5.0,>=4.0 in /usr/local/lib/python3.10/dist-packages (from aiohttp->datasets>=2.0.0->evaluate) (4.0.3)\n",
            "Requirement already satisfied: six>=1.5 in /usr/local/lib/python3.10/dist-packages (from python-dateutil>=2.8.1->pandas->evaluate) (1.16.0)\n",
            "Installing collected packages: responses, evaluate\n",
            "Successfully installed evaluate-0.4.1 responses-0.18.0\n"
          ]
        }
      ],
      "source": [
        "%pip install torch\n",
        "%pip install git+https://github.com/huggingface/transformers\n",
        "%pip install datasets accelerate huggingface_hub\n",
        "%pip install tree-sitter\n",
        "%pip install GitPython\n",
        "%pip install rouge_score nltk\n",
        "%pip install tensorboard\n",
        "%pip install spacy\n",
        "%pip install Levenshtein\n",
        "%pip install Rouge\n",
        "%pip install evaluate"
      ],
      "id": "70ff4f19-3405-4562-97c4-10a5e1fd6dc4"
    },
    {
      "cell_type": "code",
      "execution_count": null,
      "metadata": {
        "id": "aa7f708e-cce2-49eb-a824-3c934a20c785"
      },
      "outputs": [],
      "source": [
        "import ast\n",
        "import lzma\n",
        "import math\n",
        "import os\n",
        "import pickle\n",
        "import re\n",
        "import requests\n",
        "from collections import Counter, defaultdict\n",
        "from io import BytesIO\n",
        "from statistics import mean\n",
        "from zipfile import ZipFile\n",
        "\n",
        "import numpy as np\n",
        "import pandas as pd\n",
        "from datasets import Dataset, DatasetDict, load_metric\n",
        "from git import Repo\n",
        "from nltk.translate.bleu_score import sentence_bleu, SmoothingFunction\n",
        "from sklearn.metrics import precision_score, recall_score, f1_score\n",
        "from sklearn.metrics.pairwise import cosine_similarity\n",
        "from sklearn.model_selection import train_test_split\n",
        "from tqdm import tqdm\n",
        "from transformers import (AutoModelForSeq2SeqLM, AutoTokenizer, DataCollatorForSeq2Seq,\n",
        "                          Seq2SeqTrainer, Seq2SeqTrainingArguments, T5ForConditionalGeneration)\n",
        "from tree_sitter import Language, Parser\n",
        "\n",
        "# External libraries for specific evaluations\n",
        "import evaluate\n",
        "import Levenshtein\n",
        "from rouge import Rouge\n"
      ],
      "id": "aa7f708e-cce2-49eb-a824-3c934a20c785"
    },
    {
      "cell_type": "code",
      "execution_count": null,
      "metadata": {
        "colab": {
          "base_uri": "https://localhost:8080/"
        },
        "id": "qdrkGZ9QOMxo",
        "outputId": "4d2ffb8a-16ce-4417-db7d-f57ecb22e134"
      },
      "outputs": [
        {
          "output_type": "stream",
          "name": "stdout",
          "text": [
            "Mounted at /content/drive\n"
          ]
        }
      ],
      "source": [
        "# from google.colab import drive\n",
        "# drive.mount('/content/drive')\n",
        "\n",
        "# # Uncomment the above lines if you are using Google Colab.\n",
        "# # These lines of code are used to mount your Google Drive,\n",
        "# # allowing you to access files from your Drive in the Colab environment.\n",
        "# # rewrite all directories then"
      ],
      "id": "qdrkGZ9QOMxo"
    },
    {
      "cell_type": "markdown",
      "metadata": {
        "id": "a66ddcc0-e932-488c-bdd7-5f86b923e4d6"
      },
      "source": [
        "## CodeT5+: description and first try"
      ],
      "id": "a66ddcc0-e932-488c-bdd7-5f86b923e4d6"
    },
    {
      "cell_type": "markdown",
      "metadata": {
        "id": "af492883-1a54-4e81-a7d7-0837728b887f"
      },
      "source": [
        "### Model description"
      ],
      "id": "af492883-1a54-4e81-a7d7-0837728b887f"
    },
    {
      "cell_type": "markdown",
      "source": [
        "CodeT5+ is an advanced open code language model with versatile modes (encoder-only, decoder-only, encoder-decoder) for various code-related tasks. Detailed in the paper \"CodeT5+: Open Code Large Language Models for Code Understanding and Generation,\" it surpasses its predecessor, CodeT5, by incorporating multiple pretraining tasks like span denoising and contrastive learning. It leverages pre-existing models like CodeGen for efficient scaling (2B, 6B, 16B sizes) and features a \"shallow encoder and deep decoder\" design. The model is further refined through instruction-tuning for natural language alignment, as per the Code Alpaca methodology."
      ],
      "metadata": {
        "id": "ZIWCsTQ3nXGI"
      },
      "id": "ZIWCsTQ3nXGI"
    },
    {
      "cell_type": "markdown",
      "metadata": {
        "id": "e6f70dd7-7ea2-4b44-bd92-0e05fba32570"
      },
      "source": [
        "### Very First Try"
      ],
      "id": "e6f70dd7-7ea2-4b44-bd92-0e05fba32570"
    },
    {
      "cell_type": "markdown",
      "source": [
        "\n",
        "The code snippet under involves selecting the \"Salesforce/codet5p-220m\" model checkpoint and initializing the `AutoTokenizer` from Hugging Face's Transformers library. `AutoTokenizer` is versatile, automatically identifying and loading appropriate tokenizers for various models like BERT and GPT. It ensures consistency with pre-trained models and manages special tokens and model-specific rules efficiently. The tokenization process involves creating token IDs and attention masks, which are crucial for the model's understanding and focus. The code then uses `T5ForConditionalGeneration` for tasks like text generation, differing from `transformers.T5Model`, which outputs raw hidden states. Finally, the model processes a Java function sample, demonstrating its code understanding and generation capabilities."
      ],
      "metadata": {
        "id": "nBvoaYGsnTTM"
      },
      "id": "nBvoaYGsnTTM"
    },
    {
      "cell_type": "code",
      "execution_count": null,
      "metadata": {
        "id": "1669ad64-dd0f-41e0-b8a4-c00a886fec58",
        "colab": {
          "base_uri": "https://localhost:8080/",
          "height": 1476,
          "referenced_widgets": [
            "9ad824f2c831446c8801b698e3d9b6cf",
            "4727fc0cb1ba499ea04176334be41891",
            "c1074713ee5347db8a66ff02680da688",
            "f939084f93604f41b30d8f7b92d6d909",
            "9cc0a886d80f4293a935c10206ba2006",
            "4b424a212cce4811b5d2a21cbca545d8",
            "3f4c3dea12da4323802dff9fd5dad338",
            "4b3e08c6a0b14df4b2ab436b163d2c05",
            "5f993f02d8bd410ea622c2ddd85beeb1",
            "8d7154c74e1f401ca27603b253b85e06",
            "45f2982b1d25476eb0b04846308c5103",
            "90dc01f2eaf640559ff46c3b3f65877e",
            "206697256ed74cee9886a7c113e4bdb2",
            "dda341ef0bdb4d65bd2ed60658144afe",
            "febd5f1be5fa4a19b422000a1c124d89",
            "25c4e295fb4f476fb36b3d8fbd02af3c",
            "763f55d6a59249af90958ec0cb16edd4",
            "bd8a9e76ff43463f8e884b95e822bdb1",
            "af90ba85a6004cc08485e243e86e551c",
            "e7fc235d203f4565b25c47d742a272f1",
            "9858331f97a54107a4706344fa3a7c5a",
            "2c4d2c683e8343dd989237cdb2d7afbf",
            "31bb4c653521461cb855817c4455f029",
            "436bf41f9a7643a7bd70d5e07936c5c2",
            "a374606ef0f24667bc1ca2e55d602ae1",
            "c44c9778cad0424d83d3dc9070a0caf8",
            "016fbbe21e5a40d79bc72b51ccb1d79f",
            "777f27152d2348e2a6bbd8c6f2105fbe",
            "cc5930b644bc4a958eb3a3f3e402c1c1",
            "83b05a37b41149d3ba2193a123ec7321",
            "e48f0cc471354c699058da251ebe1058",
            "d2916e27c10d42f39ec538a3b115fdc8",
            "7d4341c480f94450b658dc04142f1f78",
            "8a53a0ff36754ec9abaee01c1253a6d3",
            "71216a9a64d540649b5442afe6619d28",
            "0f4b403e993645b58c3fe8088a3d0cea",
            "4dc243c716164d6185c492bd69d35a6e",
            "ce4deba317ff49f5bc6f297d6a3043f6",
            "071137139f1141e195751d9b0abf8195",
            "33b7188694114885921fc098fef4c99e",
            "567ffdc3d1c7475495e8b13989f04251",
            "c928e229be4a41bfa03de9c0fecfecdf",
            "7ddc8d80d97e4f19805bff95955fcff5",
            "744ddb64cbdf46b699e7da0ee5c2aded",
            "ff76d1c0577b4564a4787eaa24f2f4cb",
            "b24367b61b644f95a4082fcb8a1c8b79",
            "07aef0bb50304608912bc9082ea4eb4e",
            "a861bc578fac4f0496a2fb0597b6b47a",
            "58f1539b31434c03b5a6c31c51d29cce",
            "b78545796dac44e1968f9b98a7a2b316",
            "d2e9b48243b34478a6998b4228b7c549",
            "b3b4edd5858a45c0972e7711744f19f0",
            "883f71ef042f41fda42067863b807ce9",
            "0b71d89a4c2c4c84b01338f8a60f92ed",
            "ac4384b29d764c1caecafc78b52adb09",
            "53cfb9f97d564d60a5a0d96a6e29b86d",
            "3fa97f2f4ede478ba137ae49e4936f61",
            "df9aa53f208844fcae11a360aae03b4c",
            "32bd2f2c4f224b008ed63b7d615b9a23",
            "b8e22434d8dd46fba2bcac0b2e15d9d5",
            "146c293b048a43b2b5d8fb1bdb62a597",
            "e8893048dfca4464a43ab280c5fc06a6",
            "393638f79110438cb6707068e7f29d75",
            "d6e1a9daaa194dbdb58fff5e54e85a2f",
            "183bcc04153440beaf4efc6042395299",
            "7870d0fefee448f28c157ec23c69cf98",
            "3c74e982fe0343a882c17be3c6e7e37a",
            "18d44bb9e5bf4da58ca0d93c8eb763db",
            "002f1a95b5514af0b4fee2ecf3085e88",
            "285906c841bc474799f1c154610a7195",
            "23bbc18550b34cb8af6eeea0b29cd7e7",
            "dee6363df39b449fa793a25e25c2341a",
            "5d4aa62c27b24eaba4ad46038649486b",
            "cce637a12a4e40b1bb64e00cea394d4a",
            "1b47d03b80f54fa2b1041e28a7df724a",
            "a4ce2012238644abb0b2ae014da3b7ac",
            "c64f4baae7d840e8ad3175e52716c3f7"
          ]
        },
        "outputId": "1e72ff08-6bdb-4e42-8ff4-060e75254700"
      },
      "outputs": [
        {
          "output_type": "display_data",
          "data": {
            "text/plain": [
              "tokenizer_config.json:   0%|          | 0.00/1.48k [00:00<?, ?B/s]"
            ],
            "application/vnd.jupyter.widget-view+json": {
              "version_major": 2,
              "version_minor": 0,
              "model_id": "9ad824f2c831446c8801b698e3d9b6cf"
            }
          },
          "metadata": {}
        },
        {
          "output_type": "display_data",
          "data": {
            "text/plain": [
              "vocab.json:   0%|          | 0.00/703k [00:00<?, ?B/s]"
            ],
            "application/vnd.jupyter.widget-view+json": {
              "version_major": 2,
              "version_minor": 0,
              "model_id": "90dc01f2eaf640559ff46c3b3f65877e"
            }
          },
          "metadata": {}
        },
        {
          "output_type": "display_data",
          "data": {
            "text/plain": [
              "merges.txt:   0%|          | 0.00/294k [00:00<?, ?B/s]"
            ],
            "application/vnd.jupyter.widget-view+json": {
              "version_major": 2,
              "version_minor": 0,
              "model_id": "31bb4c653521461cb855817c4455f029"
            }
          },
          "metadata": {}
        },
        {
          "output_type": "display_data",
          "data": {
            "text/plain": [
              "added_tokens.json:   0%|          | 0.00/2.00 [00:00<?, ?B/s]"
            ],
            "application/vnd.jupyter.widget-view+json": {
              "version_major": 2,
              "version_minor": 0,
              "model_id": "8a53a0ff36754ec9abaee01c1253a6d3"
            }
          },
          "metadata": {}
        },
        {
          "output_type": "display_data",
          "data": {
            "text/plain": [
              "special_tokens_map.json:   0%|          | 0.00/12.5k [00:00<?, ?B/s]"
            ],
            "application/vnd.jupyter.widget-view+json": {
              "version_major": 2,
              "version_minor": 0,
              "model_id": "ff76d1c0577b4564a4787eaa24f2f4cb"
            }
          },
          "metadata": {}
        },
        {
          "output_type": "display_data",
          "data": {
            "text/plain": [
              "config.json:   0%|          | 0.00/768 [00:00<?, ?B/s]"
            ],
            "application/vnd.jupyter.widget-view+json": {
              "version_major": 2,
              "version_minor": 0,
              "model_id": "53cfb9f97d564d60a5a0d96a6e29b86d"
            }
          },
          "metadata": {}
        },
        {
          "output_type": "display_data",
          "data": {
            "text/plain": [
              "pytorch_model.bin:   0%|          | 0.00/446M [00:00<?, ?B/s]"
            ],
            "application/vnd.jupyter.widget-view+json": {
              "version_major": 2,
              "version_minor": 0,
              "model_id": "3c74e982fe0343a882c17be3c6e7e37a"
            }
          },
          "metadata": {}
        },
        {
          "output_type": "stream",
          "name": "stderr",
          "text": [
            "/usr/local/lib/python3.10/dist-packages/torch/_utils.py:831: UserWarning: TypedStorage is deprecated. It will be removed in the future and UntypedStorage will be the only storage class. This should only matter to you if you are using storages directly.  To access UntypedStorage directly, use tensor.untyped_storage() instead of tensor.storage()\n",
            "  return self.fget.__get__(instance, owner)()\n"
          ]
        },
        {
          "output_type": "stream",
          "name": "stdout",
          "text": [
            "public static int sumTwoNumbers(int a, int b){﻿using System;\n",
            "using System.Collections.Generic;\n",
            "using System.Linq;\n",
            "using System.Text;\n",
            "using System.Threading.Tasks;\n",
            "\n",
            "namespace _01.SumTwoNumbers\n",
            "{\n",
            "    class Program\n",
            "    {\n",
            "        static void Main()\n",
            "        {\n",
            "            int[] numbers = new int[2];\n",
            "            int[] numbers2 = new int[2];\n",
            "            int[] numbers3 = new int[2];\n",
            "            int[] numbers4 = new int[2];\n",
            "            int[] numbers5 = new int[2];\n",
            "            int[] numbers6 = new int[2];\n",
            "            int[] numbers7 = new int[2];\n",
            "            int[] numbers8 = new int[2];\n",
            "            int[] numbers9 = new int[2];\n",
            "            int[] numbers10 = new int[2];\n",
            "            int[] numbers11 = new int[2];\n",
            "            int[] numbers12 = new int[2];\n",
            "            int[] numbers13 = new int[2];\n",
            "            int[] numbers14 = new int[2];\n",
            "            int[] numbers15 = new int[2];\n",
            "            int[] numbers16 = new int[2];\n",
            "            int[] numbers17 = new int[2];\n",
            "            int[] numbers18 = new int[2];\n",
            "            int[] numbers19 = new int[2];\n",
            "            int[] numbers20 = new int[2];\n",
            "            int[] numbers21 = new int[2];\n",
            "            int[] numbers22 = new int[2];\n",
            "            int[] numbers23 = new int[2];\n",
            "            int[] numbers24 = new int[2];\n",
            "            int[] numbers25 = new int[2];\n",
            "            int[] numbers26 = new int[2];\n",
            "            int[] numbers27 = new int[2];\n",
            "            int[] numbers28 = new int[2];\n",
            "            int[] numbers29 = new int[2];\n",
            "            int[] numbers30 = new int[2];\n",
            "            int[] numbers31 = new int[2];\n",
            "            int[] numbers32 = new int[2];\n",
            "            int[] numbers33 = new int[2];\n",
            "            int[] numbers34 = new int[2];\n",
            "            int[] numbers35 = new int[2];\n",
            "            int[] numbers36 = new int[2];\n",
            "            int[] numbers37 = new int[2];\n",
            "            int[] numbers38 = new int[2];\n",
            "            int[] numbers39 = new int[2];\n",
            "            int[] numbers40 = new int[2];\n",
            "            int[] numbers41 = new int[2];\n",
            "            int[] numbers42 = new int[2];\n",
            "            int[] numbers43 = new int[2];\n",
            "            int[] numbers44 = new int[2];\n",
            "            int[] numbers45 = new int[2];\n",
            "            int[] numbers46 = new int[2];\n",
            "            int[] numbers47 = new int[2];\n",
            "            int[] numbers48 = new int[2];\n",
            "            int[] numbers49 = new int[2];\n",
            "            int[] numbers50 = new int[2];\n",
            "            int[] numbers51 = new int[2];\n",
            "            int[] numbers52 = new int[2];\n",
            "            int[] numbers53 = new int[2];\n",
            "            int[] numbers54 = new int[2];\n",
            "            int[] numbers55 = new int[2];\n",
            "            int[] numbers56 = new int[\n"
          ]
        }
      ],
      "source": [
        "# Ensure GPU is available, otherwise use CPU\n",
        "device = \"cuda\" if torch.cuda.is_available() else \"cpu\"\n",
        "\n",
        "checkpoint = \"Salesforce/codet5p-220m\"\n",
        "\n",
        "# Load tokenizer and model\n",
        "tokenizer = AutoTokenizer.from_pretrained(checkpoint)\n",
        "model = T5ForConditionalGeneration.from_pretrained(checkpoint)\n",
        "\n",
        "# Move model to the device (GPU or CPU)\n",
        "model.to(device)\n",
        "\n",
        "java_function = \"public static int sumTwoNumbers(int a, int b){\"\n",
        "\n",
        "# Encoding and moving the tensor to the same device as the model\n",
        "encoding = tokenizer(java_function, return_tensors=\"pt\").to(device)\n",
        "encoding[\"decoder_input_ids\"] = encoding[\"input_ids\"].clone()\n",
        "\n",
        "# Generate the output\n",
        "outputs = model.generate(**encoding, max_length=750)\n",
        "\n",
        "# Decode and print the output\n",
        "print(tokenizer.decode(outputs[0], skip_special_tokens=True))"
      ],
      "id": "1669ad64-dd0f-41e0-b8a4-c00a886fec58"
    },
    {
      "cell_type": "markdown",
      "metadata": {
        "id": "cd7ff79e-2b10-4cc9-8012-4657f3511e38"
      },
      "source": [
        "Given the output generated by the model, which deviates significantly from the expected Java syntax and instead resembles a C-like language, it suggests a need for a more targeted approach, potentially using models with a larger number of parameters (770 million, 2 billion, etc., depending on computational resources). To address this, the next step involves collecting and preparing specific data that aligns more closely with our intended use case, which in this context is Java programming. This data preparation is crucial for fine-tuning the model to better suit our requirements for generating Java code."
      ],
      "id": "cd7ff79e-2b10-4cc9-8012-4657f3511e38"
    },
    {
      "cell_type": "markdown",
      "metadata": {
        "id": "f267b001-3a9f-47c5-bfc9-f1be58da8f41"
      },
      "source": [
        "## Data: Collection and Preprocessing"
      ],
      "id": "f267b001-3a9f-47c5-bfc9-f1be58da8f41"
    },
    {
      "cell_type": "markdown",
      "metadata": {
        "id": "af520bda-c3c5-47ff-97c9-f631b307e6fb"
      },
      "source": [
        "The first step is to clone the repository for the Java parser, 'tree-sitter-java', which is essential for analyzing Java source code."
      ],
      "id": "af520bda-c3c5-47ff-97c9-f631b307e6fb"
    },
    {
      "cell_type": "code",
      "execution_count": null,
      "metadata": {
        "id": "772ee692-6192-4a5e-b0c6-2add8b65bdc3"
      },
      "outputs": [],
      "source": [
        "# Cloning the 'tree-sitter-java' repository, essential for parsing Java source code.\n",
        "!git clone https://github.com/tree-sitter/tree-sitter-java.git"
      ],
      "id": "772ee692-6192-4a5e-b0c6-2add8b65bdc3"
    },
    {
      "cell_type": "markdown",
      "metadata": {
        "id": "9f2a7d70-817e-4dcc-aebd-263c9a218262"
      },
      "source": [
        "The next phase is to build the Java language parser. This is achieved by using the Language.build_library function to compile the parser, and then initializing it with Language and Parser objects from the Tree-sitter library. This setup is necessary for parsing Java files effectively."
      ],
      "id": "9f2a7d70-817e-4dcc-aebd-263c9a218262"
    },
    {
      "cell_type": "code",
      "execution_count": null,
      "metadata": {
        "id": "848145a7-9d99-4331-94dc-3e7702a4db2a"
      },
      "outputs": [],
      "source": [
        "# Load Java language parser\n",
        "Language.build_library('build/my-languages.so', ['tree-sitter-java'])\n",
        "JAVA_LANGUAGE = Language('build/my-languages.so', 'java')\n",
        "parser = Parser()\n",
        "parser.set_language(JAVA_LANGUAGE)"
      ],
      "id": "848145a7-9d99-4331-94dc-3e7702a4db2a"
    },
    {
      "cell_type": "markdown",
      "metadata": {
        "id": "023781ab-43e7-48b1-aaad-df0b88380d84"
      },
      "source": [
        "Here's a concise explanation of the node types for the method parser:\n",
        "\n",
        "\n",
        "\n",
        "*   **'identifier'**: The method's name, used for calling it in the code.\n",
        "*   **'formal_parameters'**: Arguments accepted by the method, specified in parentheses next to the method name.\n",
        "*   **'modifier'**: Keywords and annotations in Java that define method access levels and behaviors (e.g., public, private, @Override). Depending on the annotations present, this can be categorized as either 'modifiers' or 'modifier'.\n",
        "*   **'block'**: The method's code, enclosed in curly braces {}.\n",
        "*   **'type_identifier'**: The return type of the method, such as int, String, boolean.\n",
        "\n",
        "For primitive return types (instead of type identifier):\n",
        "*   **\"boolean_type\"**: Identifies boolean return types or parameters.\n",
        "*   **\"floating_point_type\"**: For floating-point numbers like float or double.\n",
        "*   **\"generic_type\"**: Used for methods involving generic types.\n",
        "*   **\"scoped_type_identifier\"**: Types with a scope, like inner classes or enums.\n",
        "*   **\"integral_type\"**: For integral types like int, long, byte.\n",
        "*   **\"void_type\"**: Indicates a void return type, with no value returned.\n",
        "\n",
        "The core of the code under involves two primary functions: extract_methods and parse_java_file.\n",
        "\n",
        "\n",
        "\n",
        "*   **extract_methods Function**: It recursively traverses the syntax tree of Java code, extracting information about each method_declaration. This includes identifier, formal_parameters, modifiers, block, type_identifier, and various primitive types. The function processes each node, capturing details in a structured method_info dictionary.\n",
        "*   **parse_java_file Function**: This function reads a Java file in different encodings, parses it to create a syntax tree, and uses extract_methods to extract method details. Each method's information includes the file path for reference.\n",
        "\n",
        "**NOTE:** In the event of an error, such as one related to C++ build tools, installing the latest version of Microsoft C++ Build Tools is suggested. This is often required for compiling language parsers and tools with native extensions."
      ],
      "id": "023781ab-43e7-48b1-aaad-df0b88380d84"
    },
    {
      "cell_type": "code",
      "execution_count": null,
      "metadata": {
        "id": "3453dfe4-4cbb-4c3a-96a5-e7b8350393ff"
      },
      "outputs": [],
      "source": [
        "# Function to recursively traverse the syntax tree\n",
        "def extract_methods(node):\n",
        "    methods = []\n",
        "    if node.type == 'method_declaration':\n",
        "        # Initializing a dictionary to store various method properties\n",
        "        method_info = {\n",
        "            'identifier': '',\n",
        "            'formal_parameters': '',\n",
        "            'modifiers': [],\n",
        "            'block': '',\n",
        "            'type_identifier': '',\n",
        "            \"boolean_type\": '',\n",
        "            \"floating_point_type\": '',\n",
        "            \"generic_type\": '',\n",
        "            \"scoped_type_identifier\": '',\n",
        "            \"integral_type\": '',\n",
        "            \"void_type\": ''\n",
        "        }\n",
        "\n",
        "        for child in node.children:\n",
        "            # Checking and extracting modifiers\n",
        "            if child.type == 'modifiers' or child.type == 'modifier':\n",
        "                # Extracting individual modifiers\n",
        "                for mod in child.children:\n",
        "                    method_info['modifiers'].append(mod.text.decode('utf8'))\n",
        "            elif child.type in ['block', 'formal_parameters', \"generic_type\", 'type_identifier',\n",
        "                                \"scoped_type_identifier\",\n",
        "                                'identifier', \"boolean_type\", \"floating_point_type\", \"integral_type\", \"void_type\"]:\n",
        "                # Storing other method details\n",
        "                method_info[child.type] = child.text.decode('utf8')\n",
        "\n",
        "        # Adding the collected method information to the methods list\n",
        "        methods.append(method_info)\n",
        "\n",
        "    # Recursively traversing child nodes to extract methods\n",
        "    for child in node.children:\n",
        "        methods.extend(extract_methods(child))\n",
        "\n",
        "    return methods\n",
        "\n",
        "\n",
        "# Function to parse a Java file\n",
        "def parse_java_file(file_path):\n",
        "    # Trying different encodings to read the file\n",
        "    encoding_to_try = ['utf-8', 'ISO-8859-1', 'windows-1252', 'utf-16']\n",
        "    for encoding in encoding_to_try:\n",
        "        try:\n",
        "            with open(file_path, 'r', encoding=encoding) as file:\n",
        "                source_code = file.read()\n",
        "            # Parsing the Java source code to a syntax tree\n",
        "            tree = parser.parse(bytes(source_code, \"utf8\"))\n",
        "            root_node = tree.root_node\n",
        "            # Extracting methods from the root node of the syntax tree\n",
        "            methods = extract_methods(root_node)\n",
        "\n",
        "            # Associating each extracted method with its source file path\n",
        "            for method in methods:\n",
        "                method['file_path'] = file_path\n",
        "\n",
        "            return methods\n",
        "        except UnicodeDecodeError:\n",
        "            # Trying next encoding if current one fails\n",
        "            continue\n",
        "    else:\n",
        "        # Raising an exception if all encoding attempts fail\n",
        "        raise Exception(\"Failed to decode file with tried encodings\")"
      ],
      "id": "3453dfe4-4cbb-4c3a-96a5-e7b8350393ff"
    },
    {
      "cell_type": "markdown",
      "source": [
        "In the following cell, I am cloning the IntelliJ Community repository from GitHub. This repository contains the source code of the IntelliJ IDEA, an integrated development environment written in Java. This repository is a large and comprehensive codebase that is ideal for my task.\n"
      ],
      "metadata": {
        "id": "_UdkvpCkYIse"
      },
      "id": "_UdkvpCkYIse"
    },
    {
      "cell_type": "code",
      "execution_count": null,
      "metadata": {
        "id": "cQV-lJtJrxJR"
      },
      "outputs": [],
      "source": [
        "# Cloning the IntelliJ Community repository for parsing and analysis.\n",
        "!git clone https://github.com/JetBrains/intellij-community.git"
      ],
      "id": "cQV-lJtJrxJR"
    },
    {
      "cell_type": "markdown",
      "metadata": {
        "id": "171ad192-355f-474f-a2e6-00820b6d5b92"
      },
      "source": [
        "The script systematically traverses the IntelliJ Community project directory, parsing every Java file found. Data extracted from each file is compiled into a DataFrame, ultimately saved as `java_methods.csv`. This CSV file forms a structured dataset of Java method information from the IntelliJ Community codebase, primed for subsequent analysis or machine learning applications."
      ],
      "id": "171ad192-355f-474f-a2e6-00820b6d5b92"
    },
    {
      "cell_type": "code",
      "execution_count": null,
      "metadata": {
        "id": "1985e246-1e3a-4014-b2bc-c40777961965"
      },
      "outputs": [],
      "source": [
        "# Collecting all .java files from the IntelliJ Community repository\n",
        "java_files = []\n",
        "for dir_path, dir_names, file_names in os.walk('/content/intellij-community'):\n",
        "    # Adding paths of .java files to the list\n",
        "    java_files.extend([os.path.join(dir_path, file_name) for file_name in file_names if file_name.endswith(\".java\")])\n",
        "\n",
        "all_methods = []\n",
        "\n",
        "# Processing each Java file\n",
        "for file in tqdm(java_files, desc=\"Processing Java Files\"):\n",
        "    # Parsing each Java file to extract method information\n",
        "    methods_list = parse_java_file(file)\n",
        "    # Adding the extracted methods to the all_methods list\n",
        "    all_methods.extend(methods_list)\n",
        "\n",
        "# Create a DataFrame from the collected method information\n",
        "# Columns correspond to various attributes of the methods\n",
        "methods_df = pd.DataFrame(all_methods,\n",
        "                          columns=['identifier', 'formal_parameters', 'modifiers', 'block', 'type_identifier',\n",
        "                                   \"boolean_type\",\n",
        "                                   \"floating_point_type\", \"generic_type\", \"scoped_type_identifier\", \"integral_type\",\n",
        "                                   \"void_type\", 'file_path'])\n",
        "\n",
        "# Save the DataFrame containing all method information to a CSV file\n",
        "methods_df.to_csv('java_methods.csv')"
      ],
      "id": "1985e246-1e3a-4014-b2bc-c40777961965"
    },
    {
      "cell_type": "code",
      "source": [
        "import pandas as pd"
      ],
      "metadata": {
        "id": "ZXtzAQKibiyb"
      },
      "id": "ZXtzAQKibiyb",
      "execution_count": null,
      "outputs": []
    },
    {
      "cell_type": "code",
      "execution_count": null,
      "metadata": {
        "id": "8ee0d601-69a6-4423-8f15-6286186c51ad"
      },
      "outputs": [],
      "source": [
        "# Loading the previously parsed Java methods dataset from a CSV file\n",
        "# This step is efficient as it avoids reparsing the entire IntelliJ Community project every time (when parser part is commented)\n",
        "df = pd.read_csv('java_methods.csv')"
      ],
      "id": "8ee0d601-69a6-4423-8f15-6286186c51ad"
    },
    {
      "cell_type": "code",
      "execution_count": null,
      "metadata": {
        "id": "56aabdbb-629f-4488-9b15-c414ca168923",
        "colab": {
          "base_uri": "https://localhost:8080/",
          "height": 590
        },
        "outputId": "432823d4-1188-4f95-9d50-110197d63c05"
      },
      "outputs": [
        {
          "output_type": "execute_result",
          "data": {
            "text/plain": [
              "   Unnamed: 0       identifier formal_parameters               modifiers  \\\n",
              "0           0      getArtifact                ()  ['@NotNull', 'public']   \n",
              "1           1  getDependencies                ()  ['@NotNull', 'public']   \n",
              "2           2       isRejected                ()              ['public']   \n",
              "3           3    getClassifier                ()  ['@NotNull', 'public']   \n",
              "4           4     getExtension                ()  ['@NotNull', 'public']   \n",
              "\n",
              "                                block type_identifier boolean_type  \\\n",
              "0      {\\n    return myArtifact;\\n  }        Artifact          NaN   \n",
              "1  {\\n    return myDependencies;\\n  }             NaN          NaN   \n",
              "2      {\\n    return myRejected;\\n  }             NaN      boolean   \n",
              "3    {\\n    return myClassifier;\\n  }          String          NaN   \n",
              "4     {\\n    return myExtension;\\n  }          String          NaN   \n",
              "\n",
              "  floating_point_type                  generic_type scoped_type_identifier  \\\n",
              "0                 NaN                           NaN                    NaN   \n",
              "1                 NaN  List<ArtifactDependencyNode>                    NaN   \n",
              "2                 NaN                           NaN                    NaN   \n",
              "3                 NaN                           NaN                    NaN   \n",
              "4                 NaN                           NaN                    NaN   \n",
              "\n",
              "  integral_type void_type                                          file_path  \n",
              "0           NaN       NaN  intellij-community-master/aether-dependency-re...  \n",
              "1           NaN       NaN  intellij-community-master/aether-dependency-re...  \n",
              "2           NaN       NaN  intellij-community-master/aether-dependency-re...  \n",
              "3           NaN       NaN  intellij-community-master/aether-dependency-re...  \n",
              "4           NaN       NaN  intellij-community-master/aether-dependency-re...  "
            ],
            "text/html": [
              "\n",
              "  <div id=\"df-7f8e100d-cceb-407e-a732-f9db632ce9bd\" class=\"colab-df-container\">\n",
              "    <div>\n",
              "<style scoped>\n",
              "    .dataframe tbody tr th:only-of-type {\n",
              "        vertical-align: middle;\n",
              "    }\n",
              "\n",
              "    .dataframe tbody tr th {\n",
              "        vertical-align: top;\n",
              "    }\n",
              "\n",
              "    .dataframe thead th {\n",
              "        text-align: right;\n",
              "    }\n",
              "</style>\n",
              "<table border=\"1\" class=\"dataframe\">\n",
              "  <thead>\n",
              "    <tr style=\"text-align: right;\">\n",
              "      <th></th>\n",
              "      <th>Unnamed: 0</th>\n",
              "      <th>identifier</th>\n",
              "      <th>formal_parameters</th>\n",
              "      <th>modifiers</th>\n",
              "      <th>block</th>\n",
              "      <th>type_identifier</th>\n",
              "      <th>boolean_type</th>\n",
              "      <th>floating_point_type</th>\n",
              "      <th>generic_type</th>\n",
              "      <th>scoped_type_identifier</th>\n",
              "      <th>integral_type</th>\n",
              "      <th>void_type</th>\n",
              "      <th>file_path</th>\n",
              "    </tr>\n",
              "  </thead>\n",
              "  <tbody>\n",
              "    <tr>\n",
              "      <th>0</th>\n",
              "      <td>0</td>\n",
              "      <td>getArtifact</td>\n",
              "      <td>()</td>\n",
              "      <td>['@NotNull', 'public']</td>\n",
              "      <td>{\\n    return myArtifact;\\n  }</td>\n",
              "      <td>Artifact</td>\n",
              "      <td>NaN</td>\n",
              "      <td>NaN</td>\n",
              "      <td>NaN</td>\n",
              "      <td>NaN</td>\n",
              "      <td>NaN</td>\n",
              "      <td>NaN</td>\n",
              "      <td>intellij-community-master/aether-dependency-re...</td>\n",
              "    </tr>\n",
              "    <tr>\n",
              "      <th>1</th>\n",
              "      <td>1</td>\n",
              "      <td>getDependencies</td>\n",
              "      <td>()</td>\n",
              "      <td>['@NotNull', 'public']</td>\n",
              "      <td>{\\n    return myDependencies;\\n  }</td>\n",
              "      <td>NaN</td>\n",
              "      <td>NaN</td>\n",
              "      <td>NaN</td>\n",
              "      <td>List&lt;ArtifactDependencyNode&gt;</td>\n",
              "      <td>NaN</td>\n",
              "      <td>NaN</td>\n",
              "      <td>NaN</td>\n",
              "      <td>intellij-community-master/aether-dependency-re...</td>\n",
              "    </tr>\n",
              "    <tr>\n",
              "      <th>2</th>\n",
              "      <td>2</td>\n",
              "      <td>isRejected</td>\n",
              "      <td>()</td>\n",
              "      <td>['public']</td>\n",
              "      <td>{\\n    return myRejected;\\n  }</td>\n",
              "      <td>NaN</td>\n",
              "      <td>boolean</td>\n",
              "      <td>NaN</td>\n",
              "      <td>NaN</td>\n",
              "      <td>NaN</td>\n",
              "      <td>NaN</td>\n",
              "      <td>NaN</td>\n",
              "      <td>intellij-community-master/aether-dependency-re...</td>\n",
              "    </tr>\n",
              "    <tr>\n",
              "      <th>3</th>\n",
              "      <td>3</td>\n",
              "      <td>getClassifier</td>\n",
              "      <td>()</td>\n",
              "      <td>['@NotNull', 'public']</td>\n",
              "      <td>{\\n    return myClassifier;\\n  }</td>\n",
              "      <td>String</td>\n",
              "      <td>NaN</td>\n",
              "      <td>NaN</td>\n",
              "      <td>NaN</td>\n",
              "      <td>NaN</td>\n",
              "      <td>NaN</td>\n",
              "      <td>NaN</td>\n",
              "      <td>intellij-community-master/aether-dependency-re...</td>\n",
              "    </tr>\n",
              "    <tr>\n",
              "      <th>4</th>\n",
              "      <td>4</td>\n",
              "      <td>getExtension</td>\n",
              "      <td>()</td>\n",
              "      <td>['@NotNull', 'public']</td>\n",
              "      <td>{\\n    return myExtension;\\n  }</td>\n",
              "      <td>String</td>\n",
              "      <td>NaN</td>\n",
              "      <td>NaN</td>\n",
              "      <td>NaN</td>\n",
              "      <td>NaN</td>\n",
              "      <td>NaN</td>\n",
              "      <td>NaN</td>\n",
              "      <td>intellij-community-master/aether-dependency-re...</td>\n",
              "    </tr>\n",
              "  </tbody>\n",
              "</table>\n",
              "</div>\n",
              "    <div class=\"colab-df-buttons\">\n",
              "\n",
              "  <div class=\"colab-df-container\">\n",
              "    <button class=\"colab-df-convert\" onclick=\"convertToInteractive('df-7f8e100d-cceb-407e-a732-f9db632ce9bd')\"\n",
              "            title=\"Convert this dataframe to an interactive table.\"\n",
              "            style=\"display:none;\">\n",
              "\n",
              "  <svg xmlns=\"http://www.w3.org/2000/svg\" height=\"24px\" viewBox=\"0 -960 960 960\">\n",
              "    <path d=\"M120-120v-720h720v720H120Zm60-500h600v-160H180v160Zm220 220h160v-160H400v160Zm0 220h160v-160H400v160ZM180-400h160v-160H180v160Zm440 0h160v-160H620v160ZM180-180h160v-160H180v160Zm440 0h160v-160H620v160Z\"/>\n",
              "  </svg>\n",
              "    </button>\n",
              "\n",
              "  <style>\n",
              "    .colab-df-container {\n",
              "      display:flex;\n",
              "      gap: 12px;\n",
              "    }\n",
              "\n",
              "    .colab-df-convert {\n",
              "      background-color: #E8F0FE;\n",
              "      border: none;\n",
              "      border-radius: 50%;\n",
              "      cursor: pointer;\n",
              "      display: none;\n",
              "      fill: #1967D2;\n",
              "      height: 32px;\n",
              "      padding: 0 0 0 0;\n",
              "      width: 32px;\n",
              "    }\n",
              "\n",
              "    .colab-df-convert:hover {\n",
              "      background-color: #E2EBFA;\n",
              "      box-shadow: 0px 1px 2px rgba(60, 64, 67, 0.3), 0px 1px 3px 1px rgba(60, 64, 67, 0.15);\n",
              "      fill: #174EA6;\n",
              "    }\n",
              "\n",
              "    .colab-df-buttons div {\n",
              "      margin-bottom: 4px;\n",
              "    }\n",
              "\n",
              "    [theme=dark] .colab-df-convert {\n",
              "      background-color: #3B4455;\n",
              "      fill: #D2E3FC;\n",
              "    }\n",
              "\n",
              "    [theme=dark] .colab-df-convert:hover {\n",
              "      background-color: #434B5C;\n",
              "      box-shadow: 0px 1px 3px 1px rgba(0, 0, 0, 0.15);\n",
              "      filter: drop-shadow(0px 1px 2px rgba(0, 0, 0, 0.3));\n",
              "      fill: #FFFFFF;\n",
              "    }\n",
              "  </style>\n",
              "\n",
              "    <script>\n",
              "      const buttonEl =\n",
              "        document.querySelector('#df-7f8e100d-cceb-407e-a732-f9db632ce9bd button.colab-df-convert');\n",
              "      buttonEl.style.display =\n",
              "        google.colab.kernel.accessAllowed ? 'block' : 'none';\n",
              "\n",
              "      async function convertToInteractive(key) {\n",
              "        const element = document.querySelector('#df-7f8e100d-cceb-407e-a732-f9db632ce9bd');\n",
              "        const dataTable =\n",
              "          await google.colab.kernel.invokeFunction('convertToInteractive',\n",
              "                                                    [key], {});\n",
              "        if (!dataTable) return;\n",
              "\n",
              "        const docLinkHtml = 'Like what you see? Visit the ' +\n",
              "          '<a target=\"_blank\" href=https://colab.research.google.com/notebooks/data_table.ipynb>data table notebook</a>'\n",
              "          + ' to learn more about interactive tables.';\n",
              "        element.innerHTML = '';\n",
              "        dataTable['output_type'] = 'display_data';\n",
              "        await google.colab.output.renderOutput(dataTable, element);\n",
              "        const docLink = document.createElement('div');\n",
              "        docLink.innerHTML = docLinkHtml;\n",
              "        element.appendChild(docLink);\n",
              "      }\n",
              "    </script>\n",
              "  </div>\n",
              "\n",
              "\n",
              "<div id=\"df-64f607a8-ea3b-46c5-bcb7-8051a9a75ab7\">\n",
              "  <button class=\"colab-df-quickchart\" onclick=\"quickchart('df-64f607a8-ea3b-46c5-bcb7-8051a9a75ab7')\"\n",
              "            title=\"Suggest charts\"\n",
              "            style=\"display:none;\">\n",
              "\n",
              "<svg xmlns=\"http://www.w3.org/2000/svg\" height=\"24px\"viewBox=\"0 0 24 24\"\n",
              "     width=\"24px\">\n",
              "    <g>\n",
              "        <path d=\"M19 3H5c-1.1 0-2 .9-2 2v14c0 1.1.9 2 2 2h14c1.1 0 2-.9 2-2V5c0-1.1-.9-2-2-2zM9 17H7v-7h2v7zm4 0h-2V7h2v10zm4 0h-2v-4h2v4z\"/>\n",
              "    </g>\n",
              "</svg>\n",
              "  </button>\n",
              "\n",
              "<style>\n",
              "  .colab-df-quickchart {\n",
              "      --bg-color: #E8F0FE;\n",
              "      --fill-color: #1967D2;\n",
              "      --hover-bg-color: #E2EBFA;\n",
              "      --hover-fill-color: #174EA6;\n",
              "      --disabled-fill-color: #AAA;\n",
              "      --disabled-bg-color: #DDD;\n",
              "  }\n",
              "\n",
              "  [theme=dark] .colab-df-quickchart {\n",
              "      --bg-color: #3B4455;\n",
              "      --fill-color: #D2E3FC;\n",
              "      --hover-bg-color: #434B5C;\n",
              "      --hover-fill-color: #FFFFFF;\n",
              "      --disabled-bg-color: #3B4455;\n",
              "      --disabled-fill-color: #666;\n",
              "  }\n",
              "\n",
              "  .colab-df-quickchart {\n",
              "    background-color: var(--bg-color);\n",
              "    border: none;\n",
              "    border-radius: 50%;\n",
              "    cursor: pointer;\n",
              "    display: none;\n",
              "    fill: var(--fill-color);\n",
              "    height: 32px;\n",
              "    padding: 0;\n",
              "    width: 32px;\n",
              "  }\n",
              "\n",
              "  .colab-df-quickchart:hover {\n",
              "    background-color: var(--hover-bg-color);\n",
              "    box-shadow: 0 1px 2px rgba(60, 64, 67, 0.3), 0 1px 3px 1px rgba(60, 64, 67, 0.15);\n",
              "    fill: var(--button-hover-fill-color);\n",
              "  }\n",
              "\n",
              "  .colab-df-quickchart-complete:disabled,\n",
              "  .colab-df-quickchart-complete:disabled:hover {\n",
              "    background-color: var(--disabled-bg-color);\n",
              "    fill: var(--disabled-fill-color);\n",
              "    box-shadow: none;\n",
              "  }\n",
              "\n",
              "  .colab-df-spinner {\n",
              "    border: 2px solid var(--fill-color);\n",
              "    border-color: transparent;\n",
              "    border-bottom-color: var(--fill-color);\n",
              "    animation:\n",
              "      spin 1s steps(1) infinite;\n",
              "  }\n",
              "\n",
              "  @keyframes spin {\n",
              "    0% {\n",
              "      border-color: transparent;\n",
              "      border-bottom-color: var(--fill-color);\n",
              "      border-left-color: var(--fill-color);\n",
              "    }\n",
              "    20% {\n",
              "      border-color: transparent;\n",
              "      border-left-color: var(--fill-color);\n",
              "      border-top-color: var(--fill-color);\n",
              "    }\n",
              "    30% {\n",
              "      border-color: transparent;\n",
              "      border-left-color: var(--fill-color);\n",
              "      border-top-color: var(--fill-color);\n",
              "      border-right-color: var(--fill-color);\n",
              "    }\n",
              "    40% {\n",
              "      border-color: transparent;\n",
              "      border-right-color: var(--fill-color);\n",
              "      border-top-color: var(--fill-color);\n",
              "    }\n",
              "    60% {\n",
              "      border-color: transparent;\n",
              "      border-right-color: var(--fill-color);\n",
              "    }\n",
              "    80% {\n",
              "      border-color: transparent;\n",
              "      border-right-color: var(--fill-color);\n",
              "      border-bottom-color: var(--fill-color);\n",
              "    }\n",
              "    90% {\n",
              "      border-color: transparent;\n",
              "      border-bottom-color: var(--fill-color);\n",
              "    }\n",
              "  }\n",
              "</style>\n",
              "\n",
              "  <script>\n",
              "    async function quickchart(key) {\n",
              "      const quickchartButtonEl =\n",
              "        document.querySelector('#' + key + ' button');\n",
              "      quickchartButtonEl.disabled = true;  // To prevent multiple clicks.\n",
              "      quickchartButtonEl.classList.add('colab-df-spinner');\n",
              "      try {\n",
              "        const charts = await google.colab.kernel.invokeFunction(\n",
              "            'suggestCharts', [key], {});\n",
              "      } catch (error) {\n",
              "        console.error('Error during call to suggestCharts:', error);\n",
              "      }\n",
              "      quickchartButtonEl.classList.remove('colab-df-spinner');\n",
              "      quickchartButtonEl.classList.add('colab-df-quickchart-complete');\n",
              "    }\n",
              "    (() => {\n",
              "      let quickchartButtonEl =\n",
              "        document.querySelector('#df-64f607a8-ea3b-46c5-bcb7-8051a9a75ab7 button');\n",
              "      quickchartButtonEl.style.display =\n",
              "        google.colab.kernel.accessAllowed ? 'block' : 'none';\n",
              "    })();\n",
              "  </script>\n",
              "</div>\n",
              "    </div>\n",
              "  </div>\n"
            ]
          },
          "metadata": {},
          "execution_count": 21
        }
      ],
      "source": [
        "df.head()"
      ],
      "id": "56aabdbb-629f-4488-9b15-c414ca168923"
    },
    {
      "cell_type": "markdown",
      "metadata": {
        "id": "8545f3bf-7d2d-4410-a12a-c5b9c21cab19"
      },
      "source": [
        "Let's delete first column that represents indices."
      ],
      "id": "8545f3bf-7d2d-4410-a12a-c5b9c21cab19"
    },
    {
      "cell_type": "code",
      "execution_count": null,
      "metadata": {
        "id": "8abd9ee1-b435-42f3-aa07-c0690c77a57e"
      },
      "outputs": [],
      "source": [
        "df = df.iloc[:, 1:]"
      ],
      "id": "8abd9ee1-b435-42f3-aa07-c0690c77a57e"
    },
    {
      "cell_type": "markdown",
      "source": [
        "For efficiency, we'll consolidate all non-null primitive type entries into the type_identifier column."
      ],
      "metadata": {
        "id": "fcozHyoyZ1TY"
      },
      "id": "fcozHyoyZ1TY"
    },
    {
      "cell_type": "code",
      "source": [
        "def find_type(row):\n",
        "    # Checking for non-null primitive types in the specified columns\n",
        "    columns = [\"boolean_type\", \"floating_point_type\", \"generic_type\", \"scoped_type_identifier\", \"integral_type\",\n",
        "               \"void_type\"]\n",
        "    for col in columns:\n",
        "        if pd.notna(row[col]):\n",
        "            # Return the first non-null primitive type found\n",
        "            return row[col]\n",
        "    # Return None if no non-null primitive types are found\n",
        "    return None\n",
        "\n",
        "\n",
        "# Updating the 'type_identifier' column in the DataFrame\n",
        "# This step consolidates all non-null primitive types into the 'type_identifier' column for convenience\n",
        "df['type_identifier'] = df.apply(\n",
        "    lambda row: find_type(row) if pd.isna(row['type_identifier']) else row['type_identifier'], axis=1)\n",
        "\n",
        "# Defining the columns to be removed from the DataFrame\n",
        "columns_to_remove = [\"boolean_type\", \"floating_point_type\", \"generic_type\", \"scoped_type_identifier\", \"integral_type\",\n",
        "                     \"void_type\"]\n",
        "\n",
        "# Removing the specified columns from the DataFrame\n",
        "df.drop(columns=columns_to_remove, inplace=True)"
      ],
      "metadata": {
        "id": "a__nC1RUxGdi"
      },
      "id": "a__nC1RUxGdi",
      "execution_count": null,
      "outputs": []
    },
    {
      "cell_type": "markdown",
      "metadata": {
        "id": "4c7f5030-3111-4740-808d-6ab217bc0579"
      },
      "source": [
        "Some features in our dataset might have NaN values, each indicating different scenarios:\n",
        "\n",
        "Method without Type Identifier:\n",
        "*   **Constructor:** Constructors are unique methods without a return type. They initialize new objects, bear the same name as the class, and cannot have a return type.\n",
        "*   **Lambda Expressions (Java 8+)**: Lambda expressions, introduced in Java 8, provide implementations for functional interfaces. They lack a traditional return type identifier, consisting only of parameters, an arrow token (->), and a body.\n",
        "\n",
        "Method without Block of Code:\n",
        "\n",
        "*   **Abstract Methods**: In abstract classes or interfaces, abstract methods are declared without an implementation, hence no code block.\n",
        "*   **Native Methods**: These methods, marked with the native keyword, are implemented in a non-Java language (e.g., C or C++), and do not contain a Java code block.\n",
        "*   **Default Methods in Interfaces (Java 8+)**: Default methods in interfaces may have an empty body, allowing optional overriding by implementing classes.\n",
        "\n",
        "Let's retain abstract methods and attempt to predict their identifier using other features, excluding the block of code.\n",
        "\n",
        "**NOTE**: In rare cases, some methods might appear without identifiers, possibly due to parser limitations. This requires further analysis and refined parsing techniques."
      ],
      "id": "4c7f5030-3111-4740-808d-6ab217bc0579"
    },
    {
      "cell_type": "code",
      "source": [
        "def check_not_empty(row):\n",
        "    # Check if \"block\" is not empty '{}' and not null, unless the method is abstract\n",
        "    # Abstract methods are allowed to have empty or null blocks\n",
        "    if (row['block'] == '{}' or row['block'] == \"{\\n }\" or pd.isna(row['block'])) and 'abstract' not in row[\n",
        "        'modifiers']:\n",
        "        return False\n",
        "\n",
        "    # Ensure that \"type_identifier\" is not null or empty\n",
        "    # This field is crucial except for constructors and lambda expressions\n",
        "    if pd.isna(row['type_identifier']) or row['type_identifier'] == '':\n",
        "        return False\n",
        "\n",
        "    # Ensure that \"identifier\" (method name) is not null or empty\n",
        "    # Every method should have a name, though rare exceptions might occur\n",
        "    if pd.isna(row['identifier']) or row['identifier'] == '':\n",
        "        return False\n",
        "\n",
        "    # Ensure that \"modifiers\" is not an empty list or null\n",
        "    # Modifiers are important for understanding the method's properties\n",
        "    if row['modifiers'] == '[]' or row['modifiers'] == [] or pd.isna(row['modifiers']):\n",
        "        return False\n",
        "\n",
        "    # If all checks are passed, the row is valid\n",
        "    return True\n",
        "\n",
        "\n",
        "# Applying the function to each row to filter the DataFrame\n",
        "# Retains only the rows where check_not_empty returns True\n",
        "df = df[df.apply(check_not_empty, axis=1)]"
      ],
      "metadata": {
        "id": "VoISicaL7qN8",
        "colab": {
          "base_uri": "https://localhost:8080/",
          "height": 210
        },
        "outputId": "2ef6592e-67ee-4eeb-c7a3-137a61486365"
      },
      "id": "VoISicaL7qN8",
      "execution_count": null,
      "outputs": [
        {
          "output_type": "error",
          "ename": "NameError",
          "evalue": "ignored",
          "traceback": [
            "\u001b[0;31m---------------------------------------------------------------------------\u001b[0m",
            "\u001b[0;31mNameError\u001b[0m                                 Traceback (most recent call last)",
            "\u001b[0;32m<ipython-input-1-32a22589750c>\u001b[0m in \u001b[0;36m<cell line: 27>\u001b[0;34m()\u001b[0m\n\u001b[1;32m     25\u001b[0m \u001b[0;31m# Applying the function to each row to filter the DataFrame\u001b[0m\u001b[0;34m\u001b[0m\u001b[0;34m\u001b[0m\u001b[0m\n\u001b[1;32m     26\u001b[0m \u001b[0;31m# Retains only the rows where check_not_empty returns True\u001b[0m\u001b[0;34m\u001b[0m\u001b[0;34m\u001b[0m\u001b[0m\n\u001b[0;32m---> 27\u001b[0;31m \u001b[0mdf\u001b[0m \u001b[0;34m=\u001b[0m \u001b[0mdf\u001b[0m\u001b[0;34m[\u001b[0m\u001b[0mdf\u001b[0m\u001b[0;34m.\u001b[0m\u001b[0mapply\u001b[0m\u001b[0;34m(\u001b[0m\u001b[0mcheck_not_empty\u001b[0m\u001b[0;34m,\u001b[0m \u001b[0maxis\u001b[0m\u001b[0;34m=\u001b[0m\u001b[0;36m1\u001b[0m\u001b[0;34m)\u001b[0m\u001b[0;34m]\u001b[0m\u001b[0;34m\u001b[0m\u001b[0;34m\u001b[0m\u001b[0m\n\u001b[0m",
            "\u001b[0;31mNameError\u001b[0m: name 'df' is not defined"
          ]
        }
      ]
    },
    {
      "cell_type": "code",
      "execution_count": null,
      "metadata": {
        "id": "43ca94ab-a51b-4ea6-ba8d-3412f26f923b",
        "colab": {
          "base_uri": "https://localhost:8080/"
        },
        "outputId": "ba7a2d9d-ca46-402b-f1b0-50aee6d5ab79"
      },
      "outputs": [
        {
          "output_type": "execute_result",
          "data": {
            "text/plain": [
              "(415087, 6)"
            ]
          },
          "metadata": {},
          "execution_count": 25
        }
      ],
      "source": [
        "df.shape"
      ],
      "id": "43ca94ab-a51b-4ea6-ba8d-3412f26f923b"
    },
    {
      "cell_type": "markdown",
      "metadata": {
        "id": "dfa6e191-3a51-47c7-8189-cd60ac3e67b6"
      },
      "source": [
        "Now, let's merge all parsed method components into complete method codes, replacing each method's name with ```<extra_id_0>```. `full_code` will serve as our input.\n",
        "\n",
        "The token ```<extra_id_0>``` is used as a placeholder in the method code to replace the original method names. This is part of a common technique in sequence-to-sequence language models, especially in tasks like translation, summarization, and, in this case, code generation."
      ],
      "id": "dfa6e191-3a51-47c7-8189-cd60ac3e67b6"
    },
    {
      "cell_type": "code",
      "execution_count": null,
      "metadata": {
        "id": "1146b9b5-445b-49c6-ade6-3bf1ced1bc33"
      },
      "outputs": [],
      "source": [
        "def full_code_feature(row):\n",
        "    identifier = \"<extra_id_0>\"\n",
        "    type_id = row['type_identifier']\n",
        "    params = row['formal_parameters']\n",
        "\n",
        "    # Converting the string representation of modifiers list back to a list data type\n",
        "    modifiers_list = ast.literal_eval(row['modifiers'])\n",
        "    decorators = [mod for mod in modifiers_list if mod.startswith('@')]\n",
        "    other_mods = [mod for mod in modifiers_list if not mod.startswith('@')]\n",
        "\n",
        "    # Formatting the decorators to appear on separate lines\n",
        "    formatted_decorators = '\\n'.join(decorators).replace(\"'\", \"\")\n",
        "    # Formatting other modifiers to appear on the same line\n",
        "    formatted_other_mods = ' '.join(other_mods).replace(\"'\", \"\").replace(\",\", \"\")\n",
        "\n",
        "    # Cleaning the block of code from comments\n",
        "    block = row['block']\n",
        "    block = re.sub(r'/\\*.*?\\*/', '', str(block), flags=re.DOTALL)  # Removing block comments\n",
        "    block = re.sub(r'//.*?\\n', '', block)  # Removing line comments\n",
        "\n",
        "    # Constructing the full method code with new lines for readability\n",
        "    return f\"{formatted_decorators}\\n{formatted_other_mods} {type_id} {identifier}{params} {block}\"\n",
        "\n",
        "\n",
        "# Applying the function to each row to generate the full method code\n",
        "df['full_code'] = df.apply(full_code_feature, axis=1)"
      ],
      "id": "1146b9b5-445b-49c6-ade6-3bf1ced1bc33"
    },
    {
      "cell_type": "markdown",
      "metadata": {
        "id": "70802a34-3a7b-4b89-834d-c9d73fd00527"
      },
      "source": [
        "I am going to verify the correctness of the formatted code for the first 10 entries in the dataset."
      ],
      "id": "70802a34-3a7b-4b89-834d-c9d73fd00527"
    },
    {
      "cell_type": "code",
      "execution_count": null,
      "metadata": {
        "id": "55697177-8b7b-44dc-9d88-7caebcfc122c",
        "scrolled": true
      },
      "outputs": [],
      "source": [
        "# Displaying the full method code for the first 10 instances in the DataFrame\n",
        "for instance_index in range(10):\n",
        "    print(df.iloc[instance_index, :].full_code)"
      ],
      "id": "55697177-8b7b-44dc-9d88-7caebcfc122c"
    },
    {
      "cell_type": "markdown",
      "metadata": {
        "id": "0c7e01d5-da0c-4db8-a66d-e136e0af06f6"
      },
      "source": [
        "The code appears to be correctly formatted. Next, I will focus on the following stages on Defining Metrics, Tokenizing Data, Evaluating the Unfinetuned Model."
      ],
      "id": "0c7e01d5-da0c-4db8-a66d-e136e0af06f6"
    },
    {
      "cell_type": "markdown",
      "source": [
        "## Unfinetuned Model Test: Metrics, Data Tokenization, Unfinetuned Model Evaluation"
      ],
      "metadata": {
        "id": "EuT8aj9penJM"
      },
      "id": "EuT8aj9penJM"
    },
    {
      "cell_type": "markdown",
      "source": [
        "### Metrics"
      ],
      "metadata": {
        "id": "vrYIxxyinLZN"
      },
      "id": "vrYIxxyinLZN"
    },
    {
      "cell_type": "markdown",
      "metadata": {
        "id": "d9de1673-2b1b-49bd-a457-fe7a380a3e39"
      },
      "source": [
        "This task - generating of identifiers from method blocks, is a text-to-text generation challenge. It involves converting input text into a different output text form. For evaluation, several metrics are considered:\n",
        "*   **Accuracy**: Assesses how accurately the generated text matches the expected output.\n",
        "*   **ROUGE (Recall-Oriented Understudy for Gisting Evaluation)** Score: Often used in summarization, it emphasizes word recall, making it suitable for generating precise and meaningful method names.\n",
        "*   **Levenshtein Distance (Edit Distance)**: This metric calculates the number of single-character edits needed to transform one word into another, helping to gauge the closeness of generated method names to the expected ones.\n",
        "*   **Semantic Similarity**: This metric calculates the semantic similarity between the predicted method names and the actual labels.\n",
        "\n",
        "These metrics provide a comprehensive framework for evaluating the effectiveness of the model in generating accurate and relevant method names."
      ],
      "id": "d9de1673-2b1b-49bd-a457-fe7a380a3e39"
    },
    {
      "cell_type": "markdown",
      "source": [
        "#### Accuracy"
      ],
      "metadata": {
        "id": "S1Paax2LidZd"
      },
      "id": "S1Paax2LidZd"
    },
    {
      "cell_type": "markdown",
      "source": [
        "We have functions to evaluate our model's prediction accuracy in generating method names, handling camelCase conventions:\n",
        "*   `split_camel_case`: Splits camelCase names into lowercase subwords for comparison.\n",
        "*   `calculate_matches`: Counts matching subwords between predictions and actual names, regardless of their order.\n",
        "*   `calculate_accuracy`: Calculates overall accuracy based on the number of matching subwords.\n",
        "\n",
        "These functions ensure accurate assessment even when predicted words are in a different order or case from the actual names (e.g., comparing 'methodName' with 'nameMethod')."
      ],
      "metadata": {
        "id": "LH4pzWU_nFT3"
      },
      "id": "LH4pzWU_nFT3"
    },
    {
      "cell_type": "code",
      "source": [
        "# Helper function to split camelCase into subwords\n",
        "def split_camel_case(name):\n",
        "    # Regular expression to identify subwords in camelCase\n",
        "    matches = re.finditer('.+?(?:(?<=[a-z])(?=[A-Z])|(?<=[A-Z])(?=[A-Z][a-z])|$)', name)\n",
        "    # Returning the found subwords in lowercase\n",
        "    return [m.group(0).lower() for m in matches]\n",
        "\n",
        "\n",
        "def calculate_matches(labels, predictions):\n",
        "    \"\"\"Calculate the number of matching words.\"\"\"\n",
        "    total_matches = 0\n",
        "    total_subwords = 0\n",
        "\n",
        "    for label, prediction in zip(labels, predictions):\n",
        "        # Splitting both label and prediction into subwords\n",
        "        label_subwords = split_camel_case(label)\n",
        "        prediction_subwords = split_camel_case(prediction)\n",
        "\n",
        "        matches = 0\n",
        "        for l_word in label_subwords:\n",
        "            # Finding a matching word in the prediction\n",
        "            matched_word = next((p_word for p_word in prediction_subwords if l_word == p_word), None)\n",
        "            if matched_word:\n",
        "                matches += 1\n",
        "                prediction_subwords.remove(matched_word)  # Removing the matched word to prevent reuse\n",
        "\n",
        "        # Accumulating total matches and subwords\n",
        "        total_matches += matches\n",
        "        total_subwords += len(label_subwords)\n",
        "\n",
        "    return total_matches, total_subwords\n",
        "\n",
        "\n",
        "def calculate_accuracy(labels, predictions):\n",
        "    # Calculating matches and total subwords\n",
        "    matches, total_subwords = calculate_matches(labels, predictions)\n",
        "    # Calculating and returning accuracy\n",
        "    accuracy = matches / total_subwords if total_subwords != 0 else 0\n",
        "    return accuracy"
      ],
      "metadata": {
        "id": "mLX7qZHbiACC"
      },
      "id": "mLX7qZHbiACC",
      "execution_count": null,
      "outputs": []
    },
    {
      "cell_type": "markdown",
      "source": [
        "#### ROUGE"
      ],
      "metadata": {
        "id": "X9gAVtpemaoj"
      },
      "id": "X9gAVtpemaoj"
    },
    {
      "cell_type": "markdown",
      "source": [
        " ROUGE-N recall scor is essential in evaluating the performance of our model in generating method names. ROUGE-N measures the overlap of N-grams between generated and reference names. This metric is crucial for assessing how well the generated names align with the reference names in terms of content and structure.\n",
        "\n",
        "The function calculate_rouge_n uses the already mentioned `split_camel_case` method to split camelCase names into subwords and create N-grams, which are then compared to calculate the recall."
      ],
      "metadata": {
        "id": "b97M8AiUrQ4p"
      },
      "id": "b97M8AiUrQ4p"
    },
    {
      "cell_type": "code",
      "source": [
        "def calculate_rouge_n(generated_names, reference_names, n=1):\n",
        "    # Function to generate n-grams from a list of words\n",
        "    def ngrams(words, n):\n",
        "        # Creating n-grams using list comprehension and zip\n",
        "        return zip(*[words[i:] for i in range(n)])\n",
        "\n",
        "    scores = []  # List to store individual recall scores for each name pair\n",
        "\n",
        "    # Looping through each pair of generated and reference names\n",
        "    for gen_name, ref_name in zip(generated_names, reference_names):\n",
        "        # Splitting camelCase names into words and creating n-grams\n",
        "        gen_ngrams = Counter(ngrams(split_camel_case(gen_name), n))\n",
        "        ref_ngrams = Counter(ngrams(split_camel_case(ref_name), n))\n",
        "\n",
        "        # Calculating overlap of n-grams between generated and reference names\n",
        "        overlap = sum((gen_ngrams & ref_ngrams).values())\n",
        "        total_ref_ngrams = sum(ref_ngrams.values())  # Total n-grams in reference name\n",
        "\n",
        "        # Calculating recall as the ratio of overlap to total reference n-grams\n",
        "        recall = overlap / total_ref_ngrams if total_ref_ngrams > 0 else 0\n",
        "        scores.append(recall)  # Adding recall score to the list\n",
        "\n",
        "    # Calculating the average recall score across all name pairs\n",
        "    average_recall = np.mean(scores) if scores else 0\n",
        "    return average_recall"
      ],
      "metadata": {
        "id": "Dytgp6tYmaXI"
      },
      "id": "Dytgp6tYmaXI",
      "execution_count": null,
      "outputs": []
    },
    {
      "cell_type": "markdown",
      "source": [
        "#### Levenshtein Distance"
      ],
      "metadata": {
        "id": "qmDzxDMDpCoM"
      },
      "id": "qmDzxDMDpCoM"
    },
    {
      "cell_type": "markdown",
      "source": [
        "Levenshtein distance measures the number of single-character edits (insertions, deletions, or substitutions) required to change one word into another. It calculates the average Levenshtein distance between lists of labels and predictions.\n"
      ],
      "metadata": {
        "id": "UIJfl9FYrgej"
      },
      "id": "UIJfl9FYrgej"
    },
    {
      "cell_type": "code",
      "source": [
        "# Levenshtein Distance\n",
        "def calculate_levenshtein_distance(labels, predictions):\n",
        "    # Calculating Levenshtein distance for each pair of label and prediction\n",
        "    distances = [Levenshtein.distance(ref, pred) for ref, pred in zip(labels, predictions)]\n",
        "\n",
        "    # Returning the average distance\n",
        "    return np.mean(distances)"
      ],
      "metadata": {
        "id": "ddjRLm86psPW"
      },
      "id": "ddjRLm86psPW",
      "execution_count": null,
      "outputs": []
    },
    {
      "cell_type": "markdown",
      "source": [
        "#### Semantic Similarity"
      ],
      "metadata": {
        "id": "eQEMILzzr6R2"
      },
      "id": "eQEMILzzr6R2"
    },
    {
      "cell_type": "markdown",
      "source": [
        "By employing semantic analysis, this function provides a nuanced measure of how well the generated names capture the conceptual essence of the reference names, going beyond mere syntactic comparison.\n",
        "\n",
        "Each method name is split from camelCase. We then use an NLP model (like spaCy) to calculate the semantic similarity between each pair of generated and reference names. This similarity score reflects how close the generated name is to the reference name in terms of their meaning. Finally, the function computes and returns the average similarity score across all name pairs.\n",
        "\n",
        "**NOTE:** Before using spaCy for semantic similarity, ensure the relevant NLP model (e.g., en_core_web_md) is downloaded:"
      ],
      "metadata": {
        "id": "8GqQRKthsPuu"
      },
      "id": "8GqQRKthsPuu"
    },
    {
      "cell_type": "code",
      "execution_count": null,
      "metadata": {
        "colab": {
          "base_uri": "https://localhost:8080/"
        },
        "id": "e5VjgY2DCYFv",
        "outputId": "63f30fe1-d07b-414a-a4ad-6e14890296ed"
      },
      "outputs": [
        {
          "output_type": "stream",
          "name": "stdout",
          "text": [
            "2023-12-29 07:31:05.233732: E external/local_xla/xla/stream_executor/cuda/cuda_dnn.cc:9261] Unable to register cuDNN factory: Attempting to register factory for plugin cuDNN when one has already been registered\n",
            "2023-12-29 07:31:05.233790: E external/local_xla/xla/stream_executor/cuda/cuda_fft.cc:607] Unable to register cuFFT factory: Attempting to register factory for plugin cuFFT when one has already been registered\n",
            "2023-12-29 07:31:05.235236: E external/local_xla/xla/stream_executor/cuda/cuda_blas.cc:1515] Unable to register cuBLAS factory: Attempting to register factory for plugin cuBLAS when one has already been registered\n",
            "2023-12-29 07:31:06.461696: W tensorflow/compiler/tf2tensorrt/utils/py_utils.cc:38] TF-TRT Warning: Could not find TensorRT\n",
            "Collecting en-core-web-md==3.6.0\n",
            "  Downloading https://github.com/explosion/spacy-models/releases/download/en_core_web_md-3.6.0/en_core_web_md-3.6.0-py3-none-any.whl (42.8 MB)\n",
            "\u001b[2K     \u001b[90m━━━━━━━━━━━━━━━━━━━━━━━━━━━━━━━━━━━━━━━━\u001b[0m \u001b[32m42.8/42.8 MB\u001b[0m \u001b[31m2.5 MB/s\u001b[0m eta \u001b[36m0:00:00\u001b[0m\n",
            "\u001b[?25hRequirement already satisfied: spacy<3.7.0,>=3.6.0 in /usr/local/lib/python3.10/dist-packages (from en-core-web-md==3.6.0) (3.6.1)\n",
            "Requirement already satisfied: spacy-legacy<3.1.0,>=3.0.11 in /usr/local/lib/python3.10/dist-packages (from spacy<3.7.0,>=3.6.0->en-core-web-md==3.6.0) (3.0.12)\n",
            "Requirement already satisfied: spacy-loggers<2.0.0,>=1.0.0 in /usr/local/lib/python3.10/dist-packages (from spacy<3.7.0,>=3.6.0->en-core-web-md==3.6.0) (1.0.5)\n",
            "Requirement already satisfied: murmurhash<1.1.0,>=0.28.0 in /usr/local/lib/python3.10/dist-packages (from spacy<3.7.0,>=3.6.0->en-core-web-md==3.6.0) (1.0.10)\n",
            "Requirement already satisfied: cymem<2.1.0,>=2.0.2 in /usr/local/lib/python3.10/dist-packages (from spacy<3.7.0,>=3.6.0->en-core-web-md==3.6.0) (2.0.8)\n",
            "Requirement already satisfied: preshed<3.1.0,>=3.0.2 in /usr/local/lib/python3.10/dist-packages (from spacy<3.7.0,>=3.6.0->en-core-web-md==3.6.0) (3.0.9)\n",
            "Requirement already satisfied: thinc<8.2.0,>=8.1.8 in /usr/local/lib/python3.10/dist-packages (from spacy<3.7.0,>=3.6.0->en-core-web-md==3.6.0) (8.1.12)\n",
            "Requirement already satisfied: wasabi<1.2.0,>=0.9.1 in /usr/local/lib/python3.10/dist-packages (from spacy<3.7.0,>=3.6.0->en-core-web-md==3.6.0) (1.1.2)\n",
            "Requirement already satisfied: srsly<3.0.0,>=2.4.3 in /usr/local/lib/python3.10/dist-packages (from spacy<3.7.0,>=3.6.0->en-core-web-md==3.6.0) (2.4.8)\n",
            "Requirement already satisfied: catalogue<2.1.0,>=2.0.6 in /usr/local/lib/python3.10/dist-packages (from spacy<3.7.0,>=3.6.0->en-core-web-md==3.6.0) (2.0.10)\n",
            "Requirement already satisfied: typer<0.10.0,>=0.3.0 in /usr/local/lib/python3.10/dist-packages (from spacy<3.7.0,>=3.6.0->en-core-web-md==3.6.0) (0.9.0)\n",
            "Requirement already satisfied: pathy>=0.10.0 in /usr/local/lib/python3.10/dist-packages (from spacy<3.7.0,>=3.6.0->en-core-web-md==3.6.0) (0.10.3)\n",
            "Requirement already satisfied: smart-open<7.0.0,>=5.2.1 in /usr/local/lib/python3.10/dist-packages (from spacy<3.7.0,>=3.6.0->en-core-web-md==3.6.0) (6.4.0)\n",
            "Requirement already satisfied: tqdm<5.0.0,>=4.38.0 in /usr/local/lib/python3.10/dist-packages (from spacy<3.7.0,>=3.6.0->en-core-web-md==3.6.0) (4.66.1)\n",
            "Requirement already satisfied: numpy>=1.15.0 in /usr/local/lib/python3.10/dist-packages (from spacy<3.7.0,>=3.6.0->en-core-web-md==3.6.0) (1.23.5)\n",
            "Requirement already satisfied: requests<3.0.0,>=2.13.0 in /usr/local/lib/python3.10/dist-packages (from spacy<3.7.0,>=3.6.0->en-core-web-md==3.6.0) (2.31.0)\n",
            "Requirement already satisfied: pydantic!=1.8,!=1.8.1,<3.0.0,>=1.7.4 in /usr/local/lib/python3.10/dist-packages (from spacy<3.7.0,>=3.6.0->en-core-web-md==3.6.0) (1.10.13)\n",
            "Requirement already satisfied: jinja2 in /usr/local/lib/python3.10/dist-packages (from spacy<3.7.0,>=3.6.0->en-core-web-md==3.6.0) (3.1.2)\n",
            "Requirement already satisfied: setuptools in /usr/local/lib/python3.10/dist-packages (from spacy<3.7.0,>=3.6.0->en-core-web-md==3.6.0) (67.7.2)\n",
            "Requirement already satisfied: packaging>=20.0 in /usr/local/lib/python3.10/dist-packages (from spacy<3.7.0,>=3.6.0->en-core-web-md==3.6.0) (23.2)\n",
            "Requirement already satisfied: langcodes<4.0.0,>=3.2.0 in /usr/local/lib/python3.10/dist-packages (from spacy<3.7.0,>=3.6.0->en-core-web-md==3.6.0) (3.3.0)\n",
            "Requirement already satisfied: typing-extensions>=4.2.0 in /usr/local/lib/python3.10/dist-packages (from pydantic!=1.8,!=1.8.1,<3.0.0,>=1.7.4->spacy<3.7.0,>=3.6.0->en-core-web-md==3.6.0) (4.5.0)\n",
            "Requirement already satisfied: charset-normalizer<4,>=2 in /usr/local/lib/python3.10/dist-packages (from requests<3.0.0,>=2.13.0->spacy<3.7.0,>=3.6.0->en-core-web-md==3.6.0) (3.3.2)\n",
            "Requirement already satisfied: idna<4,>=2.5 in /usr/local/lib/python3.10/dist-packages (from requests<3.0.0,>=2.13.0->spacy<3.7.0,>=3.6.0->en-core-web-md==3.6.0) (3.6)\n",
            "Requirement already satisfied: urllib3<3,>=1.21.1 in /usr/local/lib/python3.10/dist-packages (from requests<3.0.0,>=2.13.0->spacy<3.7.0,>=3.6.0->en-core-web-md==3.6.0) (2.0.7)\n",
            "Requirement already satisfied: certifi>=2017.4.17 in /usr/local/lib/python3.10/dist-packages (from requests<3.0.0,>=2.13.0->spacy<3.7.0,>=3.6.0->en-core-web-md==3.6.0) (2023.11.17)\n",
            "Requirement already satisfied: blis<0.8.0,>=0.7.8 in /usr/local/lib/python3.10/dist-packages (from thinc<8.2.0,>=8.1.8->spacy<3.7.0,>=3.6.0->en-core-web-md==3.6.0) (0.7.11)\n",
            "Requirement already satisfied: confection<1.0.0,>=0.0.1 in /usr/local/lib/python3.10/dist-packages (from thinc<8.2.0,>=8.1.8->spacy<3.7.0,>=3.6.0->en-core-web-md==3.6.0) (0.1.4)\n",
            "Requirement already satisfied: click<9.0.0,>=7.1.1 in /usr/local/lib/python3.10/dist-packages (from typer<0.10.0,>=0.3.0->spacy<3.7.0,>=3.6.0->en-core-web-md==3.6.0) (8.1.7)\n",
            "Requirement already satisfied: MarkupSafe>=2.0 in /usr/local/lib/python3.10/dist-packages (from jinja2->spacy<3.7.0,>=3.6.0->en-core-web-md==3.6.0) (2.1.3)\n",
            "Installing collected packages: en-core-web-md\n",
            "Successfully installed en-core-web-md-3.6.0\n",
            "\u001b[38;5;2m✔ Download and installation successful\u001b[0m\n",
            "You can now load the package via spacy.load('en_core_web_md')\n"
          ]
        }
      ],
      "source": [
        "!python -m spacy download en_core_web_md"
      ],
      "id": "e5VjgY2DCYFv"
    },
    {
      "cell_type": "code",
      "source": [
        "def calculate_similarity(labels, predictions):\n",
        "    # Load spaCy model\n",
        "    nlp = spacy.load(\"en_core_web_md\")\n",
        "    # Check if labels and predictions are of the same length\n",
        "    if len(labels) != len(predictions):\n",
        "        raise ValueError(\"Labels and predictions must be of the same length.\")\n",
        "\n",
        "    similarities = []  # List to store similarity scores\n",
        "\n",
        "    # Iterate over each label-prediction pair\n",
        "    for ref, pred in zip(labels, predictions):\n",
        "        # Convert camelCase names to space-separated words\n",
        "        ref = ' '.join(split_camel_case(ref))\n",
        "        pred = ' '.join(split_camel_case(pred))\n",
        "\n",
        "        # Calculate semantic similarity using a predefined NLP model\n",
        "        # nlp object is assumed to be a preloaded NLP model like spaCy\n",
        "        similarity = nlp(ref).similarity(nlp(pred))\n",
        "        similarities.append(similarity)\n",
        "\n",
        "    # Return the average similarity score, or 0 if no similarities were calculated\n",
        "    return np.mean(similarities) if similarities else 0\n"
      ],
      "metadata": {
        "id": "sUTpIlAbsC9z"
      },
      "id": "sUTpIlAbsC9z",
      "execution_count": null,
      "outputs": []
    },
    {
      "cell_type": "markdown",
      "source": [
        "#### All-in-One"
      ],
      "metadata": {
        "id": "mG0mF2KKtWgo"
      },
      "id": "mG0mF2KKtWgo"
    },
    {
      "cell_type": "markdown",
      "source": [
        "This function `evaluation_results` aggregates various metrics to give a comprehensive evaluation of the model's performance in generating method names"
      ],
      "metadata": {
        "id": "09UBzEt9wK1f"
      },
      "id": "09UBzEt9wK1f"
    },
    {
      "cell_type": "code",
      "source": [
        "def evaluation_results(labels, predictions):\n",
        "    # Calculate various evaluation metrics for the generated method names\n",
        "\n",
        "    # Calculate and print accuracy\n",
        "    accuracy = calculate_accuracy(predictions, labels)\n",
        "    print(f\"Accuracy: {accuracy:.2f}\")\n",
        "\n",
        "    # Calculate and print ROUGE score\n",
        "    rouge = calculate_rouge_n(predictions, labels)\n",
        "    print(f\"ROUGE: {rouge:.2f}\")\n",
        "\n",
        "    # Calculate and print Levenshtein distance\n",
        "    levenshtein_distance = calculate_levenshtein_distance(labels, predictions)\n",
        "    print(f\"Levenshtein Distance: {levenshtein_distance}\")\n",
        "\n",
        "    # Calculate and print semantic similarity\n",
        "    semantic_similarity = calculate_similarity(labels, predictions)\n",
        "    print(f\"Semantic Similarity: {semantic_similarity:.2f}\")"
      ],
      "metadata": {
        "id": "DJxxEcwYtPo-"
      },
      "id": "DJxxEcwYtPo-",
      "execution_count": null,
      "outputs": []
    },
    {
      "cell_type": "markdown",
      "source": [
        "### Data Tokenization"
      ],
      "metadata": {
        "id": "b5vnGq3zwY7M"
      },
      "id": "b5vnGq3zwY7M"
    },
    {
      "cell_type": "markdown",
      "metadata": {
        "id": "d52668c0-b1cc-49e8-bf01-cb8c10cf4c73"
      },
      "source": [
        "As a common practice, we split the dataset into:\n",
        "\n",
        "- **Training set**: Data used for training the model parameters.\n",
        "- **Validation set**: Data used for hyperparameter tuning or early stopping to avoid overfitting.\n",
        "- **Test set**: Data used for checking what performance we can expect on new data.\n",
        "\n",
        "The split ratio depends on the specific requirements of your project, but common practices are:\n",
        "\n",
        "- Training Set: 70-80%\n",
        "- Validation Set: 10-15%\n",
        "- Test Set: 10-15%\n",
        "\n",
        "We will use 70:15:15."
      ],
      "id": "d52668c0-b1cc-49e8-bf01-cb8c10cf4c73"
    },
    {
      "cell_type": "code",
      "execution_count": null,
      "metadata": {
        "id": "a5bf50a6-217a-46d3-aa1e-aa31544dd898"
      },
      "outputs": [],
      "source": [
        "# Extract the 'identifier' column as labels\n",
        "labels = df['identifier']\n",
        "\n",
        "# Drop the 'identifier' column from the DataFrame to get input data\n",
        "data = df.drop('identifier', axis=1)\n",
        "\n",
        "# Splitting the data into training and a temporary test set\n",
        "train_data, temp_test_data, train_labels, temp_test_labels = train_test_split(data, labels, test_size=10000, random_state=42)\n",
        "\n",
        "# Splitting the temporary test set into actual test and validation sets\n",
        "test_data, val_data, test_labels, val_labels = train_test_split(temp_test_data, temp_test_labels, test_size=5000, random_state=42)"
      ],
      "id": "a5bf50a6-217a-46d3-aa1e-aa31544dd898"
    },
    {
      "cell_type": "code",
      "execution_count": null,
      "metadata": {
        "id": "1f9d9251-5ff8-4f70-9244-87efe3fe8309"
      },
      "outputs": [],
      "source": [
        "mean_identifier_len = math.ceil(mean([len(split_camel_case(i)) for i in labels]))+2 # will be used in geenration"
      ],
      "id": "1f9d9251-5ff8-4f70-9244-87efe3fe8309"
    },
    {
      "cell_type": "markdown",
      "source": [
        "The model expects data in the form of **Dataset** type. We also create a **DatasetDict** to organize the datasets. This structure is beneficial when working with models that require specific data formats such as those found in the Hugging Face Transformers library."
      ],
      "metadata": {
        "id": "BBLo0L-QxHvq"
      },
      "id": "BBLo0L-QxHvq"
    },
    {
      "cell_type": "code",
      "execution_count": null,
      "metadata": {
        "id": "c0575c93-8d51-4772-89d4-dc3b1742c45e"
      },
      "outputs": [],
      "source": [
        "# Creating Dataset objects for each set\n",
        "train_dataset = Dataset.from_pandas(train_data.assign(labels=train_labels))\n",
        "test_dataset = Dataset.from_pandas(test_data.assign(labels=test_labels))\n",
        "val_dataset = Dataset.from_pandas(val_data.assign(labels=val_labels))\n",
        "\n",
        "# Creating a DatasetDict\n",
        "dataset_dict = DatasetDict({\n",
        "    'train': train_dataset,\n",
        "    'validation': val_dataset,\n",
        "    'test': test_dataset\n",
        "})"
      ],
      "id": "c0575c93-8d51-4772-89d4-dc3b1742c45e"
    },
    {
      "cell_type": "markdown",
      "metadata": {
        "id": "e891a0fc-2a6c-4e69-98c2-68bbb0edb312"
      },
      "source": [
        "We initialize the tokenizer for the T5-base model, as previously set up in \"CodeT5+: description and first try\". The tokenizer transforms textual input into a sequence of token ids, which is essential for model processing.\n",
        "\n",
        "A key parameter, max_input_length, is set to 512 to define the maximum length of the input sequences. The preprocessing function, `preprocess_data`, tokenizes both the inputs (full code) and the labels (method names) while ensuring they adhere to this length constraint. This tokenized data is then used to train and evaluate the model."
      ],
      "id": "e891a0fc-2a6c-4e69-98c2-68bbb0edb312"
    },
    {
      "cell_type": "code",
      "execution_count": null,
      "metadata": {
        "id": "7f6a4013-6dbd-4637-9b2f-63ca1f5162a3"
      },
      "outputs": [],
      "source": [
        "# Setting the maximum input length for the tokenizer\n",
        "max_input_length = 512\n",
        "\n",
        "# List of columns to be removed from the dataset\n",
        "columns_to_remove = ['formal_parameters', 'modifiers', 'block', 'type_identifier', 'file_path', 'full_code',\n",
        "                     '__index_level_0__']\n",
        "\n",
        "\n",
        "def preprocess_data(examples):\n",
        "    # Tokenizing the full code sections of the examples\n",
        "    inputs = examples[\"full_code\"]\n",
        "    model_inputs = tokenizer(inputs, max_length=max_input_length, truncation=True, padding='max_length')\n",
        "\n",
        "    # Tokenizing the labels (method names)\n",
        "    labels = tokenizer(examples[\"labels\"], max_length=max_input_length, truncation=True, padding='max_length')\n",
        "\n",
        "    # Setting the tokenized labels as the 'labels' field in the model inputs\n",
        "    model_inputs[\"labels\"] = labels[\"input_ids\"]\n",
        "\n",
        "    # The function returns the processed inputs suitable for the model\n",
        "    return model_inputs\n",
        "\n",
        "\n",
        "# Applying the preprocessing function to the datasets\n",
        "# This step tokenizes all datasets and removes unnecessary columns\n",
        "tokenized_datasets = dataset_dict.map(preprocess_data, remove_columns=columns_to_remove)"
      ],
      "id": "7f6a4013-6dbd-4637-9b2f-63ca1f5162a3"
    },
    {
      "cell_type": "code",
      "source": [
        "# Saving the tokenized dataset using LZMA compression\n",
        "with lzma.open('tokenized_datasets.xz', 'wb') as f:\n",
        "    # Serializing the tokenized datasets with pickle\n",
        "    pickle.dump(tokenized_datasets, f)\n",
        "\n",
        "# This step saves the preprocessed and tokenized dataset to disk.\n",
        "# It allows for quicker access and reduces processing time in subsequent uses of this notebook."
      ],
      "metadata": {
        "id": "ma6_HZvoyX4v"
      },
      "id": "ma6_HZvoyX4v",
      "execution_count": null,
      "outputs": []
    },
    {
      "cell_type": "markdown",
      "source": [
        "### Unfinetuned Model Evaluation"
      ],
      "metadata": {
        "id": "cJFeY-60zvES"
      },
      "id": "cJFeY-60zvES"
    },
    {
      "cell_type": "code",
      "execution_count": null,
      "metadata": {
        "id": "8vsmFt5XPlo6"
      },
      "outputs": [],
      "source": [
        "# Loading the previously saved tokenized dataset from disk\n",
        "with lzma.open('tokenized_datasets.xz', 'rb') as f:\n",
        "    # Deserializing the tokenized datasets using pickle\n",
        "    tokenized_datasets = pickle.load(f)\n",
        "\n",
        "# This step loads the preprocessed and tokenized dataset from disk.\n",
        "# It allows for quick access to the dataset that was saved in a previous session."
      ],
      "id": "8vsmFt5XPlo6"
    },
    {
      "cell_type": "markdown",
      "source": [
        "Here is selecting subsets of the tokenized dataset for training, validation, and testing. The sizes of these subsets are chosen for efficient use of resources. At this stage only test_dataset will be used."
      ],
      "metadata": {
        "id": "Zo9ogAb0zV_H"
      },
      "id": "Zo9ogAb0zV_H"
    },
    {
      "cell_type": "code",
      "execution_count": null,
      "metadata": {
        "id": "bf833c6b-bba3-4037-acd0-fb3120b531b3"
      },
      "outputs": [],
      "source": [
        "train_dataset = tokenized_datasets[\"train\"].select(range(100000))\n",
        "validation_dataset = tokenized_datasets[\"validation\"].select(range(4000))\n",
        "test_dataset = tokenized_datasets[\"test\"].select(range(4000))"
      ],
      "id": "bf833c6b-bba3-4037-acd0-fb3120b531b3"
    },
    {
      "cell_type": "markdown",
      "source": [
        "This code snippet is responsible for generating predictions using a given language model and cleaning the results for better readability and consistency. Here's a breakdown of the key steps:\n",
        "\n",
        "The `clean_generated_text` function takes a generated text as input and performs the following steps:\n",
        "   - Removes non-alphabetic characters, keeping only letters.\n",
        "   - Splits the cleaned text into words.\n",
        "   - Removes duplicate words (model can generate long words with duplicates to extend the result up to max token number output).\n",
        "   - Reconstructs the text in camelCase style, where the first word starts with a lowercase letter and the rest are capitalized. This ensures consistency in the generated method names.\n",
        "\n",
        "The `generate_predictions` function iterates through the test dataset in batches and generates predictions for each batch using the model. The generated text is then cleaned using the `clean_generated_text` function. Empty predictions (those containing only special tokens) are replaced with\n",
        "```\n",
        "<no_prediction>\n",
        "```\n",
        "\n",
        " to indicate that the model did not provide a valid method name.\n"
      ],
      "metadata": {
        "id": "4X4LMM8Wd73z"
      },
      "id": "4X4LMM8Wd73z"
    },
    {
      "cell_type": "code",
      "source": [
        "def clean_generated_text(text):\n",
        "    # Remove non-alphabetic characters and replace with spaces\n",
        "    cleaned_text = re.sub(r'[^a-zA-Z]', ' ', text)\n",
        "    # Split cleaned text into words\n",
        "    words = cleaned_text.split()\n",
        "    # Return the longest word (in case of multiple words) or an empty string if no words are present\n",
        "    return max(words, key=len) if words else \"\"\n",
        "\n",
        "\n",
        "def generate_predictions(model, tokenizer, test_dataset, batch_size, device):\n",
        "    predictions = []\n",
        "\n",
        "    for i in tqdm(range(0, len(test_dataset), batch_size)):\n",
        "        # Extract a batch of input data\n",
        "        batch = test_dataset[i:i + batch_size]\n",
        "        input_ids = batch['input_ids']\n",
        "        attention_mask = batch['attention_mask']\n",
        "\n",
        "        # Ensure input tensors are on the correct device (CPU or GPU)\n",
        "        input_ids = torch.tensor(input_ids).to(device)\n",
        "        attention_mask = torch.tensor(attention_mask).to(device)\n",
        "\n",
        "        with torch.no_grad():\n",
        "            # Generate predictions using the model\n",
        "            outputs = model.generate(\n",
        "                input_ids=input_ids,\n",
        "                attention_mask=attention_mask,\n",
        "            )\n",
        "\n",
        "        # Clean and decode the generated outputs\n",
        "        decoded_outputs = [clean_generated_text(tokenizer.decode(output, skip_special_tokens=True)) for output in\n",
        "                           outputs]\n",
        "\n",
        "        # Check for empty predictions and handle them\n",
        "        decoded_outputs = [output if output.strip() != \"\" else \"<no_prediction>\" for output in decoded_outputs]\n",
        "\n",
        "        # Extend the list of predictions\n",
        "        predictions.extend(decoded_outputs)\n",
        "\n",
        "    return predictions"
      ],
      "metadata": {
        "id": "0QEzKQz9bogT"
      },
      "id": "0QEzKQz9bogT",
      "execution_count": null,
      "outputs": []
    },
    {
      "cell_type": "markdown",
      "source": [
        "Now it's time to generate names."
      ],
      "metadata": {
        "id": "G3nWDeJogzeP"
      },
      "id": "G3nWDeJogzeP"
    },
    {
      "cell_type": "code",
      "source": [
        "# Generate predictions for a test dataset using the specified model and tokenizer.\n",
        "PRED_BATCH_SIZE = 8\n",
        "predictions = generate_predictions(model, tokenizer, test_dataset, PRED_BATCH_SIZE, device)\n",
        "\n",
        "# Saving predictions to a file for further analysis or evaluation.\n",
        "with open('predictions.txt', 'w') as file:\n",
        "    for prediction in predictions:\n",
        "        file.write(prediction + '\\n')"
      ],
      "metadata": {
        "colab": {
          "base_uri": "https://localhost:8080/"
        },
        "id": "nCZ863rpzubV",
        "outputId": "7e86d3c9-4ad0-4b74-ef56-5b139460a2e8"
      },
      "id": "nCZ863rpzubV",
      "execution_count": null,
      "outputs": [
        {
          "output_type": "stream",
          "name": "stderr",
          "text": [
            "100%|██████████| 500/500 [05:28<00:00,  1.52it/s]\n"
          ]
        }
      ]
    },
    {
      "cell_type": "markdown",
      "source": [
        "Finally, unfinetuned model evaluation."
      ],
      "metadata": {
        "id": "KRQAZRrwhL3x"
      },
      "id": "KRQAZRrwhL3x"
    },
    {
      "cell_type": "code",
      "source": [
        "# Reading predictions from the file\n",
        "with open('predictions.txt', 'r') as file:\n",
        "    predictions = file.read().splitlines()\n",
        "\n",
        "# Decoding labels with already defined tokenizer\n",
        "labels = [tokenizer.decode(label_ids, skip_special_tokens=True) for label_ids in test_dataset[\"labels\"]]\n",
        "\n",
        "# Show metrics evaluation\n",
        "evaluation_results(labels, predictions)"
      ],
      "metadata": {
        "colab": {
          "base_uri": "https://localhost:8080/"
        },
        "id": "8lsoYx0x0X6o",
        "outputId": "00bffc02-77da-4a22-df5a-6634a1eec69a"
      },
      "id": "8lsoYx0x0X6o",
      "execution_count": null,
      "outputs": [
        {
          "output_type": "stream",
          "name": "stdout",
          "text": [
            "Accuracy: 0.51\n",
            "ROUGE: 0.47\n",
            "Levenshtein Distance: 10.1075\n"
          ]
        },
        {
          "output_type": "stream",
          "name": "stderr",
          "text": [
            "<ipython-input-15-b10fd08ecd0a>:18: UserWarning: [W008] Evaluating Doc.similarity based on empty vectors.\n",
            "  similarity = nlp(ref).similarity(nlp(pred))\n"
          ]
        },
        {
          "output_type": "stream",
          "name": "stdout",
          "text": [
            "Semantic Similarity: 0.68\n"
          ]
        }
      ]
    },
    {
      "cell_type": "markdown",
      "metadata": {
        "id": "ffe2116e-dab3-4e8b-a36f-cb3c624cb959"
      },
      "source": [
        "## Model Finetuning: Training, Evaluation"
      ],
      "id": "ffe2116e-dab3-4e8b-a36f-cb3c624cb959"
    },
    {
      "cell_type": "markdown",
      "source": [
        "### Finetuning"
      ],
      "metadata": {
        "id": "t-1e-NEh0_FI"
      },
      "id": "t-1e-NEh0_FI"
    },
    {
      "cell_type": "markdown",
      "source": [
        "The Seq2SeqTrainingArguments is a configuration object used in the initialization of the trainer for sequence-to-sequence (seq2seq) models. It specifies various training settings and hyperparameters for the training process. Here's a description of some of the key arguments used in this configuration:\n",
        "\n",
        "* **model_dir**: The directory where model checkpoints and logs will be saved.\n",
        "\n",
        "* **evaluation_strategy**: Specifies when evaluation should be performed during training. In this case, it's set to \"steps,\" meaning evaluation will be performed at regular step intervals.\n",
        "\n",
        "* **eval_steps**: The number of steps between each evaluation. For setting this and two next parameters the number of total iterations can be used. To calculate the total number of iterations, divide the length of the training dataset by the batch size, then multiply the result by the number of training epochs (specified in the `num_train_epochs` parameter).\n",
        "\n",
        "* **logging_strategy**: Specifies when training logs should be generated. Also set to \"steps.\"\n",
        "\n",
        "* **logging_steps**: The number of steps between each logging of training progress.\n",
        "\n",
        "* **save_strategy**: Determines when model checkpoints should be saved. Here, it's set to \"steps.\"\n",
        "\n",
        "* **save_steps**: The number of steps between each model checkpoint save.\n",
        "\n",
        "* **learning_rate**: The learning rate used in training.\n",
        "\n",
        "* **per_device_train_batch_size**: The batch size per device for training data. Larger values can lead to faster training but require more memory.\n",
        "\n",
        "* **per_device_eval_batch_size**: The batch size per device for evaluation data.\n",
        "\n",
        "* **weight_decay**: A regularization term to prevent overfitting.\n",
        "\n",
        "* **save_total_limit**: Limits the total number of saved checkpoints.\n",
        "\n",
        "* **num_train_epochs**: The number of training epochs.\n",
        "\n",
        "* **predict_with_generate**: Indicates that generation should be used for predictions.\n",
        "\n",
        "* **fp16**: Enables mixed-precision training, which is faster and uses less memory on GPUs. It's set to True, meaning it will be used when training on CUDA-compatible devices.\n",
        "\n",
        "* **load_best_model_at_end**: Specifies whether the best model checkpoint should be loaded at the end of training.\n",
        "\n",
        "* **metric_for_best_model**: The evaluation metric used to determine the best model checkpoint. Here, it's set to \"rouge1,\" indicating ROUGE-1 score.\n",
        "\n",
        "* **report_to**: Specifies where training metrics should be reported. In this case, it's set to \"tensorboard,\" which means TensorBoard will be used for visualization and monitoring during training.\n",
        "\n",
        "Overall, Seq2SeqTrainingArguments is a crucial component for configuring and customizing the training process for sequence-to-sequence models. It allows you to fine-tune various aspects of training and adapt them to your specific use case and hardware resources. I have chosen very standard parameters."
      ],
      "metadata": {
        "id": "UoMUi_OEiUzM"
      },
      "id": "UoMUi_OEiUzM"
    },
    {
      "cell_type": "code",
      "execution_count": null,
      "metadata": {
        "id": "12ec8283-05a0-4aa9-a433-1b2c1a7c6749"
      },
      "outputs": [],
      "source": [
        "# Model Name and Directory\n",
        "model_name = \"t5p-base-medium-function-name-generation\"\n",
        "model_dir = f\"/models_run/{model_name}\"\n",
        "\n",
        "# Batch Size\n",
        "TRAINER_BATCH_SIZE = 6\n",
        "\n",
        "# Seq2SeqTrainingArguments Configuration\n",
        "args = Seq2SeqTrainingArguments(\n",
        "    model_dir,\n",
        "    evaluation_strategy=\"steps\",\n",
        "    eval_steps=11000,  # Adjust based on how often you want to evaluate\n",
        "    logging_strategy=\"steps\",\n",
        "    logging_steps=11000,  # Adjust based on how often you want to log\n",
        "    save_strategy=\"steps\",\n",
        "    save_steps=11000,  # Saves less frequently\n",
        "    learning_rate=4e-5,\n",
        "    per_device_train_batch_size=TRAINER_BATCH_SIZE,  # Increase if your hardware allows\n",
        "    per_device_eval_batch_size=TRAINER_BATCH_SIZE,  # Increase if your hardware allows\n",
        "    weight_decay=0.01,\n",
        "    save_total_limit=3,\n",
        "    num_train_epochs=2,\n",
        "    predict_with_generate=True,\n",
        "    fp16=True,  # Enables mixed-precision training with CUDA-compatible devices\n",
        "    load_best_model_at_end=True,\n",
        "    metric_for_best_model=\"rouge1\",\n",
        "    report_to=\"tensorboard\"\n",
        ")"
      ],
      "id": "12ec8283-05a0-4aa9-a433-1b2c1a7c6749"
    },
    {
      "cell_type": "markdown",
      "source": [
        "Data collator is used to preprocess and batch the training data for the Seq2Seq trainer. It handles tasks such as padding, truncation, and tokenization required for sequence-to-sequence models. It ensures that the input and target sequences are appropriately formatted for training."
      ],
      "metadata": {
        "id": "_ACcE2LgjQK5"
      },
      "id": "_ACcE2LgjQK5"
    },
    {
      "cell_type": "code",
      "execution_count": null,
      "metadata": {
        "id": "0fb4a496-a29d-4853-a3ea-219b35d33ea5"
      },
      "outputs": [],
      "source": [
        "data_collator = DataCollatorForSeq2Seq(tokenizer)"
      ],
      "id": "0fb4a496-a29d-4853-a3ea-219b35d33ea5"
    },
    {
      "cell_type": "markdown",
      "source": [
        "The compute_metrics function is defined to calculate evaluation metrics for generated text. It takes evaluation predictions (eval_preds) as input, which consists of predicted and true labels. The function first decodes the predictions and labels, considering special tokens. Then, it formats the text for ROUGE evaluation, ensuring proper newline separation between sentences.\n",
        "Finally, the `rouge_metric.compute` method is used to calculate ROUGE scores by comparing the decoded predictions with the decoded labels. The `use_stemmer` parameter is set to True, indicating that stemming should be used in the ROUGE calculation.\n",
        "Both the Rouge Metric and the `compute_metrics` function are necessary components for the Seq2Seq trainer to evaluate the model's performance during training."
      ],
      "metadata": {
        "id": "y6076ZEmjvHi"
      },
      "id": "y6076ZEmjvHi"
    },
    {
      "cell_type": "code",
      "execution_count": null,
      "metadata": {
        "id": "6c9309ef-208c-4193-8fcc-b033c37e31ba"
      },
      "outputs": [],
      "source": [
        "def compute_metrics(eval_preds):\n",
        "    rouge_metric = evaluate.load(\"rouge\")\n",
        "    preds, labels = eval_preds\n",
        "\n",
        "    # decode preds and labels\n",
        "    labels = np.where(labels != -100, labels, tokenizer.pad_token_id)\n",
        "    decoded_preds = tokenizer.batch_decode(preds, skip_special_tokens=True)\n",
        "    decoded_labels = tokenizer.batch_decode(labels, skip_special_tokens=True)\n",
        "\n",
        "    # rougeLSum expects newline after each sentence\n",
        "    decoded_preds = [\"\\n\".join(pred) for pred in decoded_preds]\n",
        "    decoded_labels = [\"\\n\".join(label) for label in decoded_labels]\n",
        "\n",
        "    result = rouge_metric.compute(predictions=decoded_preds, references=decoded_labels, use_stemmer=True)\n",
        "    return result"
      ],
      "id": "6c9309ef-208c-4193-8fcc-b033c37e31ba"
    },
    {
      "cell_type": "markdown",
      "source": [
        " In this code block, I define a function `model_init()` that returns an untrained model to be used for training. I then initialize the `Seq2SeqTrainer` object (trainer) with various components and configurations. All the components and settings defined in the previous sections are now combined to set up the training process. The `model_init()` function initializes the model, and the args, `train_dataset`, `validation_dataset`, `data_collator`, `tokenizer`, and `compute_metrics` are all configured to facilitate the training process.\n",
        "\n",
        "\n",
        "\n",
        "\n",
        "\n",
        "\n"
      ],
      "metadata": {
        "id": "n-jOZ5N5krQ_"
      },
      "id": "n-jOZ5N5krQ_"
    },
    {
      "cell_type": "code",
      "execution_count": null,
      "metadata": {
        "id": "def6205d-7dac-40b0-893e-0597e10245c2"
      },
      "outputs": [],
      "source": [
        "# Function that returns an untrained model to be trained\n",
        "def model_init():\n",
        "    model = AutoModelForSeq2SeqLM.from_pretrained(checkpoint)\n",
        "    model = model.to('cuda')\n",
        "    return model\n",
        "\n",
        "\n",
        "# Initializing the Seq2SeqTrainer\n",
        "trainer = Seq2SeqTrainer(\n",
        "    model_init=model_init,\n",
        "    args=args,\n",
        "    train_dataset=train_dataset,\n",
        "    eval_dataset=validation_dataset,\n",
        "    data_collator=data_collator,\n",
        "    tokenizer=tokenizer,\n",
        "    compute_metrics=compute_metrics\n",
        ")"
      ],
      "id": "def6205d-7dac-40b0-893e-0597e10245c2"
    },
    {
      "cell_type": "markdown",
      "source": [
        "Finally, finetuning."
      ],
      "metadata": {
        "id": "aJJjnpN0lOXT"
      },
      "id": "aJJjnpN0lOXT"
    },
    {
      "cell_type": "code",
      "execution_count": null,
      "metadata": {
        "id": "58e9d3db-706a-441d-9771-62bd6182cc83"
      },
      "outputs": [],
      "source": [
        "trainer.train()"
      ],
      "id": "58e9d3db-706a-441d-9771-62bd6182cc83"
    },
    {
      "cell_type": "markdown",
      "source": [
        "\n",
        "In the end, saving the model is essential."
      ],
      "metadata": {
        "id": "nKJvpwx0lR7N"
      },
      "id": "nKJvpwx0lR7N"
    },
    {
      "cell_type": "code",
      "source": [
        "trainer.save_model(\"/model\")"
      ],
      "metadata": {
        "id": "oG4hK2BUTacK"
      },
      "id": "oG4hK2BUTacK",
      "execution_count": null,
      "outputs": []
    },
    {
      "cell_type": "markdown",
      "source": [
        "### Evaluation"
      ],
      "metadata": {
        "id": "fX5AfhQM1GfR"
      },
      "id": "fX5AfhQM1GfR"
    },
    {
      "cell_type": "markdown",
      "source": [
        "The entire process is identical to testing the unfine-tuned model, with the exception of using the fine-tuned model and tokenizer for initialization."
      ],
      "metadata": {
        "id": "CiPCkCwDls13"
      },
      "id": "CiPCkCwDls13"
    },
    {
      "cell_type": "code",
      "execution_count": null,
      "metadata": {
        "id": "32a7e9d8-5314-4093-9319-6cd60d0620a9",
        "colab": {
          "base_uri": "https://localhost:8080/"
        },
        "outputId": "c69e071b-20f4-47de-81ab-e35e528dfe25"
      },
      "outputs": [
        {
          "output_type": "stream",
          "name": "stderr",
          "text": [
            "100%|██████████| 500/500 [02:37<00:00,  3.18it/s]\n"
          ]
        }
      ],
      "source": [
        "# Load the fine-tuned model and tokenizer\n",
        "model_dir = '/model'\n",
        "fine_tokenizer = AutoTokenizer.from_pretrained(model_dir)\n",
        "fine_model = AutoModelForSeq2SeqLM.from_pretrained(model_dir)\n",
        "\n",
        "# Move the fine-tuned model to the specified device\n",
        "fine_model.to(device)\n",
        "\n",
        "# Generate predictions using the fine-tuned model\n",
        "finetuned_predictions = generate_predictions(fine_model, fine_tokenizer, test_dataset, PRED_BATCH_SIZE, device)\n",
        "\n",
        "# Saving predictions to a file\n",
        "with open('predictions_finetuned.txt', 'w') as file:\n",
        "    for prediction in finetuned_predictions:\n",
        "        file.write(prediction + '\\n')"
      ],
      "id": "32a7e9d8-5314-4093-9319-6cd60d0620a9"
    },
    {
      "cell_type": "code",
      "source": [
        "# Reading predictions from the file\n",
        "with open('predictions_finetuned.txt', 'r') as file:\n",
        "    finetuned_predictions = file.read().splitlines()\n",
        "\n",
        "# Show metrics evaluation for finetuned_predictions\n",
        "evaluation_results(labels, finetuned_predictions)"
      ],
      "metadata": {
        "id": "gPw9PPWqVCxZ",
        "colab": {
          "base_uri": "https://localhost:8080/"
        },
        "outputId": "b58e380e-149a-4155-df72-6e2f7e5c7852"
      },
      "id": "gPw9PPWqVCxZ",
      "execution_count": null,
      "outputs": [
        {
          "output_type": "stream",
          "name": "stdout",
          "text": [
            "Accuracy: 0.69\n",
            "ROUGE: 0.66\n",
            "Levenshtein Distance: 6.285\n"
          ]
        },
        {
          "output_type": "stream",
          "name": "stderr",
          "text": [
            "<ipython-input-15-b10fd08ecd0a>:18: UserWarning: [W008] Evaluating Doc.similarity based on empty vectors.\n",
            "  similarity = nlp(ref).similarity(nlp(pred))\n"
          ]
        },
        {
          "output_type": "stream",
          "name": "stdout",
          "text": [
            "Semantic Similarity: 0.81\n"
          ]
        }
      ]
    },
    {
      "cell_type": "markdown",
      "source": [
        "## Conclusion: Summary of the Work, Evaluation, Problems and Future Steps"
      ],
      "metadata": {
        "id": "Y8dLAjdgl_ZE"
      },
      "id": "Y8dLAjdgl_ZE"
    },
    {
      "cell_type": "markdown",
      "source": [
        "### Summary of the Work"
      ],
      "metadata": {
        "id": "ZRrHDyP5mo_c"
      },
      "id": "ZRrHDyP5mo_c"
    },
    {
      "cell_type": "markdown",
      "source": [
        "In this assignment, I worked on the method name prediction task, which involved the following key steps:\n",
        "\n",
        "1. **Introduction of CodeT5+**\n",
        "\n",
        "2. **Data Collection**:\n",
        "\n",
        "I selected a large open-source project, IntelliJ Community, as the source of code data.\n",
        "I extracted all the methods from this project to create a dataset for the task.\n",
        "\n",
        "3. **Data Preprocessing**:\n",
        "\n",
        "I performed data preprocessing, which included tasks like cleaning and formatting the extracted code to prepare it for input into the model.\n",
        "\n",
        "4. **Metric Definition**:\n",
        "\n",
        "To evaluate the model's performance, I defined appropriate metrics. These metrics were used to assess the quality of the generated method names compared to the ground truth.\n",
        "\n",
        "5. **Testing of Unfinetuned Model**:\n",
        "\n",
        "I initially tested the CodeT5+ model without fine-tuning to establish a baseline for its performance.\n",
        "This allowed me to understand the model's initial capabilities and limitations.\n",
        "\n",
        "6. **Fine-Tuning Process**:\n",
        "\n",
        "To improve the model's performance on the method name prediction task, I fine-tuned it using the collected dataset.\n",
        "Fine-tuning involved training the model on the specific data to adapt it to the task's requirements.\n",
        "\n",
        "7. **Testing of Finetuned Model**:\n",
        "\n",
        "After fine-tuning, I re-evaluated the model's performance to observe the changes in quality.\n",
        "I compared the results with those obtained from the unfinetuned model to assess the impact of fine-tuning.\n",
        "Throughout this assignment, I aimed to enhance the model's ability to predict method names accurately and efficiently, demonstrating the iterative nature of the model development process."
      ],
      "metadata": {
        "id": "TgOda000nh9t"
      },
      "id": "TgOda000nh9t"
    },
    {
      "cell_type": "markdown",
      "source": [
        "### Evaluation"
      ],
      "metadata": {
        "id": "LxpIEK1on20k"
      },
      "id": "LxpIEK1on20k"
    },
    {
      "cell_type": "markdown",
      "source": [
        "To evaluate the performance of the unfinetuned codet5+ model and its finetuned version, we look at various metrics such as Accuracy, ROUGE, Levenshtein Distance, and Semantic Similarity. These metrics give us an understanding of how well the model is performing in terms of generating correct predictions (Accuracy), capturing the overlap with the reference text (ROUGE), the number of edits required to change the prediction into the reference (Levenshtein Distance), and the closeness in meaning between the prediction and the reference (Semantic Similarity).\n",
        "\n",
        "The unfinetuned model has the following evaluation metrics:\n",
        "\n",
        "* Accuracy: 0.51\n",
        "* ROUGE: 0.47\n",
        "* Levenshtein Distance: 10.1075\n",
        "* Semantic Similarity: 0.68\n",
        "\n",
        "After finetuning, the model shows these results:\n",
        "\n",
        "* Accuracy: 0.70\n",
        "* ROUGE: 0.67\n",
        "* Levenshtein Distance: 6.18975\n",
        "* Semantic Similarity: 0.82\n",
        "\n",
        "From these results, we can conclude that finetuning has significantly improved the performance of the codet5+ model. The accuracy has increased from 0.51 to 0.70, indicating that the model makes correct predictions more frequently after finetuning. The ROUGE score has also increased, suggesting that the overlap between the model's predictions and the reference text is better after finetuning.\n",
        "\n",
        "The decrease in the Levenshtein Distance from 10.1075 to 6.18975 shows that the predictions made by the finetuned model are closer to the reference, requiring fewer edits to match exactly. Finally, the increase in Semantic Similarity from 0.68 to 0.82 indicates that the meaning of the predictions is much closer to the meaning of the reference text after finetuning.\n",
        "\n",
        "Overall, finetuning has had a positive effect on the model's ability to generate predictions that are more accurate, more aligned with the reference, and semantically similar to the expected output."
      ],
      "metadata": {
        "id": "UcqoOrtgvHc8"
      },
      "id": "UcqoOrtgvHc8"
    },
    {
      "cell_type": "markdown",
      "source": [
        "### Problems and Future Steps"
      ],
      "metadata": {
        "id": "ycIgdQ_9vgy2"
      },
      "id": "ycIgdQ_9vgy2"
    },
    {
      "cell_type": "markdown",
      "source": [
        "#### Problems:"
      ],
      "metadata": {
        "id": "9ShgApIRyHte"
      },
      "id": "9ShgApIRyHte"
    },
    {
      "cell_type": "markdown",
      "source": [
        "* **Resource Constraints**: Effective utilization of cloud resources necessitates strategic budgeting. Additional resources are required to support models with a higher number of parameters and larger datasets for training, evaluation, and testing, as well as for the collection of more data.\n",
        "\n",
        "* **Model Imperfection**: The model's initial flaws, such as the duplication of outputs and inappropriate name generation for tasks, can adversely affect its performance.\n",
        "\n",
        "* **Abstract Predictions**: The model has difficulty predicting names for abstract methods and constructors, a common issue in code generation tasks."
      ],
      "metadata": {
        "id": "0NMFGcHqzowP"
      },
      "id": "0NMFGcHqzowP"
    },
    {
      "cell_type": "markdown",
      "source": [
        "\n",
        "#### Further Steps:"
      ],
      "metadata": {
        "id": "4K83Cv2wzwlC"
      },
      "id": "4K83Cv2wzwlC"
    },
    {
      "cell_type": "markdown",
      "source": [
        "* **Data Cleaning Model**: Developing a model specifically for data cleaning is advantageous. Care must be taken to ensure this model does not introduce its own biases or errors.\n",
        "\n",
        "* **Enhanced Prediction Mechanisms**: Improving prediction accuracy by detecting constructors and their corresponding classes. A context-aware system that comprehends code structure, including recognizing annotations like 'override' and 'deprecated', could enhance the accuracy in predicting method names and functionalities.\n",
        "\n",
        "* **Active Learning**: Implementing an active learning loop in production, where the model continuously learns from new data, particularly from instances it currently misinterprets, can be a cost-effective method for ongoing improvement.\n",
        "\n",
        "* **Diverse Learning Strategies**: Categorizing methods based on various criteria can be beneficial. These criteria might include the length of the code (such as one-line, multi-line, or beyond a certain maximum length), the purpose of the methods (like test, interface, abstract, etc.), or the type of identifiers used in the methods."
      ],
      "metadata": {
        "id": "904bpHYtz0NK"
      },
      "id": "904bpHYtz0NK"
    },
    {
      "cell_type": "code",
      "source": [],
      "metadata": {
        "id": "43QDb6RE33Dv"
      },
      "id": "43QDb6RE33Dv",
      "execution_count": null,
      "outputs": []
    }
  ],
  "metadata": {
    "accelerator": "GPU",
    "colab": {
      "provenance": [],
      "gpuType": "V100"
    },
    "kernelspec": {
      "display_name": "Python 3",
      "name": "python3"
    },
    "language_info": {
      "codemirror_mode": {
        "name": "ipython",
        "version": 3
      },
      "file_extension": ".py",
      "mimetype": "text/x-python",
      "name": "python",
      "nbconvert_exporter": "python",
      "pygments_lexer": "ipython3",
      "version": "3.11.4"
    },
    "widgets": {
      "application/vnd.jupyter.widget-state+json": {
        "9ad824f2c831446c8801b698e3d9b6cf": {
          "model_module": "@jupyter-widgets/controls",
          "model_name": "HBoxModel",
          "model_module_version": "1.5.0",
          "state": {
            "_dom_classes": [],
            "_model_module": "@jupyter-widgets/controls",
            "_model_module_version": "1.5.0",
            "_model_name": "HBoxModel",
            "_view_count": null,
            "_view_module": "@jupyter-widgets/controls",
            "_view_module_version": "1.5.0",
            "_view_name": "HBoxView",
            "box_style": "",
            "children": [
              "IPY_MODEL_4727fc0cb1ba499ea04176334be41891",
              "IPY_MODEL_c1074713ee5347db8a66ff02680da688",
              "IPY_MODEL_f939084f93604f41b30d8f7b92d6d909"
            ],
            "layout": "IPY_MODEL_9cc0a886d80f4293a935c10206ba2006"
          }
        },
        "4727fc0cb1ba499ea04176334be41891": {
          "model_module": "@jupyter-widgets/controls",
          "model_name": "HTMLModel",
          "model_module_version": "1.5.0",
          "state": {
            "_dom_classes": [],
            "_model_module": "@jupyter-widgets/controls",
            "_model_module_version": "1.5.0",
            "_model_name": "HTMLModel",
            "_view_count": null,
            "_view_module": "@jupyter-widgets/controls",
            "_view_module_version": "1.5.0",
            "_view_name": "HTMLView",
            "description": "",
            "description_tooltip": null,
            "layout": "IPY_MODEL_4b424a212cce4811b5d2a21cbca545d8",
            "placeholder": "​",
            "style": "IPY_MODEL_3f4c3dea12da4323802dff9fd5dad338",
            "value": "tokenizer_config.json: 100%"
          }
        },
        "c1074713ee5347db8a66ff02680da688": {
          "model_module": "@jupyter-widgets/controls",
          "model_name": "FloatProgressModel",
          "model_module_version": "1.5.0",
          "state": {
            "_dom_classes": [],
            "_model_module": "@jupyter-widgets/controls",
            "_model_module_version": "1.5.0",
            "_model_name": "FloatProgressModel",
            "_view_count": null,
            "_view_module": "@jupyter-widgets/controls",
            "_view_module_version": "1.5.0",
            "_view_name": "ProgressView",
            "bar_style": "success",
            "description": "",
            "description_tooltip": null,
            "layout": "IPY_MODEL_4b3e08c6a0b14df4b2ab436b163d2c05",
            "max": 1477,
            "min": 0,
            "orientation": "horizontal",
            "style": "IPY_MODEL_5f993f02d8bd410ea622c2ddd85beeb1",
            "value": 1477
          }
        },
        "f939084f93604f41b30d8f7b92d6d909": {
          "model_module": "@jupyter-widgets/controls",
          "model_name": "HTMLModel",
          "model_module_version": "1.5.0",
          "state": {
            "_dom_classes": [],
            "_model_module": "@jupyter-widgets/controls",
            "_model_module_version": "1.5.0",
            "_model_name": "HTMLModel",
            "_view_count": null,
            "_view_module": "@jupyter-widgets/controls",
            "_view_module_version": "1.5.0",
            "_view_name": "HTMLView",
            "description": "",
            "description_tooltip": null,
            "layout": "IPY_MODEL_8d7154c74e1f401ca27603b253b85e06",
            "placeholder": "​",
            "style": "IPY_MODEL_45f2982b1d25476eb0b04846308c5103",
            "value": " 1.48k/1.48k [00:00&lt;00:00, 21.9kB/s]"
          }
        },
        "9cc0a886d80f4293a935c10206ba2006": {
          "model_module": "@jupyter-widgets/base",
          "model_name": "LayoutModel",
          "model_module_version": "1.2.0",
          "state": {
            "_model_module": "@jupyter-widgets/base",
            "_model_module_version": "1.2.0",
            "_model_name": "LayoutModel",
            "_view_count": null,
            "_view_module": "@jupyter-widgets/base",
            "_view_module_version": "1.2.0",
            "_view_name": "LayoutView",
            "align_content": null,
            "align_items": null,
            "align_self": null,
            "border": null,
            "bottom": null,
            "display": null,
            "flex": null,
            "flex_flow": null,
            "grid_area": null,
            "grid_auto_columns": null,
            "grid_auto_flow": null,
            "grid_auto_rows": null,
            "grid_column": null,
            "grid_gap": null,
            "grid_row": null,
            "grid_template_areas": null,
            "grid_template_columns": null,
            "grid_template_rows": null,
            "height": null,
            "justify_content": null,
            "justify_items": null,
            "left": null,
            "margin": null,
            "max_height": null,
            "max_width": null,
            "min_height": null,
            "min_width": null,
            "object_fit": null,
            "object_position": null,
            "order": null,
            "overflow": null,
            "overflow_x": null,
            "overflow_y": null,
            "padding": null,
            "right": null,
            "top": null,
            "visibility": null,
            "width": null
          }
        },
        "4b424a212cce4811b5d2a21cbca545d8": {
          "model_module": "@jupyter-widgets/base",
          "model_name": "LayoutModel",
          "model_module_version": "1.2.0",
          "state": {
            "_model_module": "@jupyter-widgets/base",
            "_model_module_version": "1.2.0",
            "_model_name": "LayoutModel",
            "_view_count": null,
            "_view_module": "@jupyter-widgets/base",
            "_view_module_version": "1.2.0",
            "_view_name": "LayoutView",
            "align_content": null,
            "align_items": null,
            "align_self": null,
            "border": null,
            "bottom": null,
            "display": null,
            "flex": null,
            "flex_flow": null,
            "grid_area": null,
            "grid_auto_columns": null,
            "grid_auto_flow": null,
            "grid_auto_rows": null,
            "grid_column": null,
            "grid_gap": null,
            "grid_row": null,
            "grid_template_areas": null,
            "grid_template_columns": null,
            "grid_template_rows": null,
            "height": null,
            "justify_content": null,
            "justify_items": null,
            "left": null,
            "margin": null,
            "max_height": null,
            "max_width": null,
            "min_height": null,
            "min_width": null,
            "object_fit": null,
            "object_position": null,
            "order": null,
            "overflow": null,
            "overflow_x": null,
            "overflow_y": null,
            "padding": null,
            "right": null,
            "top": null,
            "visibility": null,
            "width": null
          }
        },
        "3f4c3dea12da4323802dff9fd5dad338": {
          "model_module": "@jupyter-widgets/controls",
          "model_name": "DescriptionStyleModel",
          "model_module_version": "1.5.0",
          "state": {
            "_model_module": "@jupyter-widgets/controls",
            "_model_module_version": "1.5.0",
            "_model_name": "DescriptionStyleModel",
            "_view_count": null,
            "_view_module": "@jupyter-widgets/base",
            "_view_module_version": "1.2.0",
            "_view_name": "StyleView",
            "description_width": ""
          }
        },
        "4b3e08c6a0b14df4b2ab436b163d2c05": {
          "model_module": "@jupyter-widgets/base",
          "model_name": "LayoutModel",
          "model_module_version": "1.2.0",
          "state": {
            "_model_module": "@jupyter-widgets/base",
            "_model_module_version": "1.2.0",
            "_model_name": "LayoutModel",
            "_view_count": null,
            "_view_module": "@jupyter-widgets/base",
            "_view_module_version": "1.2.0",
            "_view_name": "LayoutView",
            "align_content": null,
            "align_items": null,
            "align_self": null,
            "border": null,
            "bottom": null,
            "display": null,
            "flex": null,
            "flex_flow": null,
            "grid_area": null,
            "grid_auto_columns": null,
            "grid_auto_flow": null,
            "grid_auto_rows": null,
            "grid_column": null,
            "grid_gap": null,
            "grid_row": null,
            "grid_template_areas": null,
            "grid_template_columns": null,
            "grid_template_rows": null,
            "height": null,
            "justify_content": null,
            "justify_items": null,
            "left": null,
            "margin": null,
            "max_height": null,
            "max_width": null,
            "min_height": null,
            "min_width": null,
            "object_fit": null,
            "object_position": null,
            "order": null,
            "overflow": null,
            "overflow_x": null,
            "overflow_y": null,
            "padding": null,
            "right": null,
            "top": null,
            "visibility": null,
            "width": null
          }
        },
        "5f993f02d8bd410ea622c2ddd85beeb1": {
          "model_module": "@jupyter-widgets/controls",
          "model_name": "ProgressStyleModel",
          "model_module_version": "1.5.0",
          "state": {
            "_model_module": "@jupyter-widgets/controls",
            "_model_module_version": "1.5.0",
            "_model_name": "ProgressStyleModel",
            "_view_count": null,
            "_view_module": "@jupyter-widgets/base",
            "_view_module_version": "1.2.0",
            "_view_name": "StyleView",
            "bar_color": null,
            "description_width": ""
          }
        },
        "8d7154c74e1f401ca27603b253b85e06": {
          "model_module": "@jupyter-widgets/base",
          "model_name": "LayoutModel",
          "model_module_version": "1.2.0",
          "state": {
            "_model_module": "@jupyter-widgets/base",
            "_model_module_version": "1.2.0",
            "_model_name": "LayoutModel",
            "_view_count": null,
            "_view_module": "@jupyter-widgets/base",
            "_view_module_version": "1.2.0",
            "_view_name": "LayoutView",
            "align_content": null,
            "align_items": null,
            "align_self": null,
            "border": null,
            "bottom": null,
            "display": null,
            "flex": null,
            "flex_flow": null,
            "grid_area": null,
            "grid_auto_columns": null,
            "grid_auto_flow": null,
            "grid_auto_rows": null,
            "grid_column": null,
            "grid_gap": null,
            "grid_row": null,
            "grid_template_areas": null,
            "grid_template_columns": null,
            "grid_template_rows": null,
            "height": null,
            "justify_content": null,
            "justify_items": null,
            "left": null,
            "margin": null,
            "max_height": null,
            "max_width": null,
            "min_height": null,
            "min_width": null,
            "object_fit": null,
            "object_position": null,
            "order": null,
            "overflow": null,
            "overflow_x": null,
            "overflow_y": null,
            "padding": null,
            "right": null,
            "top": null,
            "visibility": null,
            "width": null
          }
        },
        "45f2982b1d25476eb0b04846308c5103": {
          "model_module": "@jupyter-widgets/controls",
          "model_name": "DescriptionStyleModel",
          "model_module_version": "1.5.0",
          "state": {
            "_model_module": "@jupyter-widgets/controls",
            "_model_module_version": "1.5.0",
            "_model_name": "DescriptionStyleModel",
            "_view_count": null,
            "_view_module": "@jupyter-widgets/base",
            "_view_module_version": "1.2.0",
            "_view_name": "StyleView",
            "description_width": ""
          }
        },
        "90dc01f2eaf640559ff46c3b3f65877e": {
          "model_module": "@jupyter-widgets/controls",
          "model_name": "HBoxModel",
          "model_module_version": "1.5.0",
          "state": {
            "_dom_classes": [],
            "_model_module": "@jupyter-widgets/controls",
            "_model_module_version": "1.5.0",
            "_model_name": "HBoxModel",
            "_view_count": null,
            "_view_module": "@jupyter-widgets/controls",
            "_view_module_version": "1.5.0",
            "_view_name": "HBoxView",
            "box_style": "",
            "children": [
              "IPY_MODEL_206697256ed74cee9886a7c113e4bdb2",
              "IPY_MODEL_dda341ef0bdb4d65bd2ed60658144afe",
              "IPY_MODEL_febd5f1be5fa4a19b422000a1c124d89"
            ],
            "layout": "IPY_MODEL_25c4e295fb4f476fb36b3d8fbd02af3c"
          }
        },
        "206697256ed74cee9886a7c113e4bdb2": {
          "model_module": "@jupyter-widgets/controls",
          "model_name": "HTMLModel",
          "model_module_version": "1.5.0",
          "state": {
            "_dom_classes": [],
            "_model_module": "@jupyter-widgets/controls",
            "_model_module_version": "1.5.0",
            "_model_name": "HTMLModel",
            "_view_count": null,
            "_view_module": "@jupyter-widgets/controls",
            "_view_module_version": "1.5.0",
            "_view_name": "HTMLView",
            "description": "",
            "description_tooltip": null,
            "layout": "IPY_MODEL_763f55d6a59249af90958ec0cb16edd4",
            "placeholder": "​",
            "style": "IPY_MODEL_bd8a9e76ff43463f8e884b95e822bdb1",
            "value": "vocab.json: 100%"
          }
        },
        "dda341ef0bdb4d65bd2ed60658144afe": {
          "model_module": "@jupyter-widgets/controls",
          "model_name": "FloatProgressModel",
          "model_module_version": "1.5.0",
          "state": {
            "_dom_classes": [],
            "_model_module": "@jupyter-widgets/controls",
            "_model_module_version": "1.5.0",
            "_model_name": "FloatProgressModel",
            "_view_count": null,
            "_view_module": "@jupyter-widgets/controls",
            "_view_module_version": "1.5.0",
            "_view_name": "ProgressView",
            "bar_style": "success",
            "description": "",
            "description_tooltip": null,
            "layout": "IPY_MODEL_af90ba85a6004cc08485e243e86e551c",
            "max": 703051,
            "min": 0,
            "orientation": "horizontal",
            "style": "IPY_MODEL_e7fc235d203f4565b25c47d742a272f1",
            "value": 703051
          }
        },
        "febd5f1be5fa4a19b422000a1c124d89": {
          "model_module": "@jupyter-widgets/controls",
          "model_name": "HTMLModel",
          "model_module_version": "1.5.0",
          "state": {
            "_dom_classes": [],
            "_model_module": "@jupyter-widgets/controls",
            "_model_module_version": "1.5.0",
            "_model_name": "HTMLModel",
            "_view_count": null,
            "_view_module": "@jupyter-widgets/controls",
            "_view_module_version": "1.5.0",
            "_view_name": "HTMLView",
            "description": "",
            "description_tooltip": null,
            "layout": "IPY_MODEL_9858331f97a54107a4706344fa3a7c5a",
            "placeholder": "​",
            "style": "IPY_MODEL_2c4d2c683e8343dd989237cdb2d7afbf",
            "value": " 703k/703k [00:00&lt;00:00, 5.24MB/s]"
          }
        },
        "25c4e295fb4f476fb36b3d8fbd02af3c": {
          "model_module": "@jupyter-widgets/base",
          "model_name": "LayoutModel",
          "model_module_version": "1.2.0",
          "state": {
            "_model_module": "@jupyter-widgets/base",
            "_model_module_version": "1.2.0",
            "_model_name": "LayoutModel",
            "_view_count": null,
            "_view_module": "@jupyter-widgets/base",
            "_view_module_version": "1.2.0",
            "_view_name": "LayoutView",
            "align_content": null,
            "align_items": null,
            "align_self": null,
            "border": null,
            "bottom": null,
            "display": null,
            "flex": null,
            "flex_flow": null,
            "grid_area": null,
            "grid_auto_columns": null,
            "grid_auto_flow": null,
            "grid_auto_rows": null,
            "grid_column": null,
            "grid_gap": null,
            "grid_row": null,
            "grid_template_areas": null,
            "grid_template_columns": null,
            "grid_template_rows": null,
            "height": null,
            "justify_content": null,
            "justify_items": null,
            "left": null,
            "margin": null,
            "max_height": null,
            "max_width": null,
            "min_height": null,
            "min_width": null,
            "object_fit": null,
            "object_position": null,
            "order": null,
            "overflow": null,
            "overflow_x": null,
            "overflow_y": null,
            "padding": null,
            "right": null,
            "top": null,
            "visibility": null,
            "width": null
          }
        },
        "763f55d6a59249af90958ec0cb16edd4": {
          "model_module": "@jupyter-widgets/base",
          "model_name": "LayoutModel",
          "model_module_version": "1.2.0",
          "state": {
            "_model_module": "@jupyter-widgets/base",
            "_model_module_version": "1.2.0",
            "_model_name": "LayoutModel",
            "_view_count": null,
            "_view_module": "@jupyter-widgets/base",
            "_view_module_version": "1.2.0",
            "_view_name": "LayoutView",
            "align_content": null,
            "align_items": null,
            "align_self": null,
            "border": null,
            "bottom": null,
            "display": null,
            "flex": null,
            "flex_flow": null,
            "grid_area": null,
            "grid_auto_columns": null,
            "grid_auto_flow": null,
            "grid_auto_rows": null,
            "grid_column": null,
            "grid_gap": null,
            "grid_row": null,
            "grid_template_areas": null,
            "grid_template_columns": null,
            "grid_template_rows": null,
            "height": null,
            "justify_content": null,
            "justify_items": null,
            "left": null,
            "margin": null,
            "max_height": null,
            "max_width": null,
            "min_height": null,
            "min_width": null,
            "object_fit": null,
            "object_position": null,
            "order": null,
            "overflow": null,
            "overflow_x": null,
            "overflow_y": null,
            "padding": null,
            "right": null,
            "top": null,
            "visibility": null,
            "width": null
          }
        },
        "bd8a9e76ff43463f8e884b95e822bdb1": {
          "model_module": "@jupyter-widgets/controls",
          "model_name": "DescriptionStyleModel",
          "model_module_version": "1.5.0",
          "state": {
            "_model_module": "@jupyter-widgets/controls",
            "_model_module_version": "1.5.0",
            "_model_name": "DescriptionStyleModel",
            "_view_count": null,
            "_view_module": "@jupyter-widgets/base",
            "_view_module_version": "1.2.0",
            "_view_name": "StyleView",
            "description_width": ""
          }
        },
        "af90ba85a6004cc08485e243e86e551c": {
          "model_module": "@jupyter-widgets/base",
          "model_name": "LayoutModel",
          "model_module_version": "1.2.0",
          "state": {
            "_model_module": "@jupyter-widgets/base",
            "_model_module_version": "1.2.0",
            "_model_name": "LayoutModel",
            "_view_count": null,
            "_view_module": "@jupyter-widgets/base",
            "_view_module_version": "1.2.0",
            "_view_name": "LayoutView",
            "align_content": null,
            "align_items": null,
            "align_self": null,
            "border": null,
            "bottom": null,
            "display": null,
            "flex": null,
            "flex_flow": null,
            "grid_area": null,
            "grid_auto_columns": null,
            "grid_auto_flow": null,
            "grid_auto_rows": null,
            "grid_column": null,
            "grid_gap": null,
            "grid_row": null,
            "grid_template_areas": null,
            "grid_template_columns": null,
            "grid_template_rows": null,
            "height": null,
            "justify_content": null,
            "justify_items": null,
            "left": null,
            "margin": null,
            "max_height": null,
            "max_width": null,
            "min_height": null,
            "min_width": null,
            "object_fit": null,
            "object_position": null,
            "order": null,
            "overflow": null,
            "overflow_x": null,
            "overflow_y": null,
            "padding": null,
            "right": null,
            "top": null,
            "visibility": null,
            "width": null
          }
        },
        "e7fc235d203f4565b25c47d742a272f1": {
          "model_module": "@jupyter-widgets/controls",
          "model_name": "ProgressStyleModel",
          "model_module_version": "1.5.0",
          "state": {
            "_model_module": "@jupyter-widgets/controls",
            "_model_module_version": "1.5.0",
            "_model_name": "ProgressStyleModel",
            "_view_count": null,
            "_view_module": "@jupyter-widgets/base",
            "_view_module_version": "1.2.0",
            "_view_name": "StyleView",
            "bar_color": null,
            "description_width": ""
          }
        },
        "9858331f97a54107a4706344fa3a7c5a": {
          "model_module": "@jupyter-widgets/base",
          "model_name": "LayoutModel",
          "model_module_version": "1.2.0",
          "state": {
            "_model_module": "@jupyter-widgets/base",
            "_model_module_version": "1.2.0",
            "_model_name": "LayoutModel",
            "_view_count": null,
            "_view_module": "@jupyter-widgets/base",
            "_view_module_version": "1.2.0",
            "_view_name": "LayoutView",
            "align_content": null,
            "align_items": null,
            "align_self": null,
            "border": null,
            "bottom": null,
            "display": null,
            "flex": null,
            "flex_flow": null,
            "grid_area": null,
            "grid_auto_columns": null,
            "grid_auto_flow": null,
            "grid_auto_rows": null,
            "grid_column": null,
            "grid_gap": null,
            "grid_row": null,
            "grid_template_areas": null,
            "grid_template_columns": null,
            "grid_template_rows": null,
            "height": null,
            "justify_content": null,
            "justify_items": null,
            "left": null,
            "margin": null,
            "max_height": null,
            "max_width": null,
            "min_height": null,
            "min_width": null,
            "object_fit": null,
            "object_position": null,
            "order": null,
            "overflow": null,
            "overflow_x": null,
            "overflow_y": null,
            "padding": null,
            "right": null,
            "top": null,
            "visibility": null,
            "width": null
          }
        },
        "2c4d2c683e8343dd989237cdb2d7afbf": {
          "model_module": "@jupyter-widgets/controls",
          "model_name": "DescriptionStyleModel",
          "model_module_version": "1.5.0",
          "state": {
            "_model_module": "@jupyter-widgets/controls",
            "_model_module_version": "1.5.0",
            "_model_name": "DescriptionStyleModel",
            "_view_count": null,
            "_view_module": "@jupyter-widgets/base",
            "_view_module_version": "1.2.0",
            "_view_name": "StyleView",
            "description_width": ""
          }
        },
        "31bb4c653521461cb855817c4455f029": {
          "model_module": "@jupyter-widgets/controls",
          "model_name": "HBoxModel",
          "model_module_version": "1.5.0",
          "state": {
            "_dom_classes": [],
            "_model_module": "@jupyter-widgets/controls",
            "_model_module_version": "1.5.0",
            "_model_name": "HBoxModel",
            "_view_count": null,
            "_view_module": "@jupyter-widgets/controls",
            "_view_module_version": "1.5.0",
            "_view_name": "HBoxView",
            "box_style": "",
            "children": [
              "IPY_MODEL_436bf41f9a7643a7bd70d5e07936c5c2",
              "IPY_MODEL_a374606ef0f24667bc1ca2e55d602ae1",
              "IPY_MODEL_c44c9778cad0424d83d3dc9070a0caf8"
            ],
            "layout": "IPY_MODEL_016fbbe21e5a40d79bc72b51ccb1d79f"
          }
        },
        "436bf41f9a7643a7bd70d5e07936c5c2": {
          "model_module": "@jupyter-widgets/controls",
          "model_name": "HTMLModel",
          "model_module_version": "1.5.0",
          "state": {
            "_dom_classes": [],
            "_model_module": "@jupyter-widgets/controls",
            "_model_module_version": "1.5.0",
            "_model_name": "HTMLModel",
            "_view_count": null,
            "_view_module": "@jupyter-widgets/controls",
            "_view_module_version": "1.5.0",
            "_view_name": "HTMLView",
            "description": "",
            "description_tooltip": null,
            "layout": "IPY_MODEL_777f27152d2348e2a6bbd8c6f2105fbe",
            "placeholder": "​",
            "style": "IPY_MODEL_cc5930b644bc4a958eb3a3f3e402c1c1",
            "value": "merges.txt: 100%"
          }
        },
        "a374606ef0f24667bc1ca2e55d602ae1": {
          "model_module": "@jupyter-widgets/controls",
          "model_name": "FloatProgressModel",
          "model_module_version": "1.5.0",
          "state": {
            "_dom_classes": [],
            "_model_module": "@jupyter-widgets/controls",
            "_model_module_version": "1.5.0",
            "_model_name": "FloatProgressModel",
            "_view_count": null,
            "_view_module": "@jupyter-widgets/controls",
            "_view_module_version": "1.5.0",
            "_view_name": "ProgressView",
            "bar_style": "success",
            "description": "",
            "description_tooltip": null,
            "layout": "IPY_MODEL_83b05a37b41149d3ba2193a123ec7321",
            "max": 294364,
            "min": 0,
            "orientation": "horizontal",
            "style": "IPY_MODEL_e48f0cc471354c699058da251ebe1058",
            "value": 294364
          }
        },
        "c44c9778cad0424d83d3dc9070a0caf8": {
          "model_module": "@jupyter-widgets/controls",
          "model_name": "HTMLModel",
          "model_module_version": "1.5.0",
          "state": {
            "_dom_classes": [],
            "_model_module": "@jupyter-widgets/controls",
            "_model_module_version": "1.5.0",
            "_model_name": "HTMLModel",
            "_view_count": null,
            "_view_module": "@jupyter-widgets/controls",
            "_view_module_version": "1.5.0",
            "_view_name": "HTMLView",
            "description": "",
            "description_tooltip": null,
            "layout": "IPY_MODEL_d2916e27c10d42f39ec538a3b115fdc8",
            "placeholder": "​",
            "style": "IPY_MODEL_7d4341c480f94450b658dc04142f1f78",
            "value": " 294k/294k [00:00&lt;00:00, 3.17MB/s]"
          }
        },
        "016fbbe21e5a40d79bc72b51ccb1d79f": {
          "model_module": "@jupyter-widgets/base",
          "model_name": "LayoutModel",
          "model_module_version": "1.2.0",
          "state": {
            "_model_module": "@jupyter-widgets/base",
            "_model_module_version": "1.2.0",
            "_model_name": "LayoutModel",
            "_view_count": null,
            "_view_module": "@jupyter-widgets/base",
            "_view_module_version": "1.2.0",
            "_view_name": "LayoutView",
            "align_content": null,
            "align_items": null,
            "align_self": null,
            "border": null,
            "bottom": null,
            "display": null,
            "flex": null,
            "flex_flow": null,
            "grid_area": null,
            "grid_auto_columns": null,
            "grid_auto_flow": null,
            "grid_auto_rows": null,
            "grid_column": null,
            "grid_gap": null,
            "grid_row": null,
            "grid_template_areas": null,
            "grid_template_columns": null,
            "grid_template_rows": null,
            "height": null,
            "justify_content": null,
            "justify_items": null,
            "left": null,
            "margin": null,
            "max_height": null,
            "max_width": null,
            "min_height": null,
            "min_width": null,
            "object_fit": null,
            "object_position": null,
            "order": null,
            "overflow": null,
            "overflow_x": null,
            "overflow_y": null,
            "padding": null,
            "right": null,
            "top": null,
            "visibility": null,
            "width": null
          }
        },
        "777f27152d2348e2a6bbd8c6f2105fbe": {
          "model_module": "@jupyter-widgets/base",
          "model_name": "LayoutModel",
          "model_module_version": "1.2.0",
          "state": {
            "_model_module": "@jupyter-widgets/base",
            "_model_module_version": "1.2.0",
            "_model_name": "LayoutModel",
            "_view_count": null,
            "_view_module": "@jupyter-widgets/base",
            "_view_module_version": "1.2.0",
            "_view_name": "LayoutView",
            "align_content": null,
            "align_items": null,
            "align_self": null,
            "border": null,
            "bottom": null,
            "display": null,
            "flex": null,
            "flex_flow": null,
            "grid_area": null,
            "grid_auto_columns": null,
            "grid_auto_flow": null,
            "grid_auto_rows": null,
            "grid_column": null,
            "grid_gap": null,
            "grid_row": null,
            "grid_template_areas": null,
            "grid_template_columns": null,
            "grid_template_rows": null,
            "height": null,
            "justify_content": null,
            "justify_items": null,
            "left": null,
            "margin": null,
            "max_height": null,
            "max_width": null,
            "min_height": null,
            "min_width": null,
            "object_fit": null,
            "object_position": null,
            "order": null,
            "overflow": null,
            "overflow_x": null,
            "overflow_y": null,
            "padding": null,
            "right": null,
            "top": null,
            "visibility": null,
            "width": null
          }
        },
        "cc5930b644bc4a958eb3a3f3e402c1c1": {
          "model_module": "@jupyter-widgets/controls",
          "model_name": "DescriptionStyleModel",
          "model_module_version": "1.5.0",
          "state": {
            "_model_module": "@jupyter-widgets/controls",
            "_model_module_version": "1.5.0",
            "_model_name": "DescriptionStyleModel",
            "_view_count": null,
            "_view_module": "@jupyter-widgets/base",
            "_view_module_version": "1.2.0",
            "_view_name": "StyleView",
            "description_width": ""
          }
        },
        "83b05a37b41149d3ba2193a123ec7321": {
          "model_module": "@jupyter-widgets/base",
          "model_name": "LayoutModel",
          "model_module_version": "1.2.0",
          "state": {
            "_model_module": "@jupyter-widgets/base",
            "_model_module_version": "1.2.0",
            "_model_name": "LayoutModel",
            "_view_count": null,
            "_view_module": "@jupyter-widgets/base",
            "_view_module_version": "1.2.0",
            "_view_name": "LayoutView",
            "align_content": null,
            "align_items": null,
            "align_self": null,
            "border": null,
            "bottom": null,
            "display": null,
            "flex": null,
            "flex_flow": null,
            "grid_area": null,
            "grid_auto_columns": null,
            "grid_auto_flow": null,
            "grid_auto_rows": null,
            "grid_column": null,
            "grid_gap": null,
            "grid_row": null,
            "grid_template_areas": null,
            "grid_template_columns": null,
            "grid_template_rows": null,
            "height": null,
            "justify_content": null,
            "justify_items": null,
            "left": null,
            "margin": null,
            "max_height": null,
            "max_width": null,
            "min_height": null,
            "min_width": null,
            "object_fit": null,
            "object_position": null,
            "order": null,
            "overflow": null,
            "overflow_x": null,
            "overflow_y": null,
            "padding": null,
            "right": null,
            "top": null,
            "visibility": null,
            "width": null
          }
        },
        "e48f0cc471354c699058da251ebe1058": {
          "model_module": "@jupyter-widgets/controls",
          "model_name": "ProgressStyleModel",
          "model_module_version": "1.5.0",
          "state": {
            "_model_module": "@jupyter-widgets/controls",
            "_model_module_version": "1.5.0",
            "_model_name": "ProgressStyleModel",
            "_view_count": null,
            "_view_module": "@jupyter-widgets/base",
            "_view_module_version": "1.2.0",
            "_view_name": "StyleView",
            "bar_color": null,
            "description_width": ""
          }
        },
        "d2916e27c10d42f39ec538a3b115fdc8": {
          "model_module": "@jupyter-widgets/base",
          "model_name": "LayoutModel",
          "model_module_version": "1.2.0",
          "state": {
            "_model_module": "@jupyter-widgets/base",
            "_model_module_version": "1.2.0",
            "_model_name": "LayoutModel",
            "_view_count": null,
            "_view_module": "@jupyter-widgets/base",
            "_view_module_version": "1.2.0",
            "_view_name": "LayoutView",
            "align_content": null,
            "align_items": null,
            "align_self": null,
            "border": null,
            "bottom": null,
            "display": null,
            "flex": null,
            "flex_flow": null,
            "grid_area": null,
            "grid_auto_columns": null,
            "grid_auto_flow": null,
            "grid_auto_rows": null,
            "grid_column": null,
            "grid_gap": null,
            "grid_row": null,
            "grid_template_areas": null,
            "grid_template_columns": null,
            "grid_template_rows": null,
            "height": null,
            "justify_content": null,
            "justify_items": null,
            "left": null,
            "margin": null,
            "max_height": null,
            "max_width": null,
            "min_height": null,
            "min_width": null,
            "object_fit": null,
            "object_position": null,
            "order": null,
            "overflow": null,
            "overflow_x": null,
            "overflow_y": null,
            "padding": null,
            "right": null,
            "top": null,
            "visibility": null,
            "width": null
          }
        },
        "7d4341c480f94450b658dc04142f1f78": {
          "model_module": "@jupyter-widgets/controls",
          "model_name": "DescriptionStyleModel",
          "model_module_version": "1.5.0",
          "state": {
            "_model_module": "@jupyter-widgets/controls",
            "_model_module_version": "1.5.0",
            "_model_name": "DescriptionStyleModel",
            "_view_count": null,
            "_view_module": "@jupyter-widgets/base",
            "_view_module_version": "1.2.0",
            "_view_name": "StyleView",
            "description_width": ""
          }
        },
        "8a53a0ff36754ec9abaee01c1253a6d3": {
          "model_module": "@jupyter-widgets/controls",
          "model_name": "HBoxModel",
          "model_module_version": "1.5.0",
          "state": {
            "_dom_classes": [],
            "_model_module": "@jupyter-widgets/controls",
            "_model_module_version": "1.5.0",
            "_model_name": "HBoxModel",
            "_view_count": null,
            "_view_module": "@jupyter-widgets/controls",
            "_view_module_version": "1.5.0",
            "_view_name": "HBoxView",
            "box_style": "",
            "children": [
              "IPY_MODEL_71216a9a64d540649b5442afe6619d28",
              "IPY_MODEL_0f4b403e993645b58c3fe8088a3d0cea",
              "IPY_MODEL_4dc243c716164d6185c492bd69d35a6e"
            ],
            "layout": "IPY_MODEL_ce4deba317ff49f5bc6f297d6a3043f6"
          }
        },
        "71216a9a64d540649b5442afe6619d28": {
          "model_module": "@jupyter-widgets/controls",
          "model_name": "HTMLModel",
          "model_module_version": "1.5.0",
          "state": {
            "_dom_classes": [],
            "_model_module": "@jupyter-widgets/controls",
            "_model_module_version": "1.5.0",
            "_model_name": "HTMLModel",
            "_view_count": null,
            "_view_module": "@jupyter-widgets/controls",
            "_view_module_version": "1.5.0",
            "_view_name": "HTMLView",
            "description": "",
            "description_tooltip": null,
            "layout": "IPY_MODEL_071137139f1141e195751d9b0abf8195",
            "placeholder": "​",
            "style": "IPY_MODEL_33b7188694114885921fc098fef4c99e",
            "value": "added_tokens.json: 100%"
          }
        },
        "0f4b403e993645b58c3fe8088a3d0cea": {
          "model_module": "@jupyter-widgets/controls",
          "model_name": "FloatProgressModel",
          "model_module_version": "1.5.0",
          "state": {
            "_dom_classes": [],
            "_model_module": "@jupyter-widgets/controls",
            "_model_module_version": "1.5.0",
            "_model_name": "FloatProgressModel",
            "_view_count": null,
            "_view_module": "@jupyter-widgets/controls",
            "_view_module_version": "1.5.0",
            "_view_name": "ProgressView",
            "bar_style": "success",
            "description": "",
            "description_tooltip": null,
            "layout": "IPY_MODEL_567ffdc3d1c7475495e8b13989f04251",
            "max": 2,
            "min": 0,
            "orientation": "horizontal",
            "style": "IPY_MODEL_c928e229be4a41bfa03de9c0fecfecdf",
            "value": 2
          }
        },
        "4dc243c716164d6185c492bd69d35a6e": {
          "model_module": "@jupyter-widgets/controls",
          "model_name": "HTMLModel",
          "model_module_version": "1.5.0",
          "state": {
            "_dom_classes": [],
            "_model_module": "@jupyter-widgets/controls",
            "_model_module_version": "1.5.0",
            "_model_name": "HTMLModel",
            "_view_count": null,
            "_view_module": "@jupyter-widgets/controls",
            "_view_module_version": "1.5.0",
            "_view_name": "HTMLView",
            "description": "",
            "description_tooltip": null,
            "layout": "IPY_MODEL_7ddc8d80d97e4f19805bff95955fcff5",
            "placeholder": "​",
            "style": "IPY_MODEL_744ddb64cbdf46b699e7da0ee5c2aded",
            "value": " 2.00/2.00 [00:00&lt;00:00, 23.6B/s]"
          }
        },
        "ce4deba317ff49f5bc6f297d6a3043f6": {
          "model_module": "@jupyter-widgets/base",
          "model_name": "LayoutModel",
          "model_module_version": "1.2.0",
          "state": {
            "_model_module": "@jupyter-widgets/base",
            "_model_module_version": "1.2.0",
            "_model_name": "LayoutModel",
            "_view_count": null,
            "_view_module": "@jupyter-widgets/base",
            "_view_module_version": "1.2.0",
            "_view_name": "LayoutView",
            "align_content": null,
            "align_items": null,
            "align_self": null,
            "border": null,
            "bottom": null,
            "display": null,
            "flex": null,
            "flex_flow": null,
            "grid_area": null,
            "grid_auto_columns": null,
            "grid_auto_flow": null,
            "grid_auto_rows": null,
            "grid_column": null,
            "grid_gap": null,
            "grid_row": null,
            "grid_template_areas": null,
            "grid_template_columns": null,
            "grid_template_rows": null,
            "height": null,
            "justify_content": null,
            "justify_items": null,
            "left": null,
            "margin": null,
            "max_height": null,
            "max_width": null,
            "min_height": null,
            "min_width": null,
            "object_fit": null,
            "object_position": null,
            "order": null,
            "overflow": null,
            "overflow_x": null,
            "overflow_y": null,
            "padding": null,
            "right": null,
            "top": null,
            "visibility": null,
            "width": null
          }
        },
        "071137139f1141e195751d9b0abf8195": {
          "model_module": "@jupyter-widgets/base",
          "model_name": "LayoutModel",
          "model_module_version": "1.2.0",
          "state": {
            "_model_module": "@jupyter-widgets/base",
            "_model_module_version": "1.2.0",
            "_model_name": "LayoutModel",
            "_view_count": null,
            "_view_module": "@jupyter-widgets/base",
            "_view_module_version": "1.2.0",
            "_view_name": "LayoutView",
            "align_content": null,
            "align_items": null,
            "align_self": null,
            "border": null,
            "bottom": null,
            "display": null,
            "flex": null,
            "flex_flow": null,
            "grid_area": null,
            "grid_auto_columns": null,
            "grid_auto_flow": null,
            "grid_auto_rows": null,
            "grid_column": null,
            "grid_gap": null,
            "grid_row": null,
            "grid_template_areas": null,
            "grid_template_columns": null,
            "grid_template_rows": null,
            "height": null,
            "justify_content": null,
            "justify_items": null,
            "left": null,
            "margin": null,
            "max_height": null,
            "max_width": null,
            "min_height": null,
            "min_width": null,
            "object_fit": null,
            "object_position": null,
            "order": null,
            "overflow": null,
            "overflow_x": null,
            "overflow_y": null,
            "padding": null,
            "right": null,
            "top": null,
            "visibility": null,
            "width": null
          }
        },
        "33b7188694114885921fc098fef4c99e": {
          "model_module": "@jupyter-widgets/controls",
          "model_name": "DescriptionStyleModel",
          "model_module_version": "1.5.0",
          "state": {
            "_model_module": "@jupyter-widgets/controls",
            "_model_module_version": "1.5.0",
            "_model_name": "DescriptionStyleModel",
            "_view_count": null,
            "_view_module": "@jupyter-widgets/base",
            "_view_module_version": "1.2.0",
            "_view_name": "StyleView",
            "description_width": ""
          }
        },
        "567ffdc3d1c7475495e8b13989f04251": {
          "model_module": "@jupyter-widgets/base",
          "model_name": "LayoutModel",
          "model_module_version": "1.2.0",
          "state": {
            "_model_module": "@jupyter-widgets/base",
            "_model_module_version": "1.2.0",
            "_model_name": "LayoutModel",
            "_view_count": null,
            "_view_module": "@jupyter-widgets/base",
            "_view_module_version": "1.2.0",
            "_view_name": "LayoutView",
            "align_content": null,
            "align_items": null,
            "align_self": null,
            "border": null,
            "bottom": null,
            "display": null,
            "flex": null,
            "flex_flow": null,
            "grid_area": null,
            "grid_auto_columns": null,
            "grid_auto_flow": null,
            "grid_auto_rows": null,
            "grid_column": null,
            "grid_gap": null,
            "grid_row": null,
            "grid_template_areas": null,
            "grid_template_columns": null,
            "grid_template_rows": null,
            "height": null,
            "justify_content": null,
            "justify_items": null,
            "left": null,
            "margin": null,
            "max_height": null,
            "max_width": null,
            "min_height": null,
            "min_width": null,
            "object_fit": null,
            "object_position": null,
            "order": null,
            "overflow": null,
            "overflow_x": null,
            "overflow_y": null,
            "padding": null,
            "right": null,
            "top": null,
            "visibility": null,
            "width": null
          }
        },
        "c928e229be4a41bfa03de9c0fecfecdf": {
          "model_module": "@jupyter-widgets/controls",
          "model_name": "ProgressStyleModel",
          "model_module_version": "1.5.0",
          "state": {
            "_model_module": "@jupyter-widgets/controls",
            "_model_module_version": "1.5.0",
            "_model_name": "ProgressStyleModel",
            "_view_count": null,
            "_view_module": "@jupyter-widgets/base",
            "_view_module_version": "1.2.0",
            "_view_name": "StyleView",
            "bar_color": null,
            "description_width": ""
          }
        },
        "7ddc8d80d97e4f19805bff95955fcff5": {
          "model_module": "@jupyter-widgets/base",
          "model_name": "LayoutModel",
          "model_module_version": "1.2.0",
          "state": {
            "_model_module": "@jupyter-widgets/base",
            "_model_module_version": "1.2.0",
            "_model_name": "LayoutModel",
            "_view_count": null,
            "_view_module": "@jupyter-widgets/base",
            "_view_module_version": "1.2.0",
            "_view_name": "LayoutView",
            "align_content": null,
            "align_items": null,
            "align_self": null,
            "border": null,
            "bottom": null,
            "display": null,
            "flex": null,
            "flex_flow": null,
            "grid_area": null,
            "grid_auto_columns": null,
            "grid_auto_flow": null,
            "grid_auto_rows": null,
            "grid_column": null,
            "grid_gap": null,
            "grid_row": null,
            "grid_template_areas": null,
            "grid_template_columns": null,
            "grid_template_rows": null,
            "height": null,
            "justify_content": null,
            "justify_items": null,
            "left": null,
            "margin": null,
            "max_height": null,
            "max_width": null,
            "min_height": null,
            "min_width": null,
            "object_fit": null,
            "object_position": null,
            "order": null,
            "overflow": null,
            "overflow_x": null,
            "overflow_y": null,
            "padding": null,
            "right": null,
            "top": null,
            "visibility": null,
            "width": null
          }
        },
        "744ddb64cbdf46b699e7da0ee5c2aded": {
          "model_module": "@jupyter-widgets/controls",
          "model_name": "DescriptionStyleModel",
          "model_module_version": "1.5.0",
          "state": {
            "_model_module": "@jupyter-widgets/controls",
            "_model_module_version": "1.5.0",
            "_model_name": "DescriptionStyleModel",
            "_view_count": null,
            "_view_module": "@jupyter-widgets/base",
            "_view_module_version": "1.2.0",
            "_view_name": "StyleView",
            "description_width": ""
          }
        },
        "ff76d1c0577b4564a4787eaa24f2f4cb": {
          "model_module": "@jupyter-widgets/controls",
          "model_name": "HBoxModel",
          "model_module_version": "1.5.0",
          "state": {
            "_dom_classes": [],
            "_model_module": "@jupyter-widgets/controls",
            "_model_module_version": "1.5.0",
            "_model_name": "HBoxModel",
            "_view_count": null,
            "_view_module": "@jupyter-widgets/controls",
            "_view_module_version": "1.5.0",
            "_view_name": "HBoxView",
            "box_style": "",
            "children": [
              "IPY_MODEL_b24367b61b644f95a4082fcb8a1c8b79",
              "IPY_MODEL_07aef0bb50304608912bc9082ea4eb4e",
              "IPY_MODEL_a861bc578fac4f0496a2fb0597b6b47a"
            ],
            "layout": "IPY_MODEL_58f1539b31434c03b5a6c31c51d29cce"
          }
        },
        "b24367b61b644f95a4082fcb8a1c8b79": {
          "model_module": "@jupyter-widgets/controls",
          "model_name": "HTMLModel",
          "model_module_version": "1.5.0",
          "state": {
            "_dom_classes": [],
            "_model_module": "@jupyter-widgets/controls",
            "_model_module_version": "1.5.0",
            "_model_name": "HTMLModel",
            "_view_count": null,
            "_view_module": "@jupyter-widgets/controls",
            "_view_module_version": "1.5.0",
            "_view_name": "HTMLView",
            "description": "",
            "description_tooltip": null,
            "layout": "IPY_MODEL_b78545796dac44e1968f9b98a7a2b316",
            "placeholder": "​",
            "style": "IPY_MODEL_d2e9b48243b34478a6998b4228b7c549",
            "value": "special_tokens_map.json: 100%"
          }
        },
        "07aef0bb50304608912bc9082ea4eb4e": {
          "model_module": "@jupyter-widgets/controls",
          "model_name": "FloatProgressModel",
          "model_module_version": "1.5.0",
          "state": {
            "_dom_classes": [],
            "_model_module": "@jupyter-widgets/controls",
            "_model_module_version": "1.5.0",
            "_model_name": "FloatProgressModel",
            "_view_count": null,
            "_view_module": "@jupyter-widgets/controls",
            "_view_module_version": "1.5.0",
            "_view_name": "ProgressView",
            "bar_style": "success",
            "description": "",
            "description_tooltip": null,
            "layout": "IPY_MODEL_b3b4edd5858a45c0972e7711744f19f0",
            "max": 12512,
            "min": 0,
            "orientation": "horizontal",
            "style": "IPY_MODEL_883f71ef042f41fda42067863b807ce9",
            "value": 12512
          }
        },
        "a861bc578fac4f0496a2fb0597b6b47a": {
          "model_module": "@jupyter-widgets/controls",
          "model_name": "HTMLModel",
          "model_module_version": "1.5.0",
          "state": {
            "_dom_classes": [],
            "_model_module": "@jupyter-widgets/controls",
            "_model_module_version": "1.5.0",
            "_model_name": "HTMLModel",
            "_view_count": null,
            "_view_module": "@jupyter-widgets/controls",
            "_view_module_version": "1.5.0",
            "_view_name": "HTMLView",
            "description": "",
            "description_tooltip": null,
            "layout": "IPY_MODEL_0b71d89a4c2c4c84b01338f8a60f92ed",
            "placeholder": "​",
            "style": "IPY_MODEL_ac4384b29d764c1caecafc78b52adb09",
            "value": " 12.5k/12.5k [00:00&lt;00:00, 118kB/s]"
          }
        },
        "58f1539b31434c03b5a6c31c51d29cce": {
          "model_module": "@jupyter-widgets/base",
          "model_name": "LayoutModel",
          "model_module_version": "1.2.0",
          "state": {
            "_model_module": "@jupyter-widgets/base",
            "_model_module_version": "1.2.0",
            "_model_name": "LayoutModel",
            "_view_count": null,
            "_view_module": "@jupyter-widgets/base",
            "_view_module_version": "1.2.0",
            "_view_name": "LayoutView",
            "align_content": null,
            "align_items": null,
            "align_self": null,
            "border": null,
            "bottom": null,
            "display": null,
            "flex": null,
            "flex_flow": null,
            "grid_area": null,
            "grid_auto_columns": null,
            "grid_auto_flow": null,
            "grid_auto_rows": null,
            "grid_column": null,
            "grid_gap": null,
            "grid_row": null,
            "grid_template_areas": null,
            "grid_template_columns": null,
            "grid_template_rows": null,
            "height": null,
            "justify_content": null,
            "justify_items": null,
            "left": null,
            "margin": null,
            "max_height": null,
            "max_width": null,
            "min_height": null,
            "min_width": null,
            "object_fit": null,
            "object_position": null,
            "order": null,
            "overflow": null,
            "overflow_x": null,
            "overflow_y": null,
            "padding": null,
            "right": null,
            "top": null,
            "visibility": null,
            "width": null
          }
        },
        "b78545796dac44e1968f9b98a7a2b316": {
          "model_module": "@jupyter-widgets/base",
          "model_name": "LayoutModel",
          "model_module_version": "1.2.0",
          "state": {
            "_model_module": "@jupyter-widgets/base",
            "_model_module_version": "1.2.0",
            "_model_name": "LayoutModel",
            "_view_count": null,
            "_view_module": "@jupyter-widgets/base",
            "_view_module_version": "1.2.0",
            "_view_name": "LayoutView",
            "align_content": null,
            "align_items": null,
            "align_self": null,
            "border": null,
            "bottom": null,
            "display": null,
            "flex": null,
            "flex_flow": null,
            "grid_area": null,
            "grid_auto_columns": null,
            "grid_auto_flow": null,
            "grid_auto_rows": null,
            "grid_column": null,
            "grid_gap": null,
            "grid_row": null,
            "grid_template_areas": null,
            "grid_template_columns": null,
            "grid_template_rows": null,
            "height": null,
            "justify_content": null,
            "justify_items": null,
            "left": null,
            "margin": null,
            "max_height": null,
            "max_width": null,
            "min_height": null,
            "min_width": null,
            "object_fit": null,
            "object_position": null,
            "order": null,
            "overflow": null,
            "overflow_x": null,
            "overflow_y": null,
            "padding": null,
            "right": null,
            "top": null,
            "visibility": null,
            "width": null
          }
        },
        "d2e9b48243b34478a6998b4228b7c549": {
          "model_module": "@jupyter-widgets/controls",
          "model_name": "DescriptionStyleModel",
          "model_module_version": "1.5.0",
          "state": {
            "_model_module": "@jupyter-widgets/controls",
            "_model_module_version": "1.5.0",
            "_model_name": "DescriptionStyleModel",
            "_view_count": null,
            "_view_module": "@jupyter-widgets/base",
            "_view_module_version": "1.2.0",
            "_view_name": "StyleView",
            "description_width": ""
          }
        },
        "b3b4edd5858a45c0972e7711744f19f0": {
          "model_module": "@jupyter-widgets/base",
          "model_name": "LayoutModel",
          "model_module_version": "1.2.0",
          "state": {
            "_model_module": "@jupyter-widgets/base",
            "_model_module_version": "1.2.0",
            "_model_name": "LayoutModel",
            "_view_count": null,
            "_view_module": "@jupyter-widgets/base",
            "_view_module_version": "1.2.0",
            "_view_name": "LayoutView",
            "align_content": null,
            "align_items": null,
            "align_self": null,
            "border": null,
            "bottom": null,
            "display": null,
            "flex": null,
            "flex_flow": null,
            "grid_area": null,
            "grid_auto_columns": null,
            "grid_auto_flow": null,
            "grid_auto_rows": null,
            "grid_column": null,
            "grid_gap": null,
            "grid_row": null,
            "grid_template_areas": null,
            "grid_template_columns": null,
            "grid_template_rows": null,
            "height": null,
            "justify_content": null,
            "justify_items": null,
            "left": null,
            "margin": null,
            "max_height": null,
            "max_width": null,
            "min_height": null,
            "min_width": null,
            "object_fit": null,
            "object_position": null,
            "order": null,
            "overflow": null,
            "overflow_x": null,
            "overflow_y": null,
            "padding": null,
            "right": null,
            "top": null,
            "visibility": null,
            "width": null
          }
        },
        "883f71ef042f41fda42067863b807ce9": {
          "model_module": "@jupyter-widgets/controls",
          "model_name": "ProgressStyleModel",
          "model_module_version": "1.5.0",
          "state": {
            "_model_module": "@jupyter-widgets/controls",
            "_model_module_version": "1.5.0",
            "_model_name": "ProgressStyleModel",
            "_view_count": null,
            "_view_module": "@jupyter-widgets/base",
            "_view_module_version": "1.2.0",
            "_view_name": "StyleView",
            "bar_color": null,
            "description_width": ""
          }
        },
        "0b71d89a4c2c4c84b01338f8a60f92ed": {
          "model_module": "@jupyter-widgets/base",
          "model_name": "LayoutModel",
          "model_module_version": "1.2.0",
          "state": {
            "_model_module": "@jupyter-widgets/base",
            "_model_module_version": "1.2.0",
            "_model_name": "LayoutModel",
            "_view_count": null,
            "_view_module": "@jupyter-widgets/base",
            "_view_module_version": "1.2.0",
            "_view_name": "LayoutView",
            "align_content": null,
            "align_items": null,
            "align_self": null,
            "border": null,
            "bottom": null,
            "display": null,
            "flex": null,
            "flex_flow": null,
            "grid_area": null,
            "grid_auto_columns": null,
            "grid_auto_flow": null,
            "grid_auto_rows": null,
            "grid_column": null,
            "grid_gap": null,
            "grid_row": null,
            "grid_template_areas": null,
            "grid_template_columns": null,
            "grid_template_rows": null,
            "height": null,
            "justify_content": null,
            "justify_items": null,
            "left": null,
            "margin": null,
            "max_height": null,
            "max_width": null,
            "min_height": null,
            "min_width": null,
            "object_fit": null,
            "object_position": null,
            "order": null,
            "overflow": null,
            "overflow_x": null,
            "overflow_y": null,
            "padding": null,
            "right": null,
            "top": null,
            "visibility": null,
            "width": null
          }
        },
        "ac4384b29d764c1caecafc78b52adb09": {
          "model_module": "@jupyter-widgets/controls",
          "model_name": "DescriptionStyleModel",
          "model_module_version": "1.5.0",
          "state": {
            "_model_module": "@jupyter-widgets/controls",
            "_model_module_version": "1.5.0",
            "_model_name": "DescriptionStyleModel",
            "_view_count": null,
            "_view_module": "@jupyter-widgets/base",
            "_view_module_version": "1.2.0",
            "_view_name": "StyleView",
            "description_width": ""
          }
        },
        "53cfb9f97d564d60a5a0d96a6e29b86d": {
          "model_module": "@jupyter-widgets/controls",
          "model_name": "HBoxModel",
          "model_module_version": "1.5.0",
          "state": {
            "_dom_classes": [],
            "_model_module": "@jupyter-widgets/controls",
            "_model_module_version": "1.5.0",
            "_model_name": "HBoxModel",
            "_view_count": null,
            "_view_module": "@jupyter-widgets/controls",
            "_view_module_version": "1.5.0",
            "_view_name": "HBoxView",
            "box_style": "",
            "children": [
              "IPY_MODEL_3fa97f2f4ede478ba137ae49e4936f61",
              "IPY_MODEL_df9aa53f208844fcae11a360aae03b4c",
              "IPY_MODEL_32bd2f2c4f224b008ed63b7d615b9a23"
            ],
            "layout": "IPY_MODEL_b8e22434d8dd46fba2bcac0b2e15d9d5"
          }
        },
        "3fa97f2f4ede478ba137ae49e4936f61": {
          "model_module": "@jupyter-widgets/controls",
          "model_name": "HTMLModel",
          "model_module_version": "1.5.0",
          "state": {
            "_dom_classes": [],
            "_model_module": "@jupyter-widgets/controls",
            "_model_module_version": "1.5.0",
            "_model_name": "HTMLModel",
            "_view_count": null,
            "_view_module": "@jupyter-widgets/controls",
            "_view_module_version": "1.5.0",
            "_view_name": "HTMLView",
            "description": "",
            "description_tooltip": null,
            "layout": "IPY_MODEL_146c293b048a43b2b5d8fb1bdb62a597",
            "placeholder": "​",
            "style": "IPY_MODEL_e8893048dfca4464a43ab280c5fc06a6",
            "value": "config.json: 100%"
          }
        },
        "df9aa53f208844fcae11a360aae03b4c": {
          "model_module": "@jupyter-widgets/controls",
          "model_name": "FloatProgressModel",
          "model_module_version": "1.5.0",
          "state": {
            "_dom_classes": [],
            "_model_module": "@jupyter-widgets/controls",
            "_model_module_version": "1.5.0",
            "_model_name": "FloatProgressModel",
            "_view_count": null,
            "_view_module": "@jupyter-widgets/controls",
            "_view_module_version": "1.5.0",
            "_view_name": "ProgressView",
            "bar_style": "success",
            "description": "",
            "description_tooltip": null,
            "layout": "IPY_MODEL_393638f79110438cb6707068e7f29d75",
            "max": 768,
            "min": 0,
            "orientation": "horizontal",
            "style": "IPY_MODEL_d6e1a9daaa194dbdb58fff5e54e85a2f",
            "value": 768
          }
        },
        "32bd2f2c4f224b008ed63b7d615b9a23": {
          "model_module": "@jupyter-widgets/controls",
          "model_name": "HTMLModel",
          "model_module_version": "1.5.0",
          "state": {
            "_dom_classes": [],
            "_model_module": "@jupyter-widgets/controls",
            "_model_module_version": "1.5.0",
            "_model_name": "HTMLModel",
            "_view_count": null,
            "_view_module": "@jupyter-widgets/controls",
            "_view_module_version": "1.5.0",
            "_view_name": "HTMLView",
            "description": "",
            "description_tooltip": null,
            "layout": "IPY_MODEL_183bcc04153440beaf4efc6042395299",
            "placeholder": "​",
            "style": "IPY_MODEL_7870d0fefee448f28c157ec23c69cf98",
            "value": " 768/768 [00:00&lt;00:00, 10.1kB/s]"
          }
        },
        "b8e22434d8dd46fba2bcac0b2e15d9d5": {
          "model_module": "@jupyter-widgets/base",
          "model_name": "LayoutModel",
          "model_module_version": "1.2.0",
          "state": {
            "_model_module": "@jupyter-widgets/base",
            "_model_module_version": "1.2.0",
            "_model_name": "LayoutModel",
            "_view_count": null,
            "_view_module": "@jupyter-widgets/base",
            "_view_module_version": "1.2.0",
            "_view_name": "LayoutView",
            "align_content": null,
            "align_items": null,
            "align_self": null,
            "border": null,
            "bottom": null,
            "display": null,
            "flex": null,
            "flex_flow": null,
            "grid_area": null,
            "grid_auto_columns": null,
            "grid_auto_flow": null,
            "grid_auto_rows": null,
            "grid_column": null,
            "grid_gap": null,
            "grid_row": null,
            "grid_template_areas": null,
            "grid_template_columns": null,
            "grid_template_rows": null,
            "height": null,
            "justify_content": null,
            "justify_items": null,
            "left": null,
            "margin": null,
            "max_height": null,
            "max_width": null,
            "min_height": null,
            "min_width": null,
            "object_fit": null,
            "object_position": null,
            "order": null,
            "overflow": null,
            "overflow_x": null,
            "overflow_y": null,
            "padding": null,
            "right": null,
            "top": null,
            "visibility": null,
            "width": null
          }
        },
        "146c293b048a43b2b5d8fb1bdb62a597": {
          "model_module": "@jupyter-widgets/base",
          "model_name": "LayoutModel",
          "model_module_version": "1.2.0",
          "state": {
            "_model_module": "@jupyter-widgets/base",
            "_model_module_version": "1.2.0",
            "_model_name": "LayoutModel",
            "_view_count": null,
            "_view_module": "@jupyter-widgets/base",
            "_view_module_version": "1.2.0",
            "_view_name": "LayoutView",
            "align_content": null,
            "align_items": null,
            "align_self": null,
            "border": null,
            "bottom": null,
            "display": null,
            "flex": null,
            "flex_flow": null,
            "grid_area": null,
            "grid_auto_columns": null,
            "grid_auto_flow": null,
            "grid_auto_rows": null,
            "grid_column": null,
            "grid_gap": null,
            "grid_row": null,
            "grid_template_areas": null,
            "grid_template_columns": null,
            "grid_template_rows": null,
            "height": null,
            "justify_content": null,
            "justify_items": null,
            "left": null,
            "margin": null,
            "max_height": null,
            "max_width": null,
            "min_height": null,
            "min_width": null,
            "object_fit": null,
            "object_position": null,
            "order": null,
            "overflow": null,
            "overflow_x": null,
            "overflow_y": null,
            "padding": null,
            "right": null,
            "top": null,
            "visibility": null,
            "width": null
          }
        },
        "e8893048dfca4464a43ab280c5fc06a6": {
          "model_module": "@jupyter-widgets/controls",
          "model_name": "DescriptionStyleModel",
          "model_module_version": "1.5.0",
          "state": {
            "_model_module": "@jupyter-widgets/controls",
            "_model_module_version": "1.5.0",
            "_model_name": "DescriptionStyleModel",
            "_view_count": null,
            "_view_module": "@jupyter-widgets/base",
            "_view_module_version": "1.2.0",
            "_view_name": "StyleView",
            "description_width": ""
          }
        },
        "393638f79110438cb6707068e7f29d75": {
          "model_module": "@jupyter-widgets/base",
          "model_name": "LayoutModel",
          "model_module_version": "1.2.0",
          "state": {
            "_model_module": "@jupyter-widgets/base",
            "_model_module_version": "1.2.0",
            "_model_name": "LayoutModel",
            "_view_count": null,
            "_view_module": "@jupyter-widgets/base",
            "_view_module_version": "1.2.0",
            "_view_name": "LayoutView",
            "align_content": null,
            "align_items": null,
            "align_self": null,
            "border": null,
            "bottom": null,
            "display": null,
            "flex": null,
            "flex_flow": null,
            "grid_area": null,
            "grid_auto_columns": null,
            "grid_auto_flow": null,
            "grid_auto_rows": null,
            "grid_column": null,
            "grid_gap": null,
            "grid_row": null,
            "grid_template_areas": null,
            "grid_template_columns": null,
            "grid_template_rows": null,
            "height": null,
            "justify_content": null,
            "justify_items": null,
            "left": null,
            "margin": null,
            "max_height": null,
            "max_width": null,
            "min_height": null,
            "min_width": null,
            "object_fit": null,
            "object_position": null,
            "order": null,
            "overflow": null,
            "overflow_x": null,
            "overflow_y": null,
            "padding": null,
            "right": null,
            "top": null,
            "visibility": null,
            "width": null
          }
        },
        "d6e1a9daaa194dbdb58fff5e54e85a2f": {
          "model_module": "@jupyter-widgets/controls",
          "model_name": "ProgressStyleModel",
          "model_module_version": "1.5.0",
          "state": {
            "_model_module": "@jupyter-widgets/controls",
            "_model_module_version": "1.5.0",
            "_model_name": "ProgressStyleModel",
            "_view_count": null,
            "_view_module": "@jupyter-widgets/base",
            "_view_module_version": "1.2.0",
            "_view_name": "StyleView",
            "bar_color": null,
            "description_width": ""
          }
        },
        "183bcc04153440beaf4efc6042395299": {
          "model_module": "@jupyter-widgets/base",
          "model_name": "LayoutModel",
          "model_module_version": "1.2.0",
          "state": {
            "_model_module": "@jupyter-widgets/base",
            "_model_module_version": "1.2.0",
            "_model_name": "LayoutModel",
            "_view_count": null,
            "_view_module": "@jupyter-widgets/base",
            "_view_module_version": "1.2.0",
            "_view_name": "LayoutView",
            "align_content": null,
            "align_items": null,
            "align_self": null,
            "border": null,
            "bottom": null,
            "display": null,
            "flex": null,
            "flex_flow": null,
            "grid_area": null,
            "grid_auto_columns": null,
            "grid_auto_flow": null,
            "grid_auto_rows": null,
            "grid_column": null,
            "grid_gap": null,
            "grid_row": null,
            "grid_template_areas": null,
            "grid_template_columns": null,
            "grid_template_rows": null,
            "height": null,
            "justify_content": null,
            "justify_items": null,
            "left": null,
            "margin": null,
            "max_height": null,
            "max_width": null,
            "min_height": null,
            "min_width": null,
            "object_fit": null,
            "object_position": null,
            "order": null,
            "overflow": null,
            "overflow_x": null,
            "overflow_y": null,
            "padding": null,
            "right": null,
            "top": null,
            "visibility": null,
            "width": null
          }
        },
        "7870d0fefee448f28c157ec23c69cf98": {
          "model_module": "@jupyter-widgets/controls",
          "model_name": "DescriptionStyleModel",
          "model_module_version": "1.5.0",
          "state": {
            "_model_module": "@jupyter-widgets/controls",
            "_model_module_version": "1.5.0",
            "_model_name": "DescriptionStyleModel",
            "_view_count": null,
            "_view_module": "@jupyter-widgets/base",
            "_view_module_version": "1.2.0",
            "_view_name": "StyleView",
            "description_width": ""
          }
        },
        "3c74e982fe0343a882c17be3c6e7e37a": {
          "model_module": "@jupyter-widgets/controls",
          "model_name": "HBoxModel",
          "model_module_version": "1.5.0",
          "state": {
            "_dom_classes": [],
            "_model_module": "@jupyter-widgets/controls",
            "_model_module_version": "1.5.0",
            "_model_name": "HBoxModel",
            "_view_count": null,
            "_view_module": "@jupyter-widgets/controls",
            "_view_module_version": "1.5.0",
            "_view_name": "HBoxView",
            "box_style": "",
            "children": [
              "IPY_MODEL_18d44bb9e5bf4da58ca0d93c8eb763db",
              "IPY_MODEL_002f1a95b5514af0b4fee2ecf3085e88",
              "IPY_MODEL_285906c841bc474799f1c154610a7195"
            ],
            "layout": "IPY_MODEL_23bbc18550b34cb8af6eeea0b29cd7e7"
          }
        },
        "18d44bb9e5bf4da58ca0d93c8eb763db": {
          "model_module": "@jupyter-widgets/controls",
          "model_name": "HTMLModel",
          "model_module_version": "1.5.0",
          "state": {
            "_dom_classes": [],
            "_model_module": "@jupyter-widgets/controls",
            "_model_module_version": "1.5.0",
            "_model_name": "HTMLModel",
            "_view_count": null,
            "_view_module": "@jupyter-widgets/controls",
            "_view_module_version": "1.5.0",
            "_view_name": "HTMLView",
            "description": "",
            "description_tooltip": null,
            "layout": "IPY_MODEL_dee6363df39b449fa793a25e25c2341a",
            "placeholder": "​",
            "style": "IPY_MODEL_5d4aa62c27b24eaba4ad46038649486b",
            "value": "pytorch_model.bin: 100%"
          }
        },
        "002f1a95b5514af0b4fee2ecf3085e88": {
          "model_module": "@jupyter-widgets/controls",
          "model_name": "FloatProgressModel",
          "model_module_version": "1.5.0",
          "state": {
            "_dom_classes": [],
            "_model_module": "@jupyter-widgets/controls",
            "_model_module_version": "1.5.0",
            "_model_name": "FloatProgressModel",
            "_view_count": null,
            "_view_module": "@jupyter-widgets/controls",
            "_view_module_version": "1.5.0",
            "_view_name": "ProgressView",
            "bar_style": "success",
            "description": "",
            "description_tooltip": null,
            "layout": "IPY_MODEL_cce637a12a4e40b1bb64e00cea394d4a",
            "max": 445800957,
            "min": 0,
            "orientation": "horizontal",
            "style": "IPY_MODEL_1b47d03b80f54fa2b1041e28a7df724a",
            "value": 445800957
          }
        },
        "285906c841bc474799f1c154610a7195": {
          "model_module": "@jupyter-widgets/controls",
          "model_name": "HTMLModel",
          "model_module_version": "1.5.0",
          "state": {
            "_dom_classes": [],
            "_model_module": "@jupyter-widgets/controls",
            "_model_module_version": "1.5.0",
            "_model_name": "HTMLModel",
            "_view_count": null,
            "_view_module": "@jupyter-widgets/controls",
            "_view_module_version": "1.5.0",
            "_view_name": "HTMLView",
            "description": "",
            "description_tooltip": null,
            "layout": "IPY_MODEL_a4ce2012238644abb0b2ae014da3b7ac",
            "placeholder": "​",
            "style": "IPY_MODEL_c64f4baae7d840e8ad3175e52716c3f7",
            "value": " 446M/446M [00:06&lt;00:00, 80.9MB/s]"
          }
        },
        "23bbc18550b34cb8af6eeea0b29cd7e7": {
          "model_module": "@jupyter-widgets/base",
          "model_name": "LayoutModel",
          "model_module_version": "1.2.0",
          "state": {
            "_model_module": "@jupyter-widgets/base",
            "_model_module_version": "1.2.0",
            "_model_name": "LayoutModel",
            "_view_count": null,
            "_view_module": "@jupyter-widgets/base",
            "_view_module_version": "1.2.0",
            "_view_name": "LayoutView",
            "align_content": null,
            "align_items": null,
            "align_self": null,
            "border": null,
            "bottom": null,
            "display": null,
            "flex": null,
            "flex_flow": null,
            "grid_area": null,
            "grid_auto_columns": null,
            "grid_auto_flow": null,
            "grid_auto_rows": null,
            "grid_column": null,
            "grid_gap": null,
            "grid_row": null,
            "grid_template_areas": null,
            "grid_template_columns": null,
            "grid_template_rows": null,
            "height": null,
            "justify_content": null,
            "justify_items": null,
            "left": null,
            "margin": null,
            "max_height": null,
            "max_width": null,
            "min_height": null,
            "min_width": null,
            "object_fit": null,
            "object_position": null,
            "order": null,
            "overflow": null,
            "overflow_x": null,
            "overflow_y": null,
            "padding": null,
            "right": null,
            "top": null,
            "visibility": null,
            "width": null
          }
        },
        "dee6363df39b449fa793a25e25c2341a": {
          "model_module": "@jupyter-widgets/base",
          "model_name": "LayoutModel",
          "model_module_version": "1.2.0",
          "state": {
            "_model_module": "@jupyter-widgets/base",
            "_model_module_version": "1.2.0",
            "_model_name": "LayoutModel",
            "_view_count": null,
            "_view_module": "@jupyter-widgets/base",
            "_view_module_version": "1.2.0",
            "_view_name": "LayoutView",
            "align_content": null,
            "align_items": null,
            "align_self": null,
            "border": null,
            "bottom": null,
            "display": null,
            "flex": null,
            "flex_flow": null,
            "grid_area": null,
            "grid_auto_columns": null,
            "grid_auto_flow": null,
            "grid_auto_rows": null,
            "grid_column": null,
            "grid_gap": null,
            "grid_row": null,
            "grid_template_areas": null,
            "grid_template_columns": null,
            "grid_template_rows": null,
            "height": null,
            "justify_content": null,
            "justify_items": null,
            "left": null,
            "margin": null,
            "max_height": null,
            "max_width": null,
            "min_height": null,
            "min_width": null,
            "object_fit": null,
            "object_position": null,
            "order": null,
            "overflow": null,
            "overflow_x": null,
            "overflow_y": null,
            "padding": null,
            "right": null,
            "top": null,
            "visibility": null,
            "width": null
          }
        },
        "5d4aa62c27b24eaba4ad46038649486b": {
          "model_module": "@jupyter-widgets/controls",
          "model_name": "DescriptionStyleModel",
          "model_module_version": "1.5.0",
          "state": {
            "_model_module": "@jupyter-widgets/controls",
            "_model_module_version": "1.5.0",
            "_model_name": "DescriptionStyleModel",
            "_view_count": null,
            "_view_module": "@jupyter-widgets/base",
            "_view_module_version": "1.2.0",
            "_view_name": "StyleView",
            "description_width": ""
          }
        },
        "cce637a12a4e40b1bb64e00cea394d4a": {
          "model_module": "@jupyter-widgets/base",
          "model_name": "LayoutModel",
          "model_module_version": "1.2.0",
          "state": {
            "_model_module": "@jupyter-widgets/base",
            "_model_module_version": "1.2.0",
            "_model_name": "LayoutModel",
            "_view_count": null,
            "_view_module": "@jupyter-widgets/base",
            "_view_module_version": "1.2.0",
            "_view_name": "LayoutView",
            "align_content": null,
            "align_items": null,
            "align_self": null,
            "border": null,
            "bottom": null,
            "display": null,
            "flex": null,
            "flex_flow": null,
            "grid_area": null,
            "grid_auto_columns": null,
            "grid_auto_flow": null,
            "grid_auto_rows": null,
            "grid_column": null,
            "grid_gap": null,
            "grid_row": null,
            "grid_template_areas": null,
            "grid_template_columns": null,
            "grid_template_rows": null,
            "height": null,
            "justify_content": null,
            "justify_items": null,
            "left": null,
            "margin": null,
            "max_height": null,
            "max_width": null,
            "min_height": null,
            "min_width": null,
            "object_fit": null,
            "object_position": null,
            "order": null,
            "overflow": null,
            "overflow_x": null,
            "overflow_y": null,
            "padding": null,
            "right": null,
            "top": null,
            "visibility": null,
            "width": null
          }
        },
        "1b47d03b80f54fa2b1041e28a7df724a": {
          "model_module": "@jupyter-widgets/controls",
          "model_name": "ProgressStyleModel",
          "model_module_version": "1.5.0",
          "state": {
            "_model_module": "@jupyter-widgets/controls",
            "_model_module_version": "1.5.0",
            "_model_name": "ProgressStyleModel",
            "_view_count": null,
            "_view_module": "@jupyter-widgets/base",
            "_view_module_version": "1.2.0",
            "_view_name": "StyleView",
            "bar_color": null,
            "description_width": ""
          }
        },
        "a4ce2012238644abb0b2ae014da3b7ac": {
          "model_module": "@jupyter-widgets/base",
          "model_name": "LayoutModel",
          "model_module_version": "1.2.0",
          "state": {
            "_model_module": "@jupyter-widgets/base",
            "_model_module_version": "1.2.0",
            "_model_name": "LayoutModel",
            "_view_count": null,
            "_view_module": "@jupyter-widgets/base",
            "_view_module_version": "1.2.0",
            "_view_name": "LayoutView",
            "align_content": null,
            "align_items": null,
            "align_self": null,
            "border": null,
            "bottom": null,
            "display": null,
            "flex": null,
            "flex_flow": null,
            "grid_area": null,
            "grid_auto_columns": null,
            "grid_auto_flow": null,
            "grid_auto_rows": null,
            "grid_column": null,
            "grid_gap": null,
            "grid_row": null,
            "grid_template_areas": null,
            "grid_template_columns": null,
            "grid_template_rows": null,
            "height": null,
            "justify_content": null,
            "justify_items": null,
            "left": null,
            "margin": null,
            "max_height": null,
            "max_width": null,
            "min_height": null,
            "min_width": null,
            "object_fit": null,
            "object_position": null,
            "order": null,
            "overflow": null,
            "overflow_x": null,
            "overflow_y": null,
            "padding": null,
            "right": null,
            "top": null,
            "visibility": null,
            "width": null
          }
        },
        "c64f4baae7d840e8ad3175e52716c3f7": {
          "model_module": "@jupyter-widgets/controls",
          "model_name": "DescriptionStyleModel",
          "model_module_version": "1.5.0",
          "state": {
            "_model_module": "@jupyter-widgets/controls",
            "_model_module_version": "1.5.0",
            "_model_name": "DescriptionStyleModel",
            "_view_count": null,
            "_view_module": "@jupyter-widgets/base",
            "_view_module_version": "1.2.0",
            "_view_name": "StyleView",
            "description_width": ""
          }
        }
      }
    }
  },
  "nbformat": 4,
  "nbformat_minor": 5
}